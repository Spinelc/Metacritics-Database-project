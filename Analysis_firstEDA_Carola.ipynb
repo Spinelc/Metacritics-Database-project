{
 "cells": [
  {
   "cell_type": "code",
   "execution_count": 1,
   "id": "initial_id",
   "metadata": {
    "collapsed": true,
    "ExecuteTime": {
     "end_time": "2023-09-18T13:08:18.339918100Z",
     "start_time": "2023-09-18T13:08:14.445064500Z"
    }
   },
   "outputs": [
    {
     "name": "stdout",
     "output_type": "stream",
     "text": [
      "<class 'pandas.core.frame.DataFrame'>\n",
      "RangeIndex: 11364 entries, 0 to 11363\n",
      "Data columns (total 13 columns):\n",
      " #   Column     Non-Null Count  Dtype         \n",
      "---  ------     --------------  -----         \n",
      " 0   url        11364 non-null  object        \n",
      " 1   title      11364 non-null  object        \n",
      " 2   studio     11014 non-null  object        \n",
      " 3   rating     10297 non-null  object        \n",
      " 4   runtime    11109 non-null  float64       \n",
      " 5   cast       7662 non-null   object        \n",
      " 6   director   11350 non-null  object        \n",
      " 7   genre      11344 non-null  object        \n",
      " 8   summary    5467 non-null   object        \n",
      " 9   awards     4387 non-null   object        \n",
      " 10  metascore  11364 non-null  int64         \n",
      " 11  userscore  9259 non-null   float64       \n",
      " 12  RelDate    11364 non-null  datetime64[ns]\n",
      "dtypes: datetime64[ns](1), float64(2), int64(1), object(9)\n",
      "memory usage: 1.1+ MB\n",
      "None\n",
      "Oldest Movie Release Date: 2000-01-01\n",
      "Newest Movie Release Date: 2021-12-29\n"
     ]
    }
   ],
   "source": [
    "#everything in this file has been written by Carola\n",
    "import pandas as pd\n",
    "\n",
    "#reading meta_clean dataset\n",
    "meta_clean = pd.read_excel(r\"data/metaClean43Brightspace.xlsx\")\n",
    "print(meta_clean.info())\n",
    "\n",
    "#Finding when oldest and newest movie were released for Report \n",
    "oldest_date = meta_clean['RelDate'].min()\n",
    "newest_date = meta_clean['RelDate'].max()\n",
    "\n",
    "print(\"Oldest Movie Release Date:\", oldest_date.strftime('%Y-%m-%d'))\n",
    "print(\"Newest Movie Release Date:\", newest_date.strftime('%Y-%m-%d'))"
   ]
  }
 ],
 "metadata": {
  "kernelspec": {
   "display_name": "Python 3",
   "language": "python",
   "name": "python3"
  },
  "language_info": {
   "codemirror_mode": {
    "name": "ipython",
    "version": 2
   },
   "file_extension": ".py",
   "mimetype": "text/x-python",
   "name": "python",
   "nbconvert_exporter": "python",
   "pygments_lexer": "ipython2",
   "version": "2.7.6"
  }
 },
 "nbformat": 4,
 "nbformat_minor": 5
}
