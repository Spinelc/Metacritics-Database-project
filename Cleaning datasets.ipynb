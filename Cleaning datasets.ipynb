{
 "cells": [
  {
   "cell_type": "markdown",
   "source": [
    "# Cleaning all 4 (excel) datasets in 4 steps"
   ],
   "metadata": {
    "collapsed": false
   },
   "id": "975cf2a9c3983bb3"
  },
  {
   "cell_type": "code",
   "execution_count": 74,
   "outputs": [],
   "source": [
    "import pandas as pd\n",
    "import numpy as np\n",
    "\n",
    "from fuzzywuzzy import fuzz\n",
    "from fuzzywuzzy import process"
   ],
   "metadata": {
    "collapsed": false,
    "ExecuteTime": {
     "end_time": "2023-09-21T11:36:40.902768200Z",
     "start_time": "2023-09-21T11:36:40.105555200Z"
    }
   },
   "id": "98c8de6127d7f24e"
  },
  {
   "cell_type": "markdown",
   "source": [
    "## 1. Cleaning the Sales dataset"
   ],
   "metadata": {
    "collapsed": false
   },
   "id": "89953fde6bfbd8ac"
  },
  {
   "cell_type": "markdown",
   "source": [],
   "metadata": {
    "collapsed": false
   },
   "id": "73f096e59281e9cb"
  },
  {
   "cell_type": "code",
   "execution_count": 75,
   "outputs": [
    {
     "data": {
      "text/plain": "'\\nThe problem arose that we wanted to enter the csv file into pgAdmin as a database. \\nWhile importing the csv file, multiple errors arose that were not clear to understand. \\nThis notebook serves as a document to understand the data types in the columns and to clean the data.\\n\\n'"
     },
     "execution_count": 75,
     "metadata": {},
     "output_type": "execute_result"
    }
   ],
   "source": [
    "\"\"\"\n",
    "The problem arose that we wanted to enter the csv file into pgAdmin as a database. \n",
    "While importing the csv file, multiple errors arose that were not clear to understand. \n",
    "This notebook serves as a document to understand the data types in the columns and to clean the data.\n",
    "\n",
    "\"\"\""
   ],
   "metadata": {
    "collapsed": false,
    "ExecuteTime": {
     "end_time": "2023-09-21T11:36:41.977894700Z",
     "start_time": "2023-09-21T11:36:40.143453400Z"
    }
   },
   "id": "a1fd67927e5078bc"
  },
  {
   "cell_type": "code",
   "execution_count": 76,
   "outputs": [
    {
     "name": "stdout",
     "output_type": "stream",
     "text": [
      "<class 'pandas.core.frame.DataFrame'>\n",
      "RangeIndex: 30612 entries, 0 to 30611\n",
      "Data columns (total 6 columns):\n",
      " #   Column                Non-Null Count  Dtype  \n",
      "---  ------                --------------  -----  \n",
      " 0   year                  30612 non-null  int64  \n",
      " 1   release_date          30612 non-null  object \n",
      " 2   title                 30604 non-null  object \n",
      " 3   worldwide_box_office  21575 non-null  float64\n",
      " 4   production_budget     4480 non-null   float64\n",
      " 5   url                   30612 non-null  object \n",
      "dtypes: float64(2), int64(1), object(3)\n",
      "memory usage: 1.4+ MB\n",
      "None\n"
     ]
    },
    {
     "data": {
      "text/plain": "   year     release_date                title  worldwide_box_office  \\\n0  2000      January 1st         Bakha Satang               76576.0   \n1  2001     January 12th            Antitrust            17865209.0   \n2  2000     January 28th             Santitos                   NaN   \n3  2002  2002 (Wide) by   Frank McKlusky C.I.                   NaN   \n4  2002     January 25th   A Walk to Remember            46060861.0   \n\n   production_budget                                                url  \n0                NaN  https://www.the-numbers.com/movie/Bakha-Satang...  \n1         30000000.0        https://www.the-numbers.com/movie/Antitrust  \n2                NaN         https://www.the-numbers.com/movie/Santitos  \n3                NaN  https://www.the-numbers.com/movie/Frank-McKlus...  \n4         11000000.0  https://www.the-numbers.com/movie/Walk-to-Reme...  ",
      "text/html": "<div>\n<style scoped>\n    .dataframe tbody tr th:only-of-type {\n        vertical-align: middle;\n    }\n\n    .dataframe tbody tr th {\n        vertical-align: top;\n    }\n\n    .dataframe thead th {\n        text-align: right;\n    }\n</style>\n<table border=\"1\" class=\"dataframe\">\n  <thead>\n    <tr style=\"text-align: right;\">\n      <th></th>\n      <th>year</th>\n      <th>release_date</th>\n      <th>title</th>\n      <th>worldwide_box_office</th>\n      <th>production_budget</th>\n      <th>url</th>\n    </tr>\n  </thead>\n  <tbody>\n    <tr>\n      <th>0</th>\n      <td>2000</td>\n      <td>January 1st</td>\n      <td>Bakha Satang</td>\n      <td>76576.0</td>\n      <td>NaN</td>\n      <td>https://www.the-numbers.com/movie/Bakha-Satang...</td>\n    </tr>\n    <tr>\n      <th>1</th>\n      <td>2001</td>\n      <td>January 12th</td>\n      <td>Antitrust</td>\n      <td>17865209.0</td>\n      <td>30000000.0</td>\n      <td>https://www.the-numbers.com/movie/Antitrust</td>\n    </tr>\n    <tr>\n      <th>2</th>\n      <td>2000</td>\n      <td>January 28th</td>\n      <td>Santitos</td>\n      <td>NaN</td>\n      <td>NaN</td>\n      <td>https://www.the-numbers.com/movie/Santitos</td>\n    </tr>\n    <tr>\n      <th>3</th>\n      <td>2002</td>\n      <td>2002 (Wide) by</td>\n      <td>Frank McKlusky C.I.</td>\n      <td>NaN</td>\n      <td>NaN</td>\n      <td>https://www.the-numbers.com/movie/Frank-McKlus...</td>\n    </tr>\n    <tr>\n      <th>4</th>\n      <td>2002</td>\n      <td>January 25th</td>\n      <td>A Walk to Remember</td>\n      <td>46060861.0</td>\n      <td>11000000.0</td>\n      <td>https://www.the-numbers.com/movie/Walk-to-Reme...</td>\n    </tr>\n  </tbody>\n</table>\n</div>"
     },
     "execution_count": 76,
     "metadata": {},
     "output_type": "execute_result"
    }
   ],
   "source": [
    "# Import the excel file and look into the info\n",
    "# Use the 'r' command to convert the string to a raw string, otherwise FileNotFoud errors may occur.\n",
    "\n",
    "movie_sales = pd.read_excel(r\"data\\sales_dc.xlsx\",\n",
    "                            usecols=['year', 'release_date', 'title', 'worldwide_box_office', 'production_budget', 'url'])\n",
    "print(movie_sales.info())\n",
    "# Narrow the search down to only show the datatypes\n",
    "\n",
    "movie_sales.dtypes\n",
    "# Trying to get a look at the date frame\n",
    "\n",
    "movie_sales.head()"
   ],
   "metadata": {
    "collapsed": false,
    "ExecuteTime": {
     "end_time": "2023-09-21T11:36:51.158470200Z",
     "start_time": "2023-09-21T11:36:40.154770100Z"
    }
   },
   "id": "7c3501e9b05172f2"
  },
  {
   "cell_type": "code",
   "execution_count": 76,
   "outputs": [],
   "source": [],
   "metadata": {
    "collapsed": false,
    "ExecuteTime": {
     "end_time": "2023-09-21T11:36:51.170415500Z",
     "start_time": "2023-09-21T11:36:51.161467300Z"
    }
   },
   "id": "dcc46a13c6b6bef5"
  },
  {
   "cell_type": "code",
   "execution_count": 77,
   "outputs": [],
   "source": [
    "movie_sales['year'] = movie_sales['year'].fillna(0).astype('int')"
   ],
   "metadata": {
    "collapsed": false,
    "ExecuteTime": {
     "end_time": "2023-09-21T11:36:51.248113900Z",
     "start_time": "2023-09-21T11:36:51.176397Z"
    }
   },
   "id": "4a9c6165687b072a"
  },
  {
   "cell_type": "markdown",
   "source": [
    "```\n",
    "import pandas as pd\n",
    "\n",
    "data = {'Year': [2023, 2022, 2021],\n",
    "        'MonthDay': ['January 31st', 'February 15th', 'March 10th']}\n",
    "\n",
    "df = pd.DataFrame(data)\n",
    "\n",
    "# Extract the day and month parts from the 'MonthDay' column\n",
    "df['Month'] = df['MonthDay'].str.extract(r'(\\w+) \\d{1,2}')\n",
    "df['Day'] = df['MonthDay'].str.extract(r'(\\d{1,2})')\n",
    "\n",
    "# Combine 'Year', 'Month', and 'Day' columns into a new 'Date' column\n",
    "df['Date'] = pd.to_datetime(df['Year'].astype(str) + ' ' + df['Month'] + ' ' + df['Day'], format='%Y %B %d')\n",
    "\n",
    "# Drop the intermediate columns if desired\n",
    "df.drop(['Year', 'MonthDay', 'Month', 'Day'], axis=1, inplace=True)\n",
    "\n",
    "print(df)\n",
    "```"
   ],
   "metadata": {
    "collapsed": false
   },
   "id": "9fb45b2ff806d2de"
  },
  {
   "cell_type": "code",
   "execution_count": 78,
   "outputs": [
    {
     "data": {
      "text/plain": "       year    month day\n0      2000  January   1\n1      2001  January  12\n2      2000  January  28\n3      2002      NaN  20\n4      2002  January  25\n...     ...      ...  ..\n30607  2021  January   1\n30608  2021    March   5\n30609  2021  January   1\n30610  2021      May  21\n30611  2021  January   1\n\n[30612 rows x 3 columns]",
      "text/html": "<div>\n<style scoped>\n    .dataframe tbody tr th:only-of-type {\n        vertical-align: middle;\n    }\n\n    .dataframe tbody tr th {\n        vertical-align: top;\n    }\n\n    .dataframe thead th {\n        text-align: right;\n    }\n</style>\n<table border=\"1\" class=\"dataframe\">\n  <thead>\n    <tr style=\"text-align: right;\">\n      <th></th>\n      <th>year</th>\n      <th>month</th>\n      <th>day</th>\n    </tr>\n  </thead>\n  <tbody>\n    <tr>\n      <th>0</th>\n      <td>2000</td>\n      <td>January</td>\n      <td>1</td>\n    </tr>\n    <tr>\n      <th>1</th>\n      <td>2001</td>\n      <td>January</td>\n      <td>12</td>\n    </tr>\n    <tr>\n      <th>2</th>\n      <td>2000</td>\n      <td>January</td>\n      <td>28</td>\n    </tr>\n    <tr>\n      <th>3</th>\n      <td>2002</td>\n      <td>NaN</td>\n      <td>20</td>\n    </tr>\n    <tr>\n      <th>4</th>\n      <td>2002</td>\n      <td>January</td>\n      <td>25</td>\n    </tr>\n    <tr>\n      <th>...</th>\n      <td>...</td>\n      <td>...</td>\n      <td>...</td>\n    </tr>\n    <tr>\n      <th>30607</th>\n      <td>2021</td>\n      <td>January</td>\n      <td>1</td>\n    </tr>\n    <tr>\n      <th>30608</th>\n      <td>2021</td>\n      <td>March</td>\n      <td>5</td>\n    </tr>\n    <tr>\n      <th>30609</th>\n      <td>2021</td>\n      <td>January</td>\n      <td>1</td>\n    </tr>\n    <tr>\n      <th>30610</th>\n      <td>2021</td>\n      <td>May</td>\n      <td>21</td>\n    </tr>\n    <tr>\n      <th>30611</th>\n      <td>2021</td>\n      <td>January</td>\n      <td>1</td>\n    </tr>\n  </tbody>\n</table>\n<p>30612 rows × 3 columns</p>\n</div>"
     },
     "execution_count": 78,
     "metadata": {},
     "output_type": "execute_result"
    }
   ],
   "source": [
    "movie_sales['month'] = movie_sales['release_date'].str.extract(r'(\\w+) \\d{1,2}')\n",
    "movie_sales['day'] = movie_sales['release_date'].str.extract(r'(\\d{1,2})')\n",
    "\n",
    "movie_sales[['year', 'month', 'day']]\n"
   ],
   "metadata": {
    "collapsed": false,
    "ExecuteTime": {
     "end_time": "2023-09-21T11:36:52.339299600Z",
     "start_time": "2023-09-21T11:36:51.196268100Z"
    }
   },
   "id": "38436b46fa506f57"
  },
  {
   "cell_type": "code",
   "execution_count": 79,
   "outputs": [
    {
     "data": {
      "text/plain": "6087    2017-06-30\n28537   2020-02-14\n21531   2006-03-17\n3146    2016-10-07\n27645   2019-04-05\nName: release_date, dtype: datetime64[ns]"
     },
     "execution_count": 79,
     "metadata": {},
     "output_type": "execute_result"
    }
   ],
   "source": [
    "movie_sales['release_date'] = \\\n",
    "pd.to_datetime(\n",
    "    (movie_sales['year'].astype('str') + ' ' + movie_sales['month'] + ' ' + movie_sales['day']),\n",
    "    format='%Y %B %d',\n",
    "    errors='coerce')\n",
    "\n",
    "movie_sales['release_date'].sample(5)"
   ],
   "metadata": {
    "collapsed": false,
    "ExecuteTime": {
     "end_time": "2023-09-21T11:36:52.860390600Z",
     "start_time": "2023-09-21T11:36:52.351265Z"
    }
   },
   "id": "6106ae5fa068f7fe"
  },
  {
   "cell_type": "code",
   "execution_count": 80,
   "outputs": [
    {
     "data": {
      "text/plain": "                 movie_id  year release_date                title  \\\n0  bakha-satang-(s-korea)  2000   2000-01-01         Bakha Satang   \n1               antitrust  2001   2001-01-12            Antitrust   \n2                santitos  2000   2000-01-28             Santitos   \n3      frank-mcklusky-c-i  2002          NaT  Frank McKlusky C.I.   \n4      walk-to-remember-a  2002   2002-01-25   A Walk to Remember   \n\n   worldwide_box_office  production_budget  \\\n0               76576.0                NaN   \n1            17865209.0         30000000.0   \n2                   NaN                NaN   \n3                   NaN                NaN   \n4            46060861.0         11000000.0   \n\n                                                 url  \n0  https://www.the-numbers.com/movie/Bakha-Satang...  \n1        https://www.the-numbers.com/movie/Antitrust  \n2         https://www.the-numbers.com/movie/Santitos  \n3  https://www.the-numbers.com/movie/Frank-McKlus...  \n4  https://www.the-numbers.com/movie/Walk-to-Reme...  ",
      "text/html": "<div>\n<style scoped>\n    .dataframe tbody tr th:only-of-type {\n        vertical-align: middle;\n    }\n\n    .dataframe tbody tr th {\n        vertical-align: top;\n    }\n\n    .dataframe thead th {\n        text-align: right;\n    }\n</style>\n<table border=\"1\" class=\"dataframe\">\n  <thead>\n    <tr style=\"text-align: right;\">\n      <th></th>\n      <th>movie_id</th>\n      <th>year</th>\n      <th>release_date</th>\n      <th>title</th>\n      <th>worldwide_box_office</th>\n      <th>production_budget</th>\n      <th>url</th>\n    </tr>\n  </thead>\n  <tbody>\n    <tr>\n      <th>0</th>\n      <td>bakha-satang-(s-korea)</td>\n      <td>2000</td>\n      <td>2000-01-01</td>\n      <td>Bakha Satang</td>\n      <td>76576.0</td>\n      <td>NaN</td>\n      <td>https://www.the-numbers.com/movie/Bakha-Satang...</td>\n    </tr>\n    <tr>\n      <th>1</th>\n      <td>antitrust</td>\n      <td>2001</td>\n      <td>2001-01-12</td>\n      <td>Antitrust</td>\n      <td>17865209.0</td>\n      <td>30000000.0</td>\n      <td>https://www.the-numbers.com/movie/Antitrust</td>\n    </tr>\n    <tr>\n      <th>2</th>\n      <td>santitos</td>\n      <td>2000</td>\n      <td>2000-01-28</td>\n      <td>Santitos</td>\n      <td>NaN</td>\n      <td>NaN</td>\n      <td>https://www.the-numbers.com/movie/Santitos</td>\n    </tr>\n    <tr>\n      <th>3</th>\n      <td>frank-mcklusky-c-i</td>\n      <td>2002</td>\n      <td>NaT</td>\n      <td>Frank McKlusky C.I.</td>\n      <td>NaN</td>\n      <td>NaN</td>\n      <td>https://www.the-numbers.com/movie/Frank-McKlus...</td>\n    </tr>\n    <tr>\n      <th>4</th>\n      <td>walk-to-remember-a</td>\n      <td>2002</td>\n      <td>2002-01-25</td>\n      <td>A Walk to Remember</td>\n      <td>46060861.0</td>\n      <td>11000000.0</td>\n      <td>https://www.the-numbers.com/movie/Walk-to-Reme...</td>\n    </tr>\n  </tbody>\n</table>\n</div>"
     },
     "execution_count": 80,
     "metadata": {},
     "output_type": "execute_result"
    }
   ],
   "source": [
    "# Add the column movie_id based on a URL string split\n",
    "movie_sales['movie_id'] = movie_sales['url'].str.split('/').str.get(-1)\n",
    "\n",
    "# Lower case the movie_id string\n",
    "movie_sales['movie_id'] = movie_sales['movie_id'].str.lower()\n",
    "\n",
    "# Move the column to the first position (index = 0)\n",
    "firstcol = movie_sales.columns.to_list()\n",
    "firstcol = ['movie_id'] + firstcol[:-1]\n",
    "movie_sales = movie_sales[firstcol]\n",
    "\n",
    "movie_sales = movie_sales[['movie_id', 'year', 'release_date', 'title', 'worldwide_box_office', 'production_budget', 'url']]\n",
    "\n",
    "# Print updated dataframe head as an example\n",
    "movie_sales.head()\n"
   ],
   "metadata": {
    "collapsed": false,
    "ExecuteTime": {
     "end_time": "2023-09-21T11:36:52.863385500Z",
     "start_time": "2023-09-21T11:36:52.556067400Z"
    }
   },
   "id": "83b003f349a52f2d"
  },
  {
   "cell_type": "code",
   "execution_count": 81,
   "outputs": [
    {
     "data": {
      "text/plain": "                                                movie_id  year release_date  \\\n30592       life-on-denniston-plateau-(2012-new-zealand)  2021   2021-01-14   \n30593                           redemption-day-(morocco)  2021   2021-01-08   \n30594  retrospective-exhibition-of-french-new-wave-fi...  2021   2021-01-08   \n30595                             reason-i-jump-the-(uk)  2021   2021-01-08   \n30596                          mil-y-una-las-(argentina)  2021   2021-01-08   \n30597                                ji-hun-(2021-china)  2021   2021-01-08   \n30598                                some-kind-of-heaven  2021   2021-01-08   \n30599  gekijoban-bishojo-senshi-sera-mun-etanaru-part...  2021   2021-01-08   \n30600                             i-blame-society-(2021)  2021   2021-01-08   \n30601                                 average-joe-(2021)  2021   2021-01-08   \n30602                     gintama-the-final-(2021-japan)  2021   2021-01-08   \n30603                                pobaby-(2020-china)  2021   2021-01-01   \n30604                                      penguin-bloom  2021   2021-01-01   \n30605            octonauts-the-ring-of-fire-(2021-china)  2021   2021-01-01   \n30606                            sing-me-a-song-(france)  2021   2021-01-01   \n30607          jokbeoldu-sinmun-iyagi-(2020-south-korea)  2021   2021-01-01   \n30608                          my-salinger-year-(canada)  2021   2021-03-05   \n30609                     escort-vehicle-36-(2020-china)  2021   2021-01-01   \n30610                                dry-the-(australia)  2021   2021-05-21   \n30611          posledniy-bogatyr-koren-zla-(2021-russia)  2021   2021-01-01   \n\n                                                   title  \\\n30592                          Life On Denniston Plateau   \n30593                                     Redemption Day   \n30594  A retrospective exhibition of French new wave ...   \n30595                                  The Reason I Jump   \n30596                                      Las Mil y Una   \n30597                                             Ji Hun   \n30598                                Some Kind of Heaven   \n30599  GekijÃ…ï¿½ban BishÃ…ï¿½jo Senshi SÃ„â€œrÃ„ï¿½ ...   \n30600                                    I Blame Society   \n30601                                        Average Joe   \n30602                                 Gintama: The Final   \n30603                                             Pobaby   \n30604                                      Penguin Bloom   \n30605                        Octonauts: The Ring of Fire   \n30606                                     Sing Me a Song   \n30607                             Jokbeoldu sinmun iyagi   \n30608                                   My Salinger Year   \n30609                                  Escort Vehicle 36   \n30610                                            The Dry   \n30611               Posledniy bogatyr. KorenÃ¢â‚¬â„¢ Zla   \n\n       worldwide_box_office  production_budget  \\\n30592                1480.0                NaN   \n30593                 321.0                NaN   \n30594               90000.0                NaN   \n30595              103653.0                NaN   \n30596                3464.0                NaN   \n30597            17100000.0                NaN   \n30598               54864.0                NaN   \n30599                   NaN                NaN   \n30600               12547.0                NaN   \n30601                   NaN                NaN   \n30602            15775367.0                NaN   \n30603              920000.0                NaN   \n30604             6259122.0                NaN   \n30605             8437314.0                NaN   \n30606                   NaN                NaN   \n30607               12356.0                NaN   \n30608              968849.0                NaN   \n30609              240000.0                NaN   \n30610            17351923.0                NaN   \n30611            33396899.0                NaN   \n\n                                                     url  \n30592  https://www.the-numbers.com/movie/Life-On-Denn...  \n30593  https://www.the-numbers.com/movie/Redemption-D...  \n30594  https://www.the-numbers.com/movie/retrospectiv...  \n30595  https://www.the-numbers.com/movie/Reason-I-Jum...  \n30596  https://www.the-numbers.com/movie/Mil-y-Una-La...  \n30597  https://www.the-numbers.com/movie/Ji-Hun-(2021...  \n30598  https://www.the-numbers.com/movie/Some-Kind-of...  \n30599  https://www.the-numbers.com/movie/Gekijoban-Bi...  \n30600  https://www.the-numbers.com/movie/I-Blame-Soci...  \n30601  https://www.the-numbers.com/movie/Average-Joe-...  \n30602  https://www.the-numbers.com/movie/Gintama-The-...  \n30603  https://www.the-numbers.com/movie/Pobaby-(2020...  \n30604    https://www.the-numbers.com/movie/Penguin-Bloom  \n30605  https://www.the-numbers.com/movie/Octonauts-Th...  \n30606  https://www.the-numbers.com/movie/Sing-Me-a-So...  \n30607  https://www.the-numbers.com/movie/Jokbeoldu-si...  \n30608  https://www.the-numbers.com/movie/My-Salinger-...  \n30609  https://www.the-numbers.com/movie/Escort-Vehic...  \n30610  https://www.the-numbers.com/movie/Dry-The-(Aus...  \n30611  https://www.the-numbers.com/movie/Posledniy-bo...  ",
      "text/html": "<div>\n<style scoped>\n    .dataframe tbody tr th:only-of-type {\n        vertical-align: middle;\n    }\n\n    .dataframe tbody tr th {\n        vertical-align: top;\n    }\n\n    .dataframe thead th {\n        text-align: right;\n    }\n</style>\n<table border=\"1\" class=\"dataframe\">\n  <thead>\n    <tr style=\"text-align: right;\">\n      <th></th>\n      <th>movie_id</th>\n      <th>year</th>\n      <th>release_date</th>\n      <th>title</th>\n      <th>worldwide_box_office</th>\n      <th>production_budget</th>\n      <th>url</th>\n    </tr>\n  </thead>\n  <tbody>\n    <tr>\n      <th>30592</th>\n      <td>life-on-denniston-plateau-(2012-new-zealand)</td>\n      <td>2021</td>\n      <td>2021-01-14</td>\n      <td>Life On Denniston Plateau</td>\n      <td>1480.0</td>\n      <td>NaN</td>\n      <td>https://www.the-numbers.com/movie/Life-On-Denn...</td>\n    </tr>\n    <tr>\n      <th>30593</th>\n      <td>redemption-day-(morocco)</td>\n      <td>2021</td>\n      <td>2021-01-08</td>\n      <td>Redemption Day</td>\n      <td>321.0</td>\n      <td>NaN</td>\n      <td>https://www.the-numbers.com/movie/Redemption-D...</td>\n    </tr>\n    <tr>\n      <th>30594</th>\n      <td>retrospective-exhibition-of-french-new-wave-fi...</td>\n      <td>2021</td>\n      <td>2021-01-08</td>\n      <td>A retrospective exhibition of French new wave ...</td>\n      <td>90000.0</td>\n      <td>NaN</td>\n      <td>https://www.the-numbers.com/movie/retrospectiv...</td>\n    </tr>\n    <tr>\n      <th>30595</th>\n      <td>reason-i-jump-the-(uk)</td>\n      <td>2021</td>\n      <td>2021-01-08</td>\n      <td>The Reason I Jump</td>\n      <td>103653.0</td>\n      <td>NaN</td>\n      <td>https://www.the-numbers.com/movie/Reason-I-Jum...</td>\n    </tr>\n    <tr>\n      <th>30596</th>\n      <td>mil-y-una-las-(argentina)</td>\n      <td>2021</td>\n      <td>2021-01-08</td>\n      <td>Las Mil y Una</td>\n      <td>3464.0</td>\n      <td>NaN</td>\n      <td>https://www.the-numbers.com/movie/Mil-y-Una-La...</td>\n    </tr>\n    <tr>\n      <th>30597</th>\n      <td>ji-hun-(2021-china)</td>\n      <td>2021</td>\n      <td>2021-01-08</td>\n      <td>Ji Hun</td>\n      <td>17100000.0</td>\n      <td>NaN</td>\n      <td>https://www.the-numbers.com/movie/Ji-Hun-(2021...</td>\n    </tr>\n    <tr>\n      <th>30598</th>\n      <td>some-kind-of-heaven</td>\n      <td>2021</td>\n      <td>2021-01-08</td>\n      <td>Some Kind of Heaven</td>\n      <td>54864.0</td>\n      <td>NaN</td>\n      <td>https://www.the-numbers.com/movie/Some-Kind-of...</td>\n    </tr>\n    <tr>\n      <th>30599</th>\n      <td>gekijoban-bishojo-senshi-sera-mun-etanaru-part...</td>\n      <td>2021</td>\n      <td>2021-01-08</td>\n      <td>GekijÃ…ï¿½ban BishÃ…ï¿½jo Senshi SÃ„â€œrÃ„ï¿½ ...</td>\n      <td>NaN</td>\n      <td>NaN</td>\n      <td>https://www.the-numbers.com/movie/Gekijoban-Bi...</td>\n    </tr>\n    <tr>\n      <th>30600</th>\n      <td>i-blame-society-(2021)</td>\n      <td>2021</td>\n      <td>2021-01-08</td>\n      <td>I Blame Society</td>\n      <td>12547.0</td>\n      <td>NaN</td>\n      <td>https://www.the-numbers.com/movie/I-Blame-Soci...</td>\n    </tr>\n    <tr>\n      <th>30601</th>\n      <td>average-joe-(2021)</td>\n      <td>2021</td>\n      <td>2021-01-08</td>\n      <td>Average Joe</td>\n      <td>NaN</td>\n      <td>NaN</td>\n      <td>https://www.the-numbers.com/movie/Average-Joe-...</td>\n    </tr>\n    <tr>\n      <th>30602</th>\n      <td>gintama-the-final-(2021-japan)</td>\n      <td>2021</td>\n      <td>2021-01-08</td>\n      <td>Gintama: The Final</td>\n      <td>15775367.0</td>\n      <td>NaN</td>\n      <td>https://www.the-numbers.com/movie/Gintama-The-...</td>\n    </tr>\n    <tr>\n      <th>30603</th>\n      <td>pobaby-(2020-china)</td>\n      <td>2021</td>\n      <td>2021-01-01</td>\n      <td>Pobaby</td>\n      <td>920000.0</td>\n      <td>NaN</td>\n      <td>https://www.the-numbers.com/movie/Pobaby-(2020...</td>\n    </tr>\n    <tr>\n      <th>30604</th>\n      <td>penguin-bloom</td>\n      <td>2021</td>\n      <td>2021-01-01</td>\n      <td>Penguin Bloom</td>\n      <td>6259122.0</td>\n      <td>NaN</td>\n      <td>https://www.the-numbers.com/movie/Penguin-Bloom</td>\n    </tr>\n    <tr>\n      <th>30605</th>\n      <td>octonauts-the-ring-of-fire-(2021-china)</td>\n      <td>2021</td>\n      <td>2021-01-01</td>\n      <td>Octonauts: The Ring of Fire</td>\n      <td>8437314.0</td>\n      <td>NaN</td>\n      <td>https://www.the-numbers.com/movie/Octonauts-Th...</td>\n    </tr>\n    <tr>\n      <th>30606</th>\n      <td>sing-me-a-song-(france)</td>\n      <td>2021</td>\n      <td>2021-01-01</td>\n      <td>Sing Me a Song</td>\n      <td>NaN</td>\n      <td>NaN</td>\n      <td>https://www.the-numbers.com/movie/Sing-Me-a-So...</td>\n    </tr>\n    <tr>\n      <th>30607</th>\n      <td>jokbeoldu-sinmun-iyagi-(2020-south-korea)</td>\n      <td>2021</td>\n      <td>2021-01-01</td>\n      <td>Jokbeoldu sinmun iyagi</td>\n      <td>12356.0</td>\n      <td>NaN</td>\n      <td>https://www.the-numbers.com/movie/Jokbeoldu-si...</td>\n    </tr>\n    <tr>\n      <th>30608</th>\n      <td>my-salinger-year-(canada)</td>\n      <td>2021</td>\n      <td>2021-03-05</td>\n      <td>My Salinger Year</td>\n      <td>968849.0</td>\n      <td>NaN</td>\n      <td>https://www.the-numbers.com/movie/My-Salinger-...</td>\n    </tr>\n    <tr>\n      <th>30609</th>\n      <td>escort-vehicle-36-(2020-china)</td>\n      <td>2021</td>\n      <td>2021-01-01</td>\n      <td>Escort Vehicle 36</td>\n      <td>240000.0</td>\n      <td>NaN</td>\n      <td>https://www.the-numbers.com/movie/Escort-Vehic...</td>\n    </tr>\n    <tr>\n      <th>30610</th>\n      <td>dry-the-(australia)</td>\n      <td>2021</td>\n      <td>2021-05-21</td>\n      <td>The Dry</td>\n      <td>17351923.0</td>\n      <td>NaN</td>\n      <td>https://www.the-numbers.com/movie/Dry-The-(Aus...</td>\n    </tr>\n    <tr>\n      <th>30611</th>\n      <td>posledniy-bogatyr-koren-zla-(2021-russia)</td>\n      <td>2021</td>\n      <td>2021-01-01</td>\n      <td>Posledniy bogatyr. KorenÃ¢â‚¬â„¢ Zla</td>\n      <td>33396899.0</td>\n      <td>NaN</td>\n      <td>https://www.the-numbers.com/movie/Posledniy-bo...</td>\n    </tr>\n  </tbody>\n</table>\n</div>"
     },
     "execution_count": 81,
     "metadata": {},
     "output_type": "execute_result"
    }
   ],
   "source": [
    "movie_sales.tail(20)"
   ],
   "metadata": {
    "collapsed": false,
    "ExecuteTime": {
     "end_time": "2023-09-21T11:36:53.086783900Z",
     "start_time": "2023-09-21T11:36:52.803767400Z"
    }
   },
   "id": "7bf5df0a1b2fb4fb"
  },
  {
   "cell_type": "markdown",
   "source": [
    "## 2. Cleaning the Metaclean dataset"
   ],
   "metadata": {
    "collapsed": false
   },
   "id": "aeddb670fff6e415"
  },
  {
   "cell_type": "code",
   "execution_count": 82,
   "outputs": [
    {
     "name": "stdout",
     "output_type": "stream",
     "text": [
      "<class 'pandas.core.frame.DataFrame'>\n",
      "RangeIndex: 11364 entries, 0 to 11363\n",
      "Data columns (total 13 columns):\n",
      " #   Column     Non-Null Count  Dtype         \n",
      "---  ------     --------------  -----         \n",
      " 0   url        11364 non-null  object        \n",
      " 1   title      11364 non-null  object        \n",
      " 2   studio     11014 non-null  object        \n",
      " 3   rating     10297 non-null  object        \n",
      " 4   runtime    11109 non-null  float64       \n",
      " 5   cast       7662 non-null   object        \n",
      " 6   director   11350 non-null  object        \n",
      " 7   genre      11344 non-null  object        \n",
      " 8   summary    5467 non-null   object        \n",
      " 9   awards     4387 non-null   object        \n",
      " 10  metascore  11364 non-null  int64         \n",
      " 11  userscore  9259 non-null   float64       \n",
      " 12  RelDate    11364 non-null  datetime64[ns]\n",
      "dtypes: datetime64[ns](1), float64(2), int64(1), object(9)\n",
      "memory usage: 1.1+ MB\n",
      "None\n"
     ]
    }
   ],
   "source": [
    "# Import the excel file and look into the info\n",
    "# Use the 'r' command to convert the string to a raw string, otherwise FileNotFoud errors may occur.\n",
    "\n",
    "meta_clean = pd.read_excel(r\"data/metaClean43Brightspace.xlsx\")\n",
    "print(meta_clean.info())\n"
   ],
   "metadata": {
    "collapsed": false,
    "ExecuteTime": {
     "end_time": "2023-09-21T11:36:59.309400900Z",
     "start_time": "2023-09-21T11:36:52.854408400Z"
    }
   },
   "id": "1174cd58e267376e"
  },
  {
   "cell_type": "code",
   "execution_count": 83,
   "outputs": [
    {
     "data": {
      "text/plain": "                                                 url                  title  \\\n0  https://www.metacritic.com/movie/!women-art-re...  !Women Art Revolution   \n1  https://www.metacritic.com/movie/10-cloverfiel...    10 Cloverfield Lane   \n2  https://www.metacritic.com/movie/10-items-or-less       10 Items or Less   \n3          https://www.metacritic.com/movie/10-years               10 Years   \n4  https://www.metacritic.com/movie/100-bloody-acres       100 Bloody Acres   \n\n                     studio       rating  runtime  \\\n0       Hotwire Productions  | Not Rated     83.0   \n1        Paramount Pictures      | PG-13    104.0   \n2                Click Star          | R     82.0   \n3  Anchor Bay Entertainment          | R    100.0   \n4           Music Box Films  | Not Rated     91.0   \n\n                                                cast              director  \\\n0                                                NaN  Lynn Hershman-Leeson   \n1  John Gallagher Jr.,John Goodman,Mary Elizabeth...      Dan Trachtenberg   \n2                 Jonah Hill,Morgan Freeman,Paz Vega       Brad Silberling   \n3             Channing Tatum,Chris Pratt,Jenna Dewan          Jamie Linden   \n4                                                NaN       Cameron Cairnes   \n\n                                         genre  \\\n0                                  Documentary   \n1  Action,Sci-Fi,Drama,Mystery,Thriller,Horror   \n2                         Drama,Comedy,Romance   \n3                         Drama,Comedy,Romance   \n4                                Horror,Comedy   \n\n                                             summary  \\\n0                                                NaN   \n1  Waking up from a car accident, a young woman (...   \n2  While researching a role as a supermarket mana...   \n3                                                NaN   \n4  Reg and Lindsay run an organic fertilizer busi...   \n\n                                              awards  metascore  userscore  \\\n0                                                NaN         70        NaN   \n1  #18MostDiscussedMovieof2016 , #1MostSharedMovi...         76        7.7   \n2                                                NaN         54        5.8   \n3                                                NaN         61        6.9   \n4                                                NaN         63        7.5   \n\n     RelDate  \n0 2011-06-01  \n1 2016-03-11  \n2 2006-12-01  \n3 2012-09-14  \n4 2013-06-28  ",
      "text/html": "<div>\n<style scoped>\n    .dataframe tbody tr th:only-of-type {\n        vertical-align: middle;\n    }\n\n    .dataframe tbody tr th {\n        vertical-align: top;\n    }\n\n    .dataframe thead th {\n        text-align: right;\n    }\n</style>\n<table border=\"1\" class=\"dataframe\">\n  <thead>\n    <tr style=\"text-align: right;\">\n      <th></th>\n      <th>url</th>\n      <th>title</th>\n      <th>studio</th>\n      <th>rating</th>\n      <th>runtime</th>\n      <th>cast</th>\n      <th>director</th>\n      <th>genre</th>\n      <th>summary</th>\n      <th>awards</th>\n      <th>metascore</th>\n      <th>userscore</th>\n      <th>RelDate</th>\n    </tr>\n  </thead>\n  <tbody>\n    <tr>\n      <th>0</th>\n      <td>https://www.metacritic.com/movie/!women-art-re...</td>\n      <td>!Women Art Revolution</td>\n      <td>Hotwire Productions</td>\n      <td>| Not Rated</td>\n      <td>83.0</td>\n      <td>NaN</td>\n      <td>Lynn Hershman-Leeson</td>\n      <td>Documentary</td>\n      <td>NaN</td>\n      <td>NaN</td>\n      <td>70</td>\n      <td>NaN</td>\n      <td>2011-06-01</td>\n    </tr>\n    <tr>\n      <th>1</th>\n      <td>https://www.metacritic.com/movie/10-cloverfiel...</td>\n      <td>10 Cloverfield Lane</td>\n      <td>Paramount Pictures</td>\n      <td>| PG-13</td>\n      <td>104.0</td>\n      <td>John Gallagher Jr.,John Goodman,Mary Elizabeth...</td>\n      <td>Dan Trachtenberg</td>\n      <td>Action,Sci-Fi,Drama,Mystery,Thriller,Horror</td>\n      <td>Waking up from a car accident, a young woman (...</td>\n      <td>#18MostDiscussedMovieof2016 , #1MostSharedMovi...</td>\n      <td>76</td>\n      <td>7.7</td>\n      <td>2016-03-11</td>\n    </tr>\n    <tr>\n      <th>2</th>\n      <td>https://www.metacritic.com/movie/10-items-or-less</td>\n      <td>10 Items or Less</td>\n      <td>Click Star</td>\n      <td>| R</td>\n      <td>82.0</td>\n      <td>Jonah Hill,Morgan Freeman,Paz Vega</td>\n      <td>Brad Silberling</td>\n      <td>Drama,Comedy,Romance</td>\n      <td>While researching a role as a supermarket mana...</td>\n      <td>NaN</td>\n      <td>54</td>\n      <td>5.8</td>\n      <td>2006-12-01</td>\n    </tr>\n    <tr>\n      <th>3</th>\n      <td>https://www.metacritic.com/movie/10-years</td>\n      <td>10 Years</td>\n      <td>Anchor Bay Entertainment</td>\n      <td>| R</td>\n      <td>100.0</td>\n      <td>Channing Tatum,Chris Pratt,Jenna Dewan</td>\n      <td>Jamie Linden</td>\n      <td>Drama,Comedy,Romance</td>\n      <td>NaN</td>\n      <td>NaN</td>\n      <td>61</td>\n      <td>6.9</td>\n      <td>2012-09-14</td>\n    </tr>\n    <tr>\n      <th>4</th>\n      <td>https://www.metacritic.com/movie/100-bloody-acres</td>\n      <td>100 Bloody Acres</td>\n      <td>Music Box Films</td>\n      <td>| Not Rated</td>\n      <td>91.0</td>\n      <td>NaN</td>\n      <td>Cameron Cairnes</td>\n      <td>Horror,Comedy</td>\n      <td>Reg and Lindsay run an organic fertilizer busi...</td>\n      <td>NaN</td>\n      <td>63</td>\n      <td>7.5</td>\n      <td>2013-06-28</td>\n    </tr>\n  </tbody>\n</table>\n</div>"
     },
     "execution_count": 83,
     "metadata": {},
     "output_type": "execute_result"
    }
   ],
   "source": [
    "meta_clean.head()"
   ],
   "metadata": {
    "collapsed": false,
    "ExecuteTime": {
     "end_time": "2023-09-21T11:36:59.460041200Z",
     "start_time": "2023-09-21T11:36:59.310398400Z"
    }
   },
   "id": "ea3d1c23afc71a7c"
  },
  {
   "cell_type": "code",
   "execution_count": 84,
   "outputs": [
    {
     "name": "stdout",
     "output_type": "stream",
     "text": [
      "url                  object\n",
      "title                object\n",
      "rating               object\n",
      "genre                object\n",
      "metascore             int64\n",
      "userscore           float64\n",
      "RelDate      datetime64[ns]\n",
      "dtype: object\n"
     ]
    }
   ],
   "source": [
    "# Drop columns that we don't need for analysis\n",
    "meta_clean = meta_clean.drop(columns=['studio', 'runtime', 'cast', 'director', 'summary', 'awards'])\n",
    "# Look into the data types. This is important for the SQL database input\n",
    "\n",
    "print(meta_clean.dtypes)"
   ],
   "metadata": {
    "collapsed": false,
    "ExecuteTime": {
     "end_time": "2023-09-21T11:36:59.462035300Z",
     "start_time": "2023-09-21T11:36:59.339873900Z"
    }
   },
   "id": "320f06fa660ef248"
  },
  {
   "cell_type": "code",
   "execution_count": 85,
   "outputs": [
    {
     "data": {
      "text/plain": "                movie_id                                                url  \\\n0  !women-art-revolution  https://www.metacritic.com/movie/!women-art-re...   \n1    10-cloverfield-lane  https://www.metacritic.com/movie/10-cloverfiel...   \n2       10-items-or-less  https://www.metacritic.com/movie/10-items-or-less   \n3               10-years          https://www.metacritic.com/movie/10-years   \n4       100-bloody-acres  https://www.metacritic.com/movie/100-bloody-acres   \n5            100-streets       https://www.metacritic.com/movie/100-streets   \n\n                   title       rating  \\\n0  !Women Art Revolution  | Not Rated   \n1    10 Cloverfield Lane      | PG-13   \n2       10 Items or Less          | R   \n3               10 Years          | R   \n4       100 Bloody Acres  | Not Rated   \n5            100 Streets          NaN   \n\n                                         genre  metascore  userscore  \\\n0                                  Documentary         70        NaN   \n1  Action,Sci-Fi,Drama,Mystery,Thriller,Horror         76        7.7   \n2                         Drama,Comedy,Romance         54        5.8   \n3                         Drama,Comedy,Romance         61        6.9   \n4                                Horror,Comedy         63        7.5   \n5                                        Drama         44        6.1   \n\n     RelDate  \n0 2011-06-01  \n1 2016-03-11  \n2 2006-12-01  \n3 2012-09-14  \n4 2013-06-28  \n5 2017-01-13  ",
      "text/html": "<div>\n<style scoped>\n    .dataframe tbody tr th:only-of-type {\n        vertical-align: middle;\n    }\n\n    .dataframe tbody tr th {\n        vertical-align: top;\n    }\n\n    .dataframe thead th {\n        text-align: right;\n    }\n</style>\n<table border=\"1\" class=\"dataframe\">\n  <thead>\n    <tr style=\"text-align: right;\">\n      <th></th>\n      <th>movie_id</th>\n      <th>url</th>\n      <th>title</th>\n      <th>rating</th>\n      <th>genre</th>\n      <th>metascore</th>\n      <th>userscore</th>\n      <th>RelDate</th>\n    </tr>\n  </thead>\n  <tbody>\n    <tr>\n      <th>0</th>\n      <td>!women-art-revolution</td>\n      <td>https://www.metacritic.com/movie/!women-art-re...</td>\n      <td>!Women Art Revolution</td>\n      <td>| Not Rated</td>\n      <td>Documentary</td>\n      <td>70</td>\n      <td>NaN</td>\n      <td>2011-06-01</td>\n    </tr>\n    <tr>\n      <th>1</th>\n      <td>10-cloverfield-lane</td>\n      <td>https://www.metacritic.com/movie/10-cloverfiel...</td>\n      <td>10 Cloverfield Lane</td>\n      <td>| PG-13</td>\n      <td>Action,Sci-Fi,Drama,Mystery,Thriller,Horror</td>\n      <td>76</td>\n      <td>7.7</td>\n      <td>2016-03-11</td>\n    </tr>\n    <tr>\n      <th>2</th>\n      <td>10-items-or-less</td>\n      <td>https://www.metacritic.com/movie/10-items-or-less</td>\n      <td>10 Items or Less</td>\n      <td>| R</td>\n      <td>Drama,Comedy,Romance</td>\n      <td>54</td>\n      <td>5.8</td>\n      <td>2006-12-01</td>\n    </tr>\n    <tr>\n      <th>3</th>\n      <td>10-years</td>\n      <td>https://www.metacritic.com/movie/10-years</td>\n      <td>10 Years</td>\n      <td>| R</td>\n      <td>Drama,Comedy,Romance</td>\n      <td>61</td>\n      <td>6.9</td>\n      <td>2012-09-14</td>\n    </tr>\n    <tr>\n      <th>4</th>\n      <td>100-bloody-acres</td>\n      <td>https://www.metacritic.com/movie/100-bloody-acres</td>\n      <td>100 Bloody Acres</td>\n      <td>| Not Rated</td>\n      <td>Horror,Comedy</td>\n      <td>63</td>\n      <td>7.5</td>\n      <td>2013-06-28</td>\n    </tr>\n    <tr>\n      <th>5</th>\n      <td>100-streets</td>\n      <td>https://www.metacritic.com/movie/100-streets</td>\n      <td>100 Streets</td>\n      <td>NaN</td>\n      <td>Drama</td>\n      <td>44</td>\n      <td>6.1</td>\n      <td>2017-01-13</td>\n    </tr>\n  </tbody>\n</table>\n</div>"
     },
     "execution_count": 85,
     "metadata": {},
     "output_type": "execute_result"
    }
   ],
   "source": [
    "# We create a movie id based on the url because this url has no special characters which will lead into more joins when joining the data later with the sales dataset.\n",
    "#Split the URL to obtain the movie_id\n",
    "meta_clean['movie_id'] = meta_clean['url'].str.split('/').str.get(-1)\n",
    "\n",
    "# Lowercase the movie_id\n",
    "meta_clean['movie_id'] = meta_clean['movie_id'].str.lower()\n",
    "\n",
    "# Move new column to the first position in the table\n",
    "firstcol = meta_clean.columns.to_list()\n",
    "firstcol = ['movie_id'] + firstcol[:-1]\n",
    "meta_clean = meta_clean[firstcol]\n",
    "\n",
    "\n",
    "# Print updated head to ensure that it worked\n",
    "\n",
    "meta_clean.head(6)"
   ],
   "metadata": {
    "collapsed": false,
    "ExecuteTime": {
     "end_time": "2023-09-21T11:36:59.605090500Z",
     "start_time": "2023-09-21T11:36:59.361024300Z"
    }
   },
   "id": "4acec8d5002f8cb"
  },
  {
   "cell_type": "code",
   "execution_count": 86,
   "outputs": [
    {
     "data": {
      "text/plain": "0"
     },
     "execution_count": 86,
     "metadata": {},
     "output_type": "execute_result"
    }
   ],
   "source": [
    "meta_clean['genre'].unique()\n",
    "meta_clean['genre'] = meta_clean['genre'].fillna('Genre unknown')\n",
    "meta_clean['genre'].value_counts()\n",
    "\n",
    "meta_clean['genre'].isnull().sum()"
   ],
   "metadata": {
    "collapsed": false,
    "ExecuteTime": {
     "end_time": "2023-09-21T11:36:59.681884200Z",
     "start_time": "2023-09-21T11:36:59.453057600Z"
    }
   },
   "id": "2c00f44873292b08"
  },
  {
   "cell_type": "markdown",
   "source": [
    "## 2.1 Age rating table"
   ],
   "metadata": {
    "collapsed": false
   },
   "id": "c44309e7d7625d8a"
  },
  {
   "cell_type": "markdown",
   "source": [
    "Carola"
   ],
   "metadata": {
    "collapsed": false
   },
   "id": "c1d4698b45078dac"
  },
  {
   "cell_type": "code",
   "execution_count": 87,
   "outputs": [
    {
     "name": "stdout",
     "output_type": "stream",
     "text": [
      "[nan, '14+', '17+', 'All ages']\n"
     ]
    },
    {
     "name": "stderr",
     "output_type": "stream",
     "text": [
      "C:\\Users\\Martijn\\AppData\\Local\\Temp\\ipykernel_4680\\1754717522.py:5: FutureWarning: The default value of regex will change from True to False in a future version. In addition, single character regular expressions will *not* be treated as literal strings when regex=True.\n",
      "  meta_clean['rating'] = meta_clean['rating'].str.replace('|', '')\n"
     ]
    }
   ],
   "source": [
    "# Convert the data to CSV and save it at the specified location\n",
    "# Again, be aware of the raw string 'r' to prevent errors\n",
    "\n",
    "#Cleaning column rating CAROLA \n",
    "meta_clean['rating'] = meta_clean['rating'].str.replace('|', '')\n",
    "meta_clean['rating'] = meta_clean['rating'].str.strip()\n",
    "meta_clean.loc[meta_clean['rating'] == 'PG--13', 'rating'] = 'PG-13'\n",
    "meta_clean.loc[meta_clean['rating'] == 'PG-13`', 'rating'] = 'PG-13'\n",
    "meta_clean.loc[meta_clean['rating'] == 'Not Rated', 'rating'] = 'NR'\n",
    "meta_clean.loc[meta_clean[\n",
    "                   'rating'] == 'Unrated', 'rating'] = 'NR'  #Not rated and Unrated set equal to NR (also called UR) as they are the same category \n",
    "meta_clean.loc[meta_clean['rating'] == 'NR', 'rating'] = np.nan  #set as null since NR movies dont have an age rating\n",
    "#line 9- 24  defining the subcategories for each age rating : all ages, 14+, 17+\n",
    "meta_clean.loc[meta_clean['rating'] == 'Open', 'rating'] = 'All ages'\n",
    "meta_clean.loc[meta_clean['rating'] == 'G', 'rating'] = 'All ages'\n",
    "meta_clean.loc[meta_clean['rating'] == 'TV-G', 'rating'] = 'All ages'\n",
    "\n",
    "meta_clean.loc[meta_clean['rating'] == 'Approved', 'rating'] = '14+'\n",
    "meta_clean.loc[meta_clean['rating'] == 'TV-PG', 'rating'] = '14+'\n",
    "meta_clean.loc[meta_clean['rating'] == 'PG', 'rating'] = '14+'\n",
    "meta_clean.loc[meta_clean['rating'] == 'PG-13', 'rating'] = '14+'\n",
    "meta_clean.loc[meta_clean['rating'] == 'TV-14', 'rating'] = '14+'\n",
    "meta_clean.loc[meta_clean['rating'] == 'M/PG', 'rating'] = '14+'\n",
    "\n",
    "meta_clean.loc[meta_clean['rating'] == 'R', 'rating'] = '17+'\n",
    "meta_clean.loc[meta_clean['rating'] == 'MA-17', 'rating'] = '17+'\n",
    "meta_clean.loc[meta_clean['rating'] == 'TV-MA', 'rating'] = '17+'\n",
    "meta_clean.loc[meta_clean['rating'] == 'NC-17', 'rating'] = '17+'\n",
    "meta_clean.loc[meta_clean['rating'] == 'M', 'rating'] = '17+'\n",
    "\n",
    "distinct_ratings = meta_clean['rating'].unique()\n",
    "print([rating for rating in distinct_ratings])\n"
   ],
   "metadata": {
    "collapsed": false,
    "ExecuteTime": {
     "end_time": "2023-09-21T11:36:59.835473900Z",
     "start_time": "2023-09-21T11:36:59.487091Z"
    }
   },
   "id": "13961fc399734e13"
  },
  {
   "cell_type": "code",
   "execution_count": 88,
   "outputs": [
    {
     "data": {
      "text/plain": "                movie_id                                                url  \\\n0  !women-art-revolution  https://www.metacritic.com/movie/!women-art-re...   \n1    10-cloverfield-lane  https://www.metacritic.com/movie/10-cloverfiel...   \n2       10-items-or-less  https://www.metacritic.com/movie/10-items-or-less   \n3               10-years          https://www.metacritic.com/movie/10-years   \n4       100-bloody-acres  https://www.metacritic.com/movie/100-bloody-acres   \n\n                   title rating                                        genre  \\\n0  !Women Art Revolution    NaN                                  Documentary   \n1    10 Cloverfield Lane    14+  Action,Sci-Fi,Drama,Mystery,Thriller,Horror   \n2       10 Items or Less    17+                         Drama,Comedy,Romance   \n3               10 Years    17+                         Drama,Comedy,Romance   \n4       100 Bloody Acres    NaN                                Horror,Comedy   \n\n   metascore  userscore    RelDate  rating_id  \n0         70        NaN 2011-06-01          0  \n1         76        7.7 2016-03-11          1  \n2         54        5.8 2006-12-01          2  \n3         61        6.9 2012-09-14          2  \n4         63        7.5 2013-06-28          0  ",
      "text/html": "<div>\n<style scoped>\n    .dataframe tbody tr th:only-of-type {\n        vertical-align: middle;\n    }\n\n    .dataframe tbody tr th {\n        vertical-align: top;\n    }\n\n    .dataframe thead th {\n        text-align: right;\n    }\n</style>\n<table border=\"1\" class=\"dataframe\">\n  <thead>\n    <tr style=\"text-align: right;\">\n      <th></th>\n      <th>movie_id</th>\n      <th>url</th>\n      <th>title</th>\n      <th>rating</th>\n      <th>genre</th>\n      <th>metascore</th>\n      <th>userscore</th>\n      <th>RelDate</th>\n      <th>rating_id</th>\n    </tr>\n  </thead>\n  <tbody>\n    <tr>\n      <th>0</th>\n      <td>!women-art-revolution</td>\n      <td>https://www.metacritic.com/movie/!women-art-re...</td>\n      <td>!Women Art Revolution</td>\n      <td>NaN</td>\n      <td>Documentary</td>\n      <td>70</td>\n      <td>NaN</td>\n      <td>2011-06-01</td>\n      <td>0</td>\n    </tr>\n    <tr>\n      <th>1</th>\n      <td>10-cloverfield-lane</td>\n      <td>https://www.metacritic.com/movie/10-cloverfiel...</td>\n      <td>10 Cloverfield Lane</td>\n      <td>14+</td>\n      <td>Action,Sci-Fi,Drama,Mystery,Thriller,Horror</td>\n      <td>76</td>\n      <td>7.7</td>\n      <td>2016-03-11</td>\n      <td>1</td>\n    </tr>\n    <tr>\n      <th>2</th>\n      <td>10-items-or-less</td>\n      <td>https://www.metacritic.com/movie/10-items-or-less</td>\n      <td>10 Items or Less</td>\n      <td>17+</td>\n      <td>Drama,Comedy,Romance</td>\n      <td>54</td>\n      <td>5.8</td>\n      <td>2006-12-01</td>\n      <td>2</td>\n    </tr>\n    <tr>\n      <th>3</th>\n      <td>10-years</td>\n      <td>https://www.metacritic.com/movie/10-years</td>\n      <td>10 Years</td>\n      <td>17+</td>\n      <td>Drama,Comedy,Romance</td>\n      <td>61</td>\n      <td>6.9</td>\n      <td>2012-09-14</td>\n      <td>2</td>\n    </tr>\n    <tr>\n      <th>4</th>\n      <td>100-bloody-acres</td>\n      <td>https://www.metacritic.com/movie/100-bloody-acres</td>\n      <td>100 Bloody Acres</td>\n      <td>NaN</td>\n      <td>Horror,Comedy</td>\n      <td>63</td>\n      <td>7.5</td>\n      <td>2013-06-28</td>\n      <td>0</td>\n    </tr>\n  </tbody>\n</table>\n</div>"
     },
     "execution_count": 88,
     "metadata": {},
     "output_type": "execute_result"
    }
   ],
   "source": [
    "# creating Rating_id (from age rating)  Carola \n",
    "distinct_ratings = meta_clean['rating'].unique()  # Get the unique age ratings from the rating column\n",
    "age_ratings = list(distinct_ratings)  #putting them in a list \n",
    "rating_id_mapping = {genre: idx for idx, genre in enumerate(distinct_ratings)}  #mapping ratings to unique ratings IDs  \n",
    "meta_clean['rating_id'] = meta_clean['rating'].map(rating_id_mapping)  #adding column rating_id to dataset\n",
    "distinct_ratings_id = meta_clean['rating_id'].unique()  #get the unique age ratings id from the new rating_id column\n",
    "age_ratings_id = list(distinct_ratings_id)  #creating a python list with distinct genre _ids\n",
    "ratings_ratings_id_dict = {key: value for key, value in\n",
    "                           zip(distinct_ratings, age_ratings)}  # Zip the two lists into a dictionary\n",
    "meta_clean.replace(ratings_ratings_id_dict, regex=True)\n",
    "meta_clean.head()"
   ],
   "metadata": {
    "collapsed": false,
    "ExecuteTime": {
     "end_time": "2023-09-21T11:37:00.372760100Z",
     "start_time": "2023-09-21T11:36:59.606089900Z"
    }
   },
   "id": "6580a47651458880"
  },
  {
   "cell_type": "code",
   "execution_count": 89,
   "outputs": [
    {
     "data": {
      "text/plain": "   rating_id    rating\n0          0       NaN\n1          1       14+\n2          2       17+\n3          3  All ages",
      "text/html": "<div>\n<style scoped>\n    .dataframe tbody tr th:only-of-type {\n        vertical-align: middle;\n    }\n\n    .dataframe tbody tr th {\n        vertical-align: top;\n    }\n\n    .dataframe thead th {\n        text-align: right;\n    }\n</style>\n<table border=\"1\" class=\"dataframe\">\n  <thead>\n    <tr style=\"text-align: right;\">\n      <th></th>\n      <th>rating_id</th>\n      <th>rating</th>\n    </tr>\n  </thead>\n  <tbody>\n    <tr>\n      <th>0</th>\n      <td>0</td>\n      <td>NaN</td>\n    </tr>\n    <tr>\n      <th>1</th>\n      <td>1</td>\n      <td>14+</td>\n    </tr>\n    <tr>\n      <th>2</th>\n      <td>2</td>\n      <td>17+</td>\n    </tr>\n    <tr>\n      <th>3</th>\n      <td>3</td>\n      <td>All ages</td>\n    </tr>\n  </tbody>\n</table>\n</div>"
     },
     "execution_count": 89,
     "metadata": {},
     "output_type": "execute_result"
    }
   ],
   "source": [
    "age_rating_table = pd.DataFrame(data={'rating':distinct_ratings}).reset_index().rename(columns={'index':'rating_id'})\n",
    "age_rating_table"
   ],
   "metadata": {
    "collapsed": false,
    "ExecuteTime": {
     "end_time": "2023-09-21T11:37:00.373757500Z",
     "start_time": "2023-09-21T11:37:00.120811200Z"
    }
   },
   "id": "2b6d8682a3aec3a0"
  },
  {
   "cell_type": "code",
   "execution_count": 90,
   "outputs": [],
   "source": [
    "age_rating_table.to_csv('Cleaned data/age_rating_table.csv', sep=',', index=False)"
   ],
   "metadata": {
    "collapsed": false,
    "ExecuteTime": {
     "end_time": "2023-09-21T11:37:00.408334500Z",
     "start_time": "2023-09-21T11:37:00.149852800Z"
    }
   },
   "id": "6128d4f128c702f2"
  },
  {
   "cell_type": "code",
   "execution_count": 91,
   "outputs": [
    {
     "data": {
      "text/plain": "                             movie_id  \\\n7163               samson-and-delilah   \n8826                      the-gallows   \n10263                 third-world-cop   \n4697                          killers   \n10858  war-for-the-planet-of-the-apes   \n2594                         downfall   \n5807                            music   \n7659               southside-with-you   \n2443             dick-johnson-is-dead   \n10262                    third-person   \n\n                                                     url  \\\n7163   https://www.metacritic.com/movie/samson-and-de...   \n8826        https://www.metacritic.com/movie/the-gallows   \n10263   https://www.metacritic.com/movie/third-world-cop   \n4697            https://www.metacritic.com/movie/killers   \n10858  https://www.metacritic.com/movie/war-for-the-p...   \n2594           https://www.metacritic.com/movie/downfall   \n5807              https://www.metacritic.com/movie/music   \n7659   https://www.metacritic.com/movie/southside-wit...   \n2443   https://www.metacritic.com/movie/dick-johnson-...   \n10262      https://www.metacritic.com/movie/third-person   \n\n                                title  \\\n7163               Samson and Delilah   \n8826                      The Gallows   \n10263                 Third World Cop   \n4697                          Killers   \n10858  War for the Planet of the Apes   \n2594                         Downfall   \n5807                            Music   \n7659               Southside with You   \n2443             Dick Johnson Is Dead   \n10262                    Third Person   \n\n                                            genre  metascore  userscore  \\\n7163                                Drama,Romance         75        7.7   \n8826                              Thriller,Horror         30        6.1   \n10263                       Action,Drama,Thriller         28        NaN   \n4697               Action,Thriller,Comedy,Romance         21        3.9   \n10858  Action,Adventure,Sci-Fi,Drama,Thriller,War         82        8.0   \n2594                  Biography,Drama,History,War         82        8.6   \n5807                                Drama,Musical         23        6.6   \n7659                      Biography,Drama,Romance         74        5.9   \n2443                            Drama,Documentary         89        7.5   \n10262                               Drama,Romance         38        5.0   \n\n         RelDate  rating_id  \n7163  2010-10-15          0  \n8826  2015-07-10          2  \n10263 2000-04-14          2  \n4697  2010-06-04          1  \n10858 2017-07-14          1  \n2594  2005-02-18          2  \n5807  2021-02-12          1  \n7659  2016-08-26          1  \n2443  2020-10-02          1  \n10262 2014-06-20          2  ",
      "text/html": "<div>\n<style scoped>\n    .dataframe tbody tr th:only-of-type {\n        vertical-align: middle;\n    }\n\n    .dataframe tbody tr th {\n        vertical-align: top;\n    }\n\n    .dataframe thead th {\n        text-align: right;\n    }\n</style>\n<table border=\"1\" class=\"dataframe\">\n  <thead>\n    <tr style=\"text-align: right;\">\n      <th></th>\n      <th>movie_id</th>\n      <th>url</th>\n      <th>title</th>\n      <th>genre</th>\n      <th>metascore</th>\n      <th>userscore</th>\n      <th>RelDate</th>\n      <th>rating_id</th>\n    </tr>\n  </thead>\n  <tbody>\n    <tr>\n      <th>7163</th>\n      <td>samson-and-delilah</td>\n      <td>https://www.metacritic.com/movie/samson-and-de...</td>\n      <td>Samson and Delilah</td>\n      <td>Drama,Romance</td>\n      <td>75</td>\n      <td>7.7</td>\n      <td>2010-10-15</td>\n      <td>0</td>\n    </tr>\n    <tr>\n      <th>8826</th>\n      <td>the-gallows</td>\n      <td>https://www.metacritic.com/movie/the-gallows</td>\n      <td>The Gallows</td>\n      <td>Thriller,Horror</td>\n      <td>30</td>\n      <td>6.1</td>\n      <td>2015-07-10</td>\n      <td>2</td>\n    </tr>\n    <tr>\n      <th>10263</th>\n      <td>third-world-cop</td>\n      <td>https://www.metacritic.com/movie/third-world-cop</td>\n      <td>Third World Cop</td>\n      <td>Action,Drama,Thriller</td>\n      <td>28</td>\n      <td>NaN</td>\n      <td>2000-04-14</td>\n      <td>2</td>\n    </tr>\n    <tr>\n      <th>4697</th>\n      <td>killers</td>\n      <td>https://www.metacritic.com/movie/killers</td>\n      <td>Killers</td>\n      <td>Action,Thriller,Comedy,Romance</td>\n      <td>21</td>\n      <td>3.9</td>\n      <td>2010-06-04</td>\n      <td>1</td>\n    </tr>\n    <tr>\n      <th>10858</th>\n      <td>war-for-the-planet-of-the-apes</td>\n      <td>https://www.metacritic.com/movie/war-for-the-p...</td>\n      <td>War for the Planet of the Apes</td>\n      <td>Action,Adventure,Sci-Fi,Drama,Thriller,War</td>\n      <td>82</td>\n      <td>8.0</td>\n      <td>2017-07-14</td>\n      <td>1</td>\n    </tr>\n    <tr>\n      <th>2594</th>\n      <td>downfall</td>\n      <td>https://www.metacritic.com/movie/downfall</td>\n      <td>Downfall</td>\n      <td>Biography,Drama,History,War</td>\n      <td>82</td>\n      <td>8.6</td>\n      <td>2005-02-18</td>\n      <td>2</td>\n    </tr>\n    <tr>\n      <th>5807</th>\n      <td>music</td>\n      <td>https://www.metacritic.com/movie/music</td>\n      <td>Music</td>\n      <td>Drama,Musical</td>\n      <td>23</td>\n      <td>6.6</td>\n      <td>2021-02-12</td>\n      <td>1</td>\n    </tr>\n    <tr>\n      <th>7659</th>\n      <td>southside-with-you</td>\n      <td>https://www.metacritic.com/movie/southside-wit...</td>\n      <td>Southside with You</td>\n      <td>Biography,Drama,Romance</td>\n      <td>74</td>\n      <td>5.9</td>\n      <td>2016-08-26</td>\n      <td>1</td>\n    </tr>\n    <tr>\n      <th>2443</th>\n      <td>dick-johnson-is-dead</td>\n      <td>https://www.metacritic.com/movie/dick-johnson-...</td>\n      <td>Dick Johnson Is Dead</td>\n      <td>Drama,Documentary</td>\n      <td>89</td>\n      <td>7.5</td>\n      <td>2020-10-02</td>\n      <td>1</td>\n    </tr>\n    <tr>\n      <th>10262</th>\n      <td>third-person</td>\n      <td>https://www.metacritic.com/movie/third-person</td>\n      <td>Third Person</td>\n      <td>Drama,Romance</td>\n      <td>38</td>\n      <td>5.0</td>\n      <td>2014-06-20</td>\n      <td>2</td>\n    </tr>\n  </tbody>\n</table>\n</div>"
     },
     "execution_count": 91,
     "metadata": {},
     "output_type": "execute_result"
    }
   ],
   "source": [
    "meta_clean.drop(columns=['rating'],\n",
    "                inplace=True)  #drop rating column and making changes permanent by using inplace = True \n",
    "meta_clean.sample(10)"
   ],
   "metadata": {
    "collapsed": false,
    "ExecuteTime": {
     "end_time": "2023-09-21T11:37:00.531824800Z",
     "start_time": "2023-09-21T11:37:00.174063700Z"
    }
   },
   "id": "b3ec532ada5c0dab"
  },
  {
   "cell_type": "markdown",
   "source": [
    "## 2.2 Genre table"
   ],
   "metadata": {
    "collapsed": false
   },
   "id": "ecf7c0a882848f4f"
  },
  {
   "cell_type": "markdown",
   "source": [
    "### Unique list of genres"
   ],
   "metadata": {
    "collapsed": false
   },
   "id": "2eb364712fe6d8ab"
  },
  {
   "cell_type": "markdown",
   "source": [
    "Carola"
   ],
   "metadata": {
    "collapsed": false
   },
   "id": "5671eb39468a3c1a"
  },
  {
   "cell_type": "code",
   "execution_count": 92,
   "outputs": [
    {
     "data": {
      "text/plain": "                movie_id                                                url  \\\n0  !women-art-revolution  https://www.metacritic.com/movie/!women-art-re...   \n1    10-cloverfield-lane  https://www.metacritic.com/movie/10-cloverfiel...   \n2       10-items-or-less  https://www.metacritic.com/movie/10-items-or-less   \n3               10-years          https://www.metacritic.com/movie/10-years   \n4       100-bloody-acres  https://www.metacritic.com/movie/100-bloody-acres   \n\n                   title                                        genre  \\\n0  !Women Art Revolution                                  Documentary   \n1    10 Cloverfield Lane  Action,Sci-Fi,Drama,Mystery,Thriller,Horror   \n2       10 Items or Less                         Drama,Comedy,Romance   \n3               10 Years                         Drama,Comedy,Romance   \n4       100 Bloody Acres                                Horror,Comedy   \n\n   metascore  userscore    RelDate  rating_id  \n0         70        NaN 2011-06-01          0  \n1         76        7.7 2016-03-11          1  \n2         54        5.8 2006-12-01          2  \n3         61        6.9 2012-09-14          2  \n4         63        7.5 2013-06-28          0  ",
      "text/html": "<div>\n<style scoped>\n    .dataframe tbody tr th:only-of-type {\n        vertical-align: middle;\n    }\n\n    .dataframe tbody tr th {\n        vertical-align: top;\n    }\n\n    .dataframe thead th {\n        text-align: right;\n    }\n</style>\n<table border=\"1\" class=\"dataframe\">\n  <thead>\n    <tr style=\"text-align: right;\">\n      <th></th>\n      <th>movie_id</th>\n      <th>url</th>\n      <th>title</th>\n      <th>genre</th>\n      <th>metascore</th>\n      <th>userscore</th>\n      <th>RelDate</th>\n      <th>rating_id</th>\n    </tr>\n  </thead>\n  <tbody>\n    <tr>\n      <th>0</th>\n      <td>!women-art-revolution</td>\n      <td>https://www.metacritic.com/movie/!women-art-re...</td>\n      <td>!Women Art Revolution</td>\n      <td>Documentary</td>\n      <td>70</td>\n      <td>NaN</td>\n      <td>2011-06-01</td>\n      <td>0</td>\n    </tr>\n    <tr>\n      <th>1</th>\n      <td>10-cloverfield-lane</td>\n      <td>https://www.metacritic.com/movie/10-cloverfiel...</td>\n      <td>10 Cloverfield Lane</td>\n      <td>Action,Sci-Fi,Drama,Mystery,Thriller,Horror</td>\n      <td>76</td>\n      <td>7.7</td>\n      <td>2016-03-11</td>\n      <td>1</td>\n    </tr>\n    <tr>\n      <th>2</th>\n      <td>10-items-or-less</td>\n      <td>https://www.metacritic.com/movie/10-items-or-less</td>\n      <td>10 Items or Less</td>\n      <td>Drama,Comedy,Romance</td>\n      <td>54</td>\n      <td>5.8</td>\n      <td>2006-12-01</td>\n      <td>2</td>\n    </tr>\n    <tr>\n      <th>3</th>\n      <td>10-years</td>\n      <td>https://www.metacritic.com/movie/10-years</td>\n      <td>10 Years</td>\n      <td>Drama,Comedy,Romance</td>\n      <td>61</td>\n      <td>6.9</td>\n      <td>2012-09-14</td>\n      <td>2</td>\n    </tr>\n    <tr>\n      <th>4</th>\n      <td>100-bloody-acres</td>\n      <td>https://www.metacritic.com/movie/100-bloody-acres</td>\n      <td>100 Bloody Acres</td>\n      <td>Horror,Comedy</td>\n      <td>63</td>\n      <td>7.5</td>\n      <td>2013-06-28</td>\n      <td>0</td>\n    </tr>\n  </tbody>\n</table>\n</div>"
     },
     "execution_count": 92,
     "metadata": {},
     "output_type": "execute_result"
    }
   ],
   "source": [
    "meta_clean.head()"
   ],
   "metadata": {
    "collapsed": false,
    "ExecuteTime": {
     "end_time": "2023-09-21T11:37:00.591304900Z",
     "start_time": "2023-09-21T11:37:00.213812100Z"
    }
   },
   "id": "e632b0fd394baa1e"
  },
  {
   "cell_type": "code",
   "execution_count": 93,
   "outputs": [
    {
     "name": "stdout",
     "output_type": "stream",
     "text": [
      "['Documentary', 'Action', 'Sci-Fi', 'Drama', 'Mystery', 'Thriller', 'Horror', 'Comedy', 'Romance', 'Adventure', 'Fantasy', 'Family', 'Crime', 'War', 'History', 'Sport', 'Biography', 'Music', 'News', 'Musical', 'Western', 'Animation', 'Talk-Show', 'Adult', 'Short', 'Genre unknown', 'Reality-TV', 'Film-Noir']\n"
     ]
    }
   ],
   "source": [
    "#Cleaning genre column \n",
    "#extracting unique movie genres as in the dataset multiple genres were on the same row and considered as a genre on its own. If left unchanged there would 1312 different genres which would impact the validity of the analysis. \n",
    "unique_genres = []\n",
    "for genres_contaminated in meta_clean['genre']:\n",
    "    if not isinstance(genres_contaminated, str):\n",
    "        continue  #skipping to next element if genre is not a string, as the float values (nan) belong to movies not being assigned a genre \n",
    "    if ',' in genres_contaminated:  #if a movie has multiple genres (comma separated)\n",
    "        genres = genres_contaminated.split(',')  #splitting genres on comma\n",
    "        for genre in genres:\n",
    "            if genre not in unique_genres:\n",
    "                unique_genres.append(genre)  # if separated genre not yet in the list append it\n",
    "    else:  #if a movie has only one genre\n",
    "        if genres_contaminated not in unique_genres:\n",
    "            unique_genres.append(genres_contaminated)  #if genre is not in list append it\n",
    "print(unique_genres)\n",
    "\n"
   ],
   "metadata": {
    "collapsed": false,
    "ExecuteTime": {
     "end_time": "2023-09-21T11:37:00.865572200Z",
     "start_time": "2023-09-21T11:37:00.250061500Z"
    }
   },
   "id": "78062548d575242c"
  },
  {
   "cell_type": "markdown",
   "source": [
    "Mees"
   ],
   "metadata": {
    "collapsed": false
   },
   "id": "1c53bd8e15f6f0d2"
  },
  {
   "cell_type": "code",
   "execution_count": 94,
   "outputs": [
    {
     "data": {
      "text/plain": "    index          genre\n0       0    Documentary\n1       1         Action\n2       2         Sci-Fi\n3       3          Drama\n4       4        Mystery\n5       5       Thriller\n6       6         Horror\n7       7         Comedy\n8       8        Romance\n9       9      Adventure\n10     10        Fantasy\n11     11         Family\n12     12          Crime\n13     13            War\n14     14        History\n15     15          Sport\n16     16      Biography\n17     17          Music\n18     18           News\n19     19        Musical\n20     20        Western\n21     21      Animation\n22     22      Talk-Show\n23     23          Adult\n24     24          Short\n25     25  Genre unknown\n26     26     Reality-TV\n27     27      Film-Noir",
      "text/html": "<div>\n<style scoped>\n    .dataframe tbody tr th:only-of-type {\n        vertical-align: middle;\n    }\n\n    .dataframe tbody tr th {\n        vertical-align: top;\n    }\n\n    .dataframe thead th {\n        text-align: right;\n    }\n</style>\n<table border=\"1\" class=\"dataframe\">\n  <thead>\n    <tr style=\"text-align: right;\">\n      <th></th>\n      <th>index</th>\n      <th>genre</th>\n    </tr>\n  </thead>\n  <tbody>\n    <tr>\n      <th>0</th>\n      <td>0</td>\n      <td>Documentary</td>\n    </tr>\n    <tr>\n      <th>1</th>\n      <td>1</td>\n      <td>Action</td>\n    </tr>\n    <tr>\n      <th>2</th>\n      <td>2</td>\n      <td>Sci-Fi</td>\n    </tr>\n    <tr>\n      <th>3</th>\n      <td>3</td>\n      <td>Drama</td>\n    </tr>\n    <tr>\n      <th>4</th>\n      <td>4</td>\n      <td>Mystery</td>\n    </tr>\n    <tr>\n      <th>5</th>\n      <td>5</td>\n      <td>Thriller</td>\n    </tr>\n    <tr>\n      <th>6</th>\n      <td>6</td>\n      <td>Horror</td>\n    </tr>\n    <tr>\n      <th>7</th>\n      <td>7</td>\n      <td>Comedy</td>\n    </tr>\n    <tr>\n      <th>8</th>\n      <td>8</td>\n      <td>Romance</td>\n    </tr>\n    <tr>\n      <th>9</th>\n      <td>9</td>\n      <td>Adventure</td>\n    </tr>\n    <tr>\n      <th>10</th>\n      <td>10</td>\n      <td>Fantasy</td>\n    </tr>\n    <tr>\n      <th>11</th>\n      <td>11</td>\n      <td>Family</td>\n    </tr>\n    <tr>\n      <th>12</th>\n      <td>12</td>\n      <td>Crime</td>\n    </tr>\n    <tr>\n      <th>13</th>\n      <td>13</td>\n      <td>War</td>\n    </tr>\n    <tr>\n      <th>14</th>\n      <td>14</td>\n      <td>History</td>\n    </tr>\n    <tr>\n      <th>15</th>\n      <td>15</td>\n      <td>Sport</td>\n    </tr>\n    <tr>\n      <th>16</th>\n      <td>16</td>\n      <td>Biography</td>\n    </tr>\n    <tr>\n      <th>17</th>\n      <td>17</td>\n      <td>Music</td>\n    </tr>\n    <tr>\n      <th>18</th>\n      <td>18</td>\n      <td>News</td>\n    </tr>\n    <tr>\n      <th>19</th>\n      <td>19</td>\n      <td>Musical</td>\n    </tr>\n    <tr>\n      <th>20</th>\n      <td>20</td>\n      <td>Western</td>\n    </tr>\n    <tr>\n      <th>21</th>\n      <td>21</td>\n      <td>Animation</td>\n    </tr>\n    <tr>\n      <th>22</th>\n      <td>22</td>\n      <td>Talk-Show</td>\n    </tr>\n    <tr>\n      <th>23</th>\n      <td>23</td>\n      <td>Adult</td>\n    </tr>\n    <tr>\n      <th>24</th>\n      <td>24</td>\n      <td>Short</td>\n    </tr>\n    <tr>\n      <th>25</th>\n      <td>25</td>\n      <td>Genre unknown</td>\n    </tr>\n    <tr>\n      <th>26</th>\n      <td>26</td>\n      <td>Reality-TV</td>\n    </tr>\n    <tr>\n      <th>27</th>\n      <td>27</td>\n      <td>Film-Noir</td>\n    </tr>\n  </tbody>\n</table>\n</div>"
     },
     "execution_count": 94,
     "metadata": {},
     "output_type": "execute_result"
    }
   ],
   "source": [
    "genre_table = pd.DataFrame(data={'genre': unique_genres})\n",
    "genre_table.reset_index(inplace=True)\n",
    "\n",
    "genre_table"
   ],
   "metadata": {
    "collapsed": false,
    "ExecuteTime": {
     "end_time": "2023-09-21T11:37:00.914441700Z",
     "start_time": "2023-09-21T11:37:00.329107300Z"
    }
   },
   "id": "7a5535ebad35d4c7"
  },
  {
   "cell_type": "code",
   "execution_count": 95,
   "outputs": [
    {
     "data": {
      "text/plain": "   genre_id        genre\n0         1  Documentary\n1         2       Action\n2         3       Sci-Fi\n3         4        Drama\n4         5      Mystery",
      "text/html": "<div>\n<style scoped>\n    .dataframe tbody tr th:only-of-type {\n        vertical-align: middle;\n    }\n\n    .dataframe tbody tr th {\n        vertical-align: top;\n    }\n\n    .dataframe thead th {\n        text-align: right;\n    }\n</style>\n<table border=\"1\" class=\"dataframe\">\n  <thead>\n    <tr style=\"text-align: right;\">\n      <th></th>\n      <th>genre_id</th>\n      <th>genre</th>\n    </tr>\n  </thead>\n  <tbody>\n    <tr>\n      <th>0</th>\n      <td>1</td>\n      <td>Documentary</td>\n    </tr>\n    <tr>\n      <th>1</th>\n      <td>2</td>\n      <td>Action</td>\n    </tr>\n    <tr>\n      <th>2</th>\n      <td>3</td>\n      <td>Sci-Fi</td>\n    </tr>\n    <tr>\n      <th>3</th>\n      <td>4</td>\n      <td>Drama</td>\n    </tr>\n    <tr>\n      <th>4</th>\n      <td>5</td>\n      <td>Mystery</td>\n    </tr>\n  </tbody>\n</table>\n</div>"
     },
     "execution_count": 95,
     "metadata": {},
     "output_type": "execute_result"
    }
   ],
   "source": [
    "genre_table['genre_id'] = genre_table['index'] + 1\n",
    "genre_table.drop('index', axis=1, inplace=True)\n",
    "genre_table[['genre_id', 'genre']].head()"
   ],
   "metadata": {
    "collapsed": false,
    "ExecuteTime": {
     "end_time": "2023-09-21T11:37:00.937383100Z",
     "start_time": "2023-09-21T11:37:00.366776300Z"
    }
   },
   "id": "68fe5d9ded055d29"
  },
  {
   "cell_type": "code",
   "execution_count": 96,
   "outputs": [
    {
     "name": "stdout",
     "output_type": "stream",
     "text": [
      "Table has been successfully exported to csv into cleaned data folder\n"
     ]
    }
   ],
   "source": [
    "genre_table.to_csv('Cleaned data/genre_table.csv', sep=',', index=False)\n",
    "print('Table has been successfully exported to csv into cleaned data folder')"
   ],
   "metadata": {
    "collapsed": false,
    "ExecuteTime": {
     "end_time": "2023-09-21T11:37:00.938376800Z",
     "start_time": "2023-09-21T11:37:00.406341800Z"
    }
   },
   "id": "ef61cd079cacf584"
  },
  {
   "cell_type": "markdown",
   "source": [
    "### Creating the movie_genre_junction_table"
   ],
   "metadata": {
    "collapsed": false
   },
   "id": "944cba5ab6c29b14"
  },
  {
   "cell_type": "markdown",
   "source": [],
   "metadata": {
    "collapsed": false
   },
   "id": "db43f9161840d51f"
  },
  {
   "cell_type": "code",
   "execution_count": 97,
   "outputs": [
    {
     "data": {
      "text/plain": "                movie_id                                        genre\n0  !women-art-revolution                                  Documentary\n1    10-cloverfield-lane  Action,Sci-Fi,Drama,Mystery,Thriller,Horror\n2       10-items-or-less                         Drama,Comedy,Romance\n3               10-years                         Drama,Comedy,Romance\n4       100-bloody-acres                                Horror,Comedy",
      "text/html": "<div>\n<style scoped>\n    .dataframe tbody tr th:only-of-type {\n        vertical-align: middle;\n    }\n\n    .dataframe tbody tr th {\n        vertical-align: top;\n    }\n\n    .dataframe thead th {\n        text-align: right;\n    }\n</style>\n<table border=\"1\" class=\"dataframe\">\n  <thead>\n    <tr style=\"text-align: right;\">\n      <th></th>\n      <th>movie_id</th>\n      <th>genre</th>\n    </tr>\n  </thead>\n  <tbody>\n    <tr>\n      <th>0</th>\n      <td>!women-art-revolution</td>\n      <td>Documentary</td>\n    </tr>\n    <tr>\n      <th>1</th>\n      <td>10-cloverfield-lane</td>\n      <td>Action,Sci-Fi,Drama,Mystery,Thriller,Horror</td>\n    </tr>\n    <tr>\n      <th>2</th>\n      <td>10-items-or-less</td>\n      <td>Drama,Comedy,Romance</td>\n    </tr>\n    <tr>\n      <th>3</th>\n      <td>10-years</td>\n      <td>Drama,Comedy,Romance</td>\n    </tr>\n    <tr>\n      <th>4</th>\n      <td>100-bloody-acres</td>\n      <td>Horror,Comedy</td>\n    </tr>\n  </tbody>\n</table>\n</div>"
     },
     "execution_count": 97,
     "metadata": {},
     "output_type": "execute_result"
    }
   ],
   "source": [
    "# Creating the movie genre junction table\n",
    "movie_genre_junction_table = meta_clean[['movie_id', 'genre']].copy()\n",
    "movie_genre_junction_table.head()"
   ],
   "metadata": {
    "collapsed": false,
    "ExecuteTime": {
     "end_time": "2023-09-21T11:37:00.959319800Z",
     "start_time": "2023-09-21T11:37:00.433753Z"
    }
   },
   "id": "2cb5861e2a7e91d2"
  },
  {
   "cell_type": "code",
   "execution_count": 98,
   "outputs": [
    {
     "data": {
      "text/plain": "                    movie_id  \\\n0      !women-art-revolution   \n1        10-cloverfield-lane   \n2           10-items-or-less   \n3                   10-years   \n4           100-bloody-acres   \n...                      ...   \n11359            zoolander-2   \n11360                   zoom   \n11361              zoom-2016   \n11362               zootopia   \n11363                 zus-zo   \n\n                                                   genre  \n0                                          [Documentary]  \n1      [Action, Sci-Fi, Drama, Mystery, Thriller, Hor...  \n2                               [Drama, Comedy, Romance]  \n3                               [Drama, Comedy, Romance]  \n4                                       [Horror, Comedy]  \n...                                                  ...  \n11359                                           [Comedy]  \n11360                [Action, Adventure, Sci-Fi, Family]  \n11361                         [Drama, Comedy, Animation]  \n11362  [Action, Adventure, Comedy, Crime, Animation, ...  \n11363                         [Fantasy, Comedy, Romance]  \n\n[11364 rows x 2 columns]",
      "text/html": "<div>\n<style scoped>\n    .dataframe tbody tr th:only-of-type {\n        vertical-align: middle;\n    }\n\n    .dataframe tbody tr th {\n        vertical-align: top;\n    }\n\n    .dataframe thead th {\n        text-align: right;\n    }\n</style>\n<table border=\"1\" class=\"dataframe\">\n  <thead>\n    <tr style=\"text-align: right;\">\n      <th></th>\n      <th>movie_id</th>\n      <th>genre</th>\n    </tr>\n  </thead>\n  <tbody>\n    <tr>\n      <th>0</th>\n      <td>!women-art-revolution</td>\n      <td>[Documentary]</td>\n    </tr>\n    <tr>\n      <th>1</th>\n      <td>10-cloverfield-lane</td>\n      <td>[Action, Sci-Fi, Drama, Mystery, Thriller, Hor...</td>\n    </tr>\n    <tr>\n      <th>2</th>\n      <td>10-items-or-less</td>\n      <td>[Drama, Comedy, Romance]</td>\n    </tr>\n    <tr>\n      <th>3</th>\n      <td>10-years</td>\n      <td>[Drama, Comedy, Romance]</td>\n    </tr>\n    <tr>\n      <th>4</th>\n      <td>100-bloody-acres</td>\n      <td>[Horror, Comedy]</td>\n    </tr>\n    <tr>\n      <th>...</th>\n      <td>...</td>\n      <td>...</td>\n    </tr>\n    <tr>\n      <th>11359</th>\n      <td>zoolander-2</td>\n      <td>[Comedy]</td>\n    </tr>\n    <tr>\n      <th>11360</th>\n      <td>zoom</td>\n      <td>[Action, Adventure, Sci-Fi, Family]</td>\n    </tr>\n    <tr>\n      <th>11361</th>\n      <td>zoom-2016</td>\n      <td>[Drama, Comedy, Animation]</td>\n    </tr>\n    <tr>\n      <th>11362</th>\n      <td>zootopia</td>\n      <td>[Action, Adventure, Comedy, Crime, Animation, ...</td>\n    </tr>\n    <tr>\n      <th>11363</th>\n      <td>zus-zo</td>\n      <td>[Fantasy, Comedy, Romance]</td>\n    </tr>\n  </tbody>\n</table>\n<p>11364 rows × 2 columns</p>\n</div>"
     },
     "execution_count": 98,
     "metadata": {},
     "output_type": "execute_result"
    }
   ],
   "source": [
    "# Convert the genres that are stored in the genre column to a list in this column so that we can explode it into multiple rows.\n",
    "movie_genre_junction_table['genre'] = movie_genre_junction_table['genre'].str.split(',').tolist()\n",
    "movie_genre_junction_table"
   ],
   "metadata": {
    "collapsed": false,
    "ExecuteTime": {
     "end_time": "2023-09-21T11:37:00.960317600Z",
     "start_time": "2023-09-21T11:37:00.474978200Z"
    }
   },
   "id": "7429aa57b4f6fd60"
  },
  {
   "cell_type": "code",
   "execution_count": 99,
   "outputs": [
    {
     "data": {
      "text/plain": "                    movie_id        genre\n0      !women-art-revolution  Documentary\n1        10-cloverfield-lane       Action\n1        10-cloverfield-lane       Sci-Fi\n1        10-cloverfield-lane        Drama\n1        10-cloverfield-lane      Mystery\n...                      ...          ...\n11362               zootopia    Animation\n11362               zootopia       Family\n11363                 zus-zo      Fantasy\n11363                 zus-zo       Comedy\n11363                 zus-zo      Romance\n\n[27075 rows x 2 columns]",
      "text/html": "<div>\n<style scoped>\n    .dataframe tbody tr th:only-of-type {\n        vertical-align: middle;\n    }\n\n    .dataframe tbody tr th {\n        vertical-align: top;\n    }\n\n    .dataframe thead th {\n        text-align: right;\n    }\n</style>\n<table border=\"1\" class=\"dataframe\">\n  <thead>\n    <tr style=\"text-align: right;\">\n      <th></th>\n      <th>movie_id</th>\n      <th>genre</th>\n    </tr>\n  </thead>\n  <tbody>\n    <tr>\n      <th>0</th>\n      <td>!women-art-revolution</td>\n      <td>Documentary</td>\n    </tr>\n    <tr>\n      <th>1</th>\n      <td>10-cloverfield-lane</td>\n      <td>Action</td>\n    </tr>\n    <tr>\n      <th>1</th>\n      <td>10-cloverfield-lane</td>\n      <td>Sci-Fi</td>\n    </tr>\n    <tr>\n      <th>1</th>\n      <td>10-cloverfield-lane</td>\n      <td>Drama</td>\n    </tr>\n    <tr>\n      <th>1</th>\n      <td>10-cloverfield-lane</td>\n      <td>Mystery</td>\n    </tr>\n    <tr>\n      <th>...</th>\n      <td>...</td>\n      <td>...</td>\n    </tr>\n    <tr>\n      <th>11362</th>\n      <td>zootopia</td>\n      <td>Animation</td>\n    </tr>\n    <tr>\n      <th>11362</th>\n      <td>zootopia</td>\n      <td>Family</td>\n    </tr>\n    <tr>\n      <th>11363</th>\n      <td>zus-zo</td>\n      <td>Fantasy</td>\n    </tr>\n    <tr>\n      <th>11363</th>\n      <td>zus-zo</td>\n      <td>Comedy</td>\n    </tr>\n    <tr>\n      <th>11363</th>\n      <td>zus-zo</td>\n      <td>Romance</td>\n    </tr>\n  </tbody>\n</table>\n<p>27075 rows × 2 columns</p>\n</div>"
     },
     "execution_count": 99,
     "metadata": {},
     "output_type": "execute_result"
    }
   ],
   "source": [
    "# The epxlode method splits the lists stored in the genre table and creates a row for each genre in the cell.\n",
    "movie_genre_junction_table = movie_genre_junction_table.explode('genre')\n",
    "movie_genre_junction_table"
   ],
   "metadata": {
    "collapsed": false,
    "ExecuteTime": {
     "end_time": "2023-09-21T11:37:01.260515200Z",
     "start_time": "2023-09-21T11:37:00.581332800Z"
    }
   },
   "id": "3bb1a644bc03ab13"
  },
  {
   "cell_type": "code",
   "execution_count": 100,
   "outputs": [
    {
     "data": {
      "text/plain": "                    movie_id        genre  genre_id\n0      !women-art-revolution  Documentary         1\n1        10-cloverfield-lane       Action         2\n1        10-cloverfield-lane       Sci-Fi         3\n1        10-cloverfield-lane        Drama         4\n1        10-cloverfield-lane      Mystery         5\n...                      ...          ...       ...\n11362               zootopia    Animation        22\n11362               zootopia       Family        12\n11363                 zus-zo      Fantasy        11\n11363                 zus-zo       Comedy         8\n11363                 zus-zo      Romance         9\n\n[27075 rows x 3 columns]",
      "text/html": "<div>\n<style scoped>\n    .dataframe tbody tr th:only-of-type {\n        vertical-align: middle;\n    }\n\n    .dataframe tbody tr th {\n        vertical-align: top;\n    }\n\n    .dataframe thead th {\n        text-align: right;\n    }\n</style>\n<table border=\"1\" class=\"dataframe\">\n  <thead>\n    <tr style=\"text-align: right;\">\n      <th></th>\n      <th>movie_id</th>\n      <th>genre</th>\n      <th>genre_id</th>\n    </tr>\n  </thead>\n  <tbody>\n    <tr>\n      <th>0</th>\n      <td>!women-art-revolution</td>\n      <td>Documentary</td>\n      <td>1</td>\n    </tr>\n    <tr>\n      <th>1</th>\n      <td>10-cloverfield-lane</td>\n      <td>Action</td>\n      <td>2</td>\n    </tr>\n    <tr>\n      <th>1</th>\n      <td>10-cloverfield-lane</td>\n      <td>Sci-Fi</td>\n      <td>3</td>\n    </tr>\n    <tr>\n      <th>1</th>\n      <td>10-cloverfield-lane</td>\n      <td>Drama</td>\n      <td>4</td>\n    </tr>\n    <tr>\n      <th>1</th>\n      <td>10-cloverfield-lane</td>\n      <td>Mystery</td>\n      <td>5</td>\n    </tr>\n    <tr>\n      <th>...</th>\n      <td>...</td>\n      <td>...</td>\n      <td>...</td>\n    </tr>\n    <tr>\n      <th>11362</th>\n      <td>zootopia</td>\n      <td>Animation</td>\n      <td>22</td>\n    </tr>\n    <tr>\n      <th>11362</th>\n      <td>zootopia</td>\n      <td>Family</td>\n      <td>12</td>\n    </tr>\n    <tr>\n      <th>11363</th>\n      <td>zus-zo</td>\n      <td>Fantasy</td>\n      <td>11</td>\n    </tr>\n    <tr>\n      <th>11363</th>\n      <td>zus-zo</td>\n      <td>Comedy</td>\n      <td>8</td>\n    </tr>\n    <tr>\n      <th>11363</th>\n      <td>zus-zo</td>\n      <td>Romance</td>\n      <td>9</td>\n    </tr>\n  </tbody>\n</table>\n<p>27075 rows × 3 columns</p>\n</div>"
     },
     "execution_count": 100,
     "metadata": {},
     "output_type": "execute_result"
    }
   ],
   "source": [
    "keys = genre_table['genre']\n",
    "values = genre_table['genre_id']\n",
    "\n",
    "replacement_dictionary = {key: value for key, value in zip(keys, values)}\n",
    "\n",
    "movie_genre_junction_table['genre_id'] = movie_genre_junction_table['genre'].replace(replacement_dictionary, regex=True).astype('int')\n",
    "movie_genre_junction_table"
   ],
   "metadata": {
    "collapsed": false,
    "ExecuteTime": {
     "end_time": "2023-09-21T11:37:03.783136100Z",
     "start_time": "2023-09-21T11:37:00.685054400Z"
    }
   },
   "id": "655acdff95e88573"
  },
  {
   "cell_type": "code",
   "execution_count": 101,
   "outputs": [],
   "source": [
    "movie_genre_junction_table[['movie_id', 'genre_id']].to_csv('Cleaned data/movie_genre_junction_table.csv',\n",
    "                                                            index=False,\n",
    "                                                            sep=',')"
   ],
   "metadata": {
    "collapsed": false,
    "ExecuteTime": {
     "end_time": "2023-09-21T11:37:04.016510600Z",
     "start_time": "2023-09-21T11:37:03.104910200Z"
    }
   },
   "id": "27d06958f5142858"
  },
  {
   "cell_type": "markdown",
   "source": [
    "=============================================================================================\n",
    "## 3. Creating movies table by merging sales and metaclean\n",
    "\n",
    "Left join is used because we only want the matching titles. All titles that have a different spelling will not be added because this is out of the scope of this assignment. (Otherwise we could have solved this with Fuzzy matching.)"
   ],
   "metadata": {
    "collapsed": false
   },
   "id": "292494cd87c3b214"
  },
  {
   "cell_type": "code",
   "execution_count": 102,
   "outputs": [],
   "source": [
    "#movie_sales.head()"
   ],
   "metadata": {
    "collapsed": false,
    "ExecuteTime": {
     "end_time": "2023-09-21T11:37:04.018507900Z",
     "start_time": "2023-09-21T11:37:03.283354900Z"
    }
   },
   "id": "7c2ea50bca4018ad"
  },
  {
   "cell_type": "code",
   "execution_count": 103,
   "outputs": [],
   "source": [
    "#meta_clean.head()"
   ],
   "metadata": {
    "collapsed": false,
    "ExecuteTime": {
     "end_time": "2023-09-21T11:37:04.020505500Z",
     "start_time": "2023-09-21T11:37:03.307640800Z"
    }
   },
   "id": "959327a3aa51d9e"
  },
  {
   "cell_type": "code",
   "execution_count": 104,
   "outputs": [],
   "source": [
    "# @Mees, can you please check if this works? xoxo Martijn and Carola :)\n",
    "#movie_table = movie_sales.merge(meta_clean[['movie_id','metascore','userscore','rating_id']],\n",
    "                               # how='left', left_on='movie_id', right_on='movie_id')\n",
    "\n",
    "#movie_table.head()"
   ],
   "metadata": {
    "collapsed": false,
    "ExecuteTime": {
     "end_time": "2023-09-21T11:37:04.065379900Z",
     "start_time": "2023-09-21T11:37:03.331577100Z"
    }
   },
   "id": "6870acc7ba3d8f39"
  },
  {
   "cell_type": "code",
   "execution_count": 105,
   "outputs": [],
   "source": [
    "# movie_table['release_date'] = pd.to_datetime(movie_table['RelDate'])"
   ],
   "metadata": {
    "collapsed": false,
    "ExecuteTime": {
     "end_time": "2023-09-21T11:37:04.307731100Z",
     "start_time": "2023-09-21T11:37:03.360461600Z"
    }
   },
   "id": "341e2b267c985009"
  },
  {
   "cell_type": "markdown",
   "source": [
    "\"\"\"\n",
    "\n",
    "movie_table = movie_table[['movie_id',\n",
    "             'title', \n",
    "             'release_date',\n",
    "             'metascore',\n",
    "             'userscore',\n",
    "             'production_budget',\n",
    "             'worldwide_box_office',\n",
    "            'rating_id']]\n",
    " \n",
    "movie_table.to_csv('Cleaned data/movie_table.csv', sep=',', index=False)\n",
    "movie_table.head()\n",
    "\n",
    "\"\"\""
   ],
   "metadata": {
    "collapsed": false
   }
  },
  {
   "cell_type": "markdown",
   "source": [
    "============================================================================================="
   ],
   "metadata": {
    "collapsed": false
   },
   "id": "79b7db071b85235b"
  },
  {
   "cell_type": "markdown",
   "source": [
    "## 4. Cleaning the review datasets (expert and user)# "
   ],
   "metadata": {
    "collapsed": false
   },
   "id": "147ea55222678d74"
  },
  {
   "cell_type": "markdown",
   "source": [
    "## 4.1 Reading datasets"
   ],
   "metadata": {
    "collapsed": false
   },
   "id": "4dfa5ca3a2808125"
  },
  {
   "cell_type": "markdown",
   "source": [
    "Mees"
   ],
   "metadata": {
    "collapsed": false
   },
   "id": "2894d12c24635d57"
  },
  {
   "cell_type": "code",
   "execution_count": 106,
   "outputs": [],
   "source": [
    "# # (Mees)\n",
    "# expert = pd.read_excel('data/ExpertReviewsClean43LIWC.xlsx',\n",
    "#                         dtype={'url':'str',\n",
    "#                               'idvscore':'str',\n",
    "#                               'reviewer':'str',\n",
    "#                               'dateP':'str',\n",
    "#                               'posemo':'float',\n",
    "#                               'negemo':'float'},\n",
    "#                         na_filter=False\n",
    "#                         )\n",
    "# expert.head()"
   ],
   "metadata": {
    "collapsed": false,
    "ExecuteTime": {
     "end_time": "2023-09-21T11:37:04.311720900Z",
     "start_time": "2023-09-21T11:37:03.384400400Z"
    }
   },
   "id": "70a908453b287816"
  },
  {
   "cell_type": "code",
   "execution_count": 107,
   "outputs": [],
   "source": [
    "# # (Mees)\n",
    "# user = pd.read_excel('data/UserReviewsClean43LIWC.xlsx',\n",
    "#                        dtype={'url':'str',\n",
    "#                               'idvscore':'str',\n",
    "#                               'reviewer':'str',\n",
    "#                               'dateP':'str',\n",
    "#                               'posemo':'float',\n",
    "#                               'negemo':'float'},\n",
    "#                        na_filter=False\n",
    "#                        )\n",
    "# user.head()"
   ],
   "metadata": {
    "collapsed": false,
    "ExecuteTime": {
     "end_time": "2023-09-21T11:37:04.312719100Z",
     "start_time": "2023-09-21T11:37:03.401272200Z"
    }
   },
   "id": "1c87af8c6163a389"
  },
  {
   "cell_type": "code",
   "execution_count": 108,
   "outputs": [],
   "source": [
    "# # I decided to combine the expert and user reviews to improve database efficiency (Mees)\n",
    "# reviews = pd.concat([expert, user], keys=['expert', 'user']).reset_index()\n",
    "# \n",
    "# reviews.rename(columns={'level_0':'review_id', 'level_1':'review_id'}, inplace=True)\n",
    "# \n",
    "# reviews['review_id'] = reviews['review_id'] + 1\n",
    "# \n",
    "# reviews.to_parquet('data/reviews.parquet.gzip',\n",
    "#                    compression='gzip',\n",
    "#                    index=False)\n",
    "# \n",
    "# reviews.tail()"
   ],
   "metadata": {
    "collapsed": false,
    "ExecuteTime": {
     "end_time": "2023-09-21T11:37:04.314712700Z",
     "start_time": "2023-09-21T11:37:03.428555700Z"
    }
   },
   "id": "1c2f3d2f5ac97724"
  },
  {
   "cell_type": "code",
   "execution_count": 109,
   "outputs": [
    {
     "data": {
      "text/plain": "       Reviewer_role  review_id  \\\n508637          user     269665   \n399212          user     160240   \n342997          user     104025   \n351163          user     112191   \n4098          expert       4099   \n211891        expert     211892   \n280840          user      41868   \n433164          user     194192   \n105303        expert     105304   \n367070          user     128098   \n\n                                                      url idvscore  \\\n508637  https://www.metacritic.com/movie/the-texas-cha...        7   \n399212  https://www.metacritic.com/movie/bpm-beats-per...        8   \n342997             https://www.metacritic.com/movie/joker        1   \n351163     https://www.metacritic.com/movie/money-monster        6   \n4098    https://www.metacritic.com/movie/the-battle-of...       20   \n211891  https://www.metacritic.com/movie/bukowski-born...       70   \n280840    https://www.metacritic.com/movie/need-for-speed        5   \n433164  https://www.metacritic.com/movie/star-trek-int...        6   \n105303   https://www.metacritic.com/movie/the-emoji-movie        0   \n367070  https://www.metacritic.com/movie/avengers-endgame        2   \n\n                 reviewer            dateP  \\\n508637        'imthenoob'   'Feb 20, 2012'   \n399212       'MichaelObe'   'Oct 20, 2017'   \n342997       'LucasMolto'   'Oct 22, 2019'   \n351163            'LeZee'    'Sep 9, 2016'   \n4098         'A.O. Scott'             None   \n211891     'Kevin Thomas'             None   \n280840          'yashdan'    'Aug 4, 2014'   \n433164    'hapycampr2002'   'May 27, 2013'   \n105303   'Alonso Duralde'   'Jul 27, 2017'   \n367070      'TrevorsView'    'May 2, 2019'   \n\n                                                      Rev    WC  posemo  \\\n508637   'Suprisingly better then the previous remake ...   NaN   13.95   \n399212   'In the early 1990s, the AIDS epidemic in Fra...   NaN    3.34   \n342997   'Awful movie. Just misery porn 4 upper class ...   NaN    5.56   \n351163   'What if the experts are wrong! And how it af...   NaN    6.44   \n4098     'May lead to a new axiom: success has many fa...  15.0    6.67   \n211891   'Accomplishes beautifully what it sets out to...  27.0    0.00   \n280840   'An OK movie with an OK story with very poor ...   NaN   15.38   \n433164   'This review contains spoilers, click expand ...   NaN    2.17   \n105303   'It is a soul-crushing disaster because it la...  51.0    1.96   \n367070   'This review contains spoilers, click expand ...   NaN    4.06   \n\n        negemo  \n508637    3.49  \n399212    3.08  \n342997   11.11  \n351163    1.38  \n4098      6.67  \n211891    0.00  \n280840    7.69  \n433164    3.48  \n105303    1.96  \n367070    3.82  ",
      "text/html": "<div>\n<style scoped>\n    .dataframe tbody tr th:only-of-type {\n        vertical-align: middle;\n    }\n\n    .dataframe tbody tr th {\n        vertical-align: top;\n    }\n\n    .dataframe thead th {\n        text-align: right;\n    }\n</style>\n<table border=\"1\" class=\"dataframe\">\n  <thead>\n    <tr style=\"text-align: right;\">\n      <th></th>\n      <th>Reviewer_role</th>\n      <th>review_id</th>\n      <th>url</th>\n      <th>idvscore</th>\n      <th>reviewer</th>\n      <th>dateP</th>\n      <th>Rev</th>\n      <th>WC</th>\n      <th>posemo</th>\n      <th>negemo</th>\n    </tr>\n  </thead>\n  <tbody>\n    <tr>\n      <th>508637</th>\n      <td>user</td>\n      <td>269665</td>\n      <td>https://www.metacritic.com/movie/the-texas-cha...</td>\n      <td>7</td>\n      <td>'imthenoob'</td>\n      <td>'Feb 20, 2012'</td>\n      <td>'Suprisingly better then the previous remake ...</td>\n      <td>NaN</td>\n      <td>13.95</td>\n      <td>3.49</td>\n    </tr>\n    <tr>\n      <th>399212</th>\n      <td>user</td>\n      <td>160240</td>\n      <td>https://www.metacritic.com/movie/bpm-beats-per...</td>\n      <td>8</td>\n      <td>'MichaelObe'</td>\n      <td>'Oct 20, 2017'</td>\n      <td>'In the early 1990s, the AIDS epidemic in Fra...</td>\n      <td>NaN</td>\n      <td>3.34</td>\n      <td>3.08</td>\n    </tr>\n    <tr>\n      <th>342997</th>\n      <td>user</td>\n      <td>104025</td>\n      <td>https://www.metacritic.com/movie/joker</td>\n      <td>1</td>\n      <td>'LucasMolto'</td>\n      <td>'Oct 22, 2019'</td>\n      <td>'Awful movie. Just misery porn 4 upper class ...</td>\n      <td>NaN</td>\n      <td>5.56</td>\n      <td>11.11</td>\n    </tr>\n    <tr>\n      <th>351163</th>\n      <td>user</td>\n      <td>112191</td>\n      <td>https://www.metacritic.com/movie/money-monster</td>\n      <td>6</td>\n      <td>'LeZee'</td>\n      <td>'Sep 9, 2016'</td>\n      <td>'What if the experts are wrong! And how it af...</td>\n      <td>NaN</td>\n      <td>6.44</td>\n      <td>1.38</td>\n    </tr>\n    <tr>\n      <th>4098</th>\n      <td>expert</td>\n      <td>4099</td>\n      <td>https://www.metacritic.com/movie/the-battle-of...</td>\n      <td>20</td>\n      <td>'A.O. Scott'</td>\n      <td>None</td>\n      <td>'May lead to a new axiom: success has many fa...</td>\n      <td>15.0</td>\n      <td>6.67</td>\n      <td>6.67</td>\n    </tr>\n    <tr>\n      <th>211891</th>\n      <td>expert</td>\n      <td>211892</td>\n      <td>https://www.metacritic.com/movie/bukowski-born...</td>\n      <td>70</td>\n      <td>'Kevin Thomas'</td>\n      <td>None</td>\n      <td>'Accomplishes beautifully what it sets out to...</td>\n      <td>27.0</td>\n      <td>0.00</td>\n      <td>0.00</td>\n    </tr>\n    <tr>\n      <th>280840</th>\n      <td>user</td>\n      <td>41868</td>\n      <td>https://www.metacritic.com/movie/need-for-speed</td>\n      <td>5</td>\n      <td>'yashdan'</td>\n      <td>'Aug 4, 2014'</td>\n      <td>'An OK movie with an OK story with very poor ...</td>\n      <td>NaN</td>\n      <td>15.38</td>\n      <td>7.69</td>\n    </tr>\n    <tr>\n      <th>433164</th>\n      <td>user</td>\n      <td>194192</td>\n      <td>https://www.metacritic.com/movie/star-trek-int...</td>\n      <td>6</td>\n      <td>'hapycampr2002'</td>\n      <td>'May 27, 2013'</td>\n      <td>'This review contains spoilers, click expand ...</td>\n      <td>NaN</td>\n      <td>2.17</td>\n      <td>3.48</td>\n    </tr>\n    <tr>\n      <th>105303</th>\n      <td>expert</td>\n      <td>105304</td>\n      <td>https://www.metacritic.com/movie/the-emoji-movie</td>\n      <td>0</td>\n      <td>'Alonso Duralde'</td>\n      <td>'Jul 27, 2017'</td>\n      <td>'It is a soul-crushing disaster because it la...</td>\n      <td>51.0</td>\n      <td>1.96</td>\n      <td>1.96</td>\n    </tr>\n    <tr>\n      <th>367070</th>\n      <td>user</td>\n      <td>128098</td>\n      <td>https://www.metacritic.com/movie/avengers-endgame</td>\n      <td>2</td>\n      <td>'TrevorsView'</td>\n      <td>'May 2, 2019'</td>\n      <td>'This review contains spoilers, click expand ...</td>\n      <td>NaN</td>\n      <td>4.06</td>\n      <td>3.82</td>\n    </tr>\n  </tbody>\n</table>\n</div>"
     },
     "execution_count": 109,
     "metadata": {},
     "output_type": "execute_result"
    }
   ],
   "source": [
    "# (Mees)\n",
    "reviews = pd.read_parquet('data/reviews.parquet.gzip')\n",
    "\n",
    "reviews.sample(10)"
   ],
   "metadata": {
    "collapsed": false,
    "ExecuteTime": {
     "end_time": "2023-09-21T11:37:11.468720Z",
     "start_time": "2023-09-21T11:37:03.455016400Z"
    }
   },
   "id": "ddba0378af6c9d4d"
  },
  {
   "cell_type": "code",
   "execution_count": 110,
   "outputs": [
    {
     "data": {
      "text/plain": "       Reviewer_role  review_id  \\\n0             expert          1   \n1             expert          2   \n2             expert          3   \n3             expert          4   \n4             expert          5   \n...              ...        ...   \n558630          user     319658   \n558631          user     319659   \n558632          user     319660   \n558633          user     319661   \n558634          user     319662   \n\n                                                   url idvscore  \\\n0             https://www.metacritic.com/movie/bronson      100   \n1             https://www.metacritic.com/movie/bronson       90   \n2             https://www.metacritic.com/movie/bronson       90   \n3             https://www.metacritic.com/movie/bronson       83   \n4             https://www.metacritic.com/movie/bronson       80   \n...                                                ...      ...   \n558630  https://www.metacritic.com/movie/spirited-away       10   \n558631  https://www.metacritic.com/movie/spirited-away       10   \n558632  https://www.metacritic.com/movie/spirited-away       10   \n558633  https://www.metacritic.com/movie/spirited-away       10   \n558634  https://www.metacritic.com/movie/spirited-away       10   \n\n                  reviewer            dateP  \\\n0         \"Andrew O'Hehir\"             None   \n1             'A.O. Scott'             None   \n2                     None             None   \n3            'Noel Murray'             None   \n4        'Joshua Rothkopf'             None   \n...                    ...              ...   \n558630           'Zenflar'    'Sep 6, 2021'   \n558631    'juiliopaublito'   'Nov 25, 2021'   \n558632   'PorridgeBoy3000'   'Dec 31, 2021'   \n558633        'jamesfhall'   'Jan 20, 2022'   \n558634          'Motoritz'    'Feb 7, 2022'   \n\n                                                      Rev    WC  posemo  \\\n0        'Bronson owes a little or a lot to Kubrick s ...  25.0    0.00   \n1        'Bronson invites you to admire its protagonis...  30.0    6.67   \n2        'Whether it s Peterson/Bronson s more theatri...  40.0    0.00   \n3        'There are two Bronsons on display here: the ...  39.0    5.13   \n4        'Refn has somehow found his way to an authent...  24.0    0.00   \n...                                                   ...   ...     ...   \n558630   'A+A+A+A+A+A+A+A+A+A+A+A+A+A+A+A+A+A+A+A+A+A+...   NaN    0.00   \n558631   'in my opinion spirited away is one of the be...   NaN    4.55   \n558632   'Usually I don t like watching movies that mu...   NaN    5.71   \n558633   'Studio Ghibli s gripping masterpiece Spirite...   NaN    8.33   \n558634   'Words cannot describe how amazing this movie...   NaN    7.14   \n\n        negemo  \n0         0.00  \n1         0.00  \n2         2.50  \n3         5.13  \n4         0.00  \n...        ...  \n558630    0.00  \n558631    0.00  \n558632    0.00  \n558633    0.00  \n558634    0.00  \n\n[558635 rows x 10 columns]",
      "text/html": "<div>\n<style scoped>\n    .dataframe tbody tr th:only-of-type {\n        vertical-align: middle;\n    }\n\n    .dataframe tbody tr th {\n        vertical-align: top;\n    }\n\n    .dataframe thead th {\n        text-align: right;\n    }\n</style>\n<table border=\"1\" class=\"dataframe\">\n  <thead>\n    <tr style=\"text-align: right;\">\n      <th></th>\n      <th>Reviewer_role</th>\n      <th>review_id</th>\n      <th>url</th>\n      <th>idvscore</th>\n      <th>reviewer</th>\n      <th>dateP</th>\n      <th>Rev</th>\n      <th>WC</th>\n      <th>posemo</th>\n      <th>negemo</th>\n    </tr>\n  </thead>\n  <tbody>\n    <tr>\n      <th>0</th>\n      <td>expert</td>\n      <td>1</td>\n      <td>https://www.metacritic.com/movie/bronson</td>\n      <td>100</td>\n      <td>\"Andrew O'Hehir\"</td>\n      <td>None</td>\n      <td>'Bronson owes a little or a lot to Kubrick s ...</td>\n      <td>25.0</td>\n      <td>0.00</td>\n      <td>0.00</td>\n    </tr>\n    <tr>\n      <th>1</th>\n      <td>expert</td>\n      <td>2</td>\n      <td>https://www.metacritic.com/movie/bronson</td>\n      <td>90</td>\n      <td>'A.O. Scott'</td>\n      <td>None</td>\n      <td>'Bronson invites you to admire its protagonis...</td>\n      <td>30.0</td>\n      <td>6.67</td>\n      <td>0.00</td>\n    </tr>\n    <tr>\n      <th>2</th>\n      <td>expert</td>\n      <td>3</td>\n      <td>https://www.metacritic.com/movie/bronson</td>\n      <td>90</td>\n      <td>None</td>\n      <td>None</td>\n      <td>'Whether it s Peterson/Bronson s more theatri...</td>\n      <td>40.0</td>\n      <td>0.00</td>\n      <td>2.50</td>\n    </tr>\n    <tr>\n      <th>3</th>\n      <td>expert</td>\n      <td>4</td>\n      <td>https://www.metacritic.com/movie/bronson</td>\n      <td>83</td>\n      <td>'Noel Murray'</td>\n      <td>None</td>\n      <td>'There are two Bronsons on display here: the ...</td>\n      <td>39.0</td>\n      <td>5.13</td>\n      <td>5.13</td>\n    </tr>\n    <tr>\n      <th>4</th>\n      <td>expert</td>\n      <td>5</td>\n      <td>https://www.metacritic.com/movie/bronson</td>\n      <td>80</td>\n      <td>'Joshua Rothkopf'</td>\n      <td>None</td>\n      <td>'Refn has somehow found his way to an authent...</td>\n      <td>24.0</td>\n      <td>0.00</td>\n      <td>0.00</td>\n    </tr>\n    <tr>\n      <th>...</th>\n      <td>...</td>\n      <td>...</td>\n      <td>...</td>\n      <td>...</td>\n      <td>...</td>\n      <td>...</td>\n      <td>...</td>\n      <td>...</td>\n      <td>...</td>\n      <td>...</td>\n    </tr>\n    <tr>\n      <th>558630</th>\n      <td>user</td>\n      <td>319658</td>\n      <td>https://www.metacritic.com/movie/spirited-away</td>\n      <td>10</td>\n      <td>'Zenflar'</td>\n      <td>'Sep 6, 2021'</td>\n      <td>'A+A+A+A+A+A+A+A+A+A+A+A+A+A+A+A+A+A+A+A+A+A+...</td>\n      <td>NaN</td>\n      <td>0.00</td>\n      <td>0.00</td>\n    </tr>\n    <tr>\n      <th>558631</th>\n      <td>user</td>\n      <td>319659</td>\n      <td>https://www.metacritic.com/movie/spirited-away</td>\n      <td>10</td>\n      <td>'juiliopaublito'</td>\n      <td>'Nov 25, 2021'</td>\n      <td>'in my opinion spirited away is one of the be...</td>\n      <td>NaN</td>\n      <td>4.55</td>\n      <td>0.00</td>\n    </tr>\n    <tr>\n      <th>558632</th>\n      <td>user</td>\n      <td>319660</td>\n      <td>https://www.metacritic.com/movie/spirited-away</td>\n      <td>10</td>\n      <td>'PorridgeBoy3000'</td>\n      <td>'Dec 31, 2021'</td>\n      <td>'Usually I don t like watching movies that mu...</td>\n      <td>NaN</td>\n      <td>5.71</td>\n      <td>0.00</td>\n    </tr>\n    <tr>\n      <th>558633</th>\n      <td>user</td>\n      <td>319661</td>\n      <td>https://www.metacritic.com/movie/spirited-away</td>\n      <td>10</td>\n      <td>'jamesfhall'</td>\n      <td>'Jan 20, 2022'</td>\n      <td>'Studio Ghibli s gripping masterpiece Spirite...</td>\n      <td>NaN</td>\n      <td>8.33</td>\n      <td>0.00</td>\n    </tr>\n    <tr>\n      <th>558634</th>\n      <td>user</td>\n      <td>319662</td>\n      <td>https://www.metacritic.com/movie/spirited-away</td>\n      <td>10</td>\n      <td>'Motoritz'</td>\n      <td>'Feb 7, 2022'</td>\n      <td>'Words cannot describe how amazing this movie...</td>\n      <td>NaN</td>\n      <td>7.14</td>\n      <td>0.00</td>\n    </tr>\n  </tbody>\n</table>\n<p>558635 rows × 10 columns</p>\n</div>"
     },
     "execution_count": 110,
     "metadata": {},
     "output_type": "execute_result"
    }
   ],
   "source": [
    "reviews"
   ],
   "metadata": {
    "collapsed": false,
    "ExecuteTime": {
     "end_time": "2023-09-21T11:37:11.554629300Z",
     "start_time": "2023-09-21T11:37:11.479696500Z"
    }
   },
   "id": "e645aca43de395f8"
  },
  {
   "cell_type": "markdown",
   "source": [
    "## 4.2 Cleaning"
   ],
   "metadata": {
    "collapsed": false
   },
   "id": "f0d260afa2c169e7"
  },
  {
   "cell_type": "markdown",
   "source": [
    "Martijn"
   ],
   "metadata": {
    "collapsed": false
   },
   "id": "a4caf0a68d5b0e06"
  },
  {
   "cell_type": "code",
   "execution_count": 111,
   "outputs": [
    {
     "data": {
      "text/plain": "       Reviewer_role  review_id  \\\n0             expert          1   \n1             expert          2   \n2             expert          3   \n3             expert          4   \n4             expert          5   \n...              ...        ...   \n558630          user     319658   \n558631          user     319659   \n558632          user     319660   \n558633          user     319661   \n558634          user     319662   \n\n                                                   url idvscore  \\\n0             https://www.metacritic.com/movie/bronson      100   \n1             https://www.metacritic.com/movie/bronson       90   \n2             https://www.metacritic.com/movie/bronson       90   \n3             https://www.metacritic.com/movie/bronson       83   \n4             https://www.metacritic.com/movie/bronson       80   \n...                                                ...      ...   \n558630  https://www.metacritic.com/movie/spirited-away       10   \n558631  https://www.metacritic.com/movie/spirited-away       10   \n558632  https://www.metacritic.com/movie/spirited-away       10   \n558633  https://www.metacritic.com/movie/spirited-away       10   \n558634  https://www.metacritic.com/movie/spirited-away       10   \n\n                  reviewer            dateP  \\\n0         \"Andrew O'Hehir\"             None   \n1             'A.O. Scott'             None   \n2                     None             None   \n3            'Noel Murray'             None   \n4        'Joshua Rothkopf'             None   \n...                    ...              ...   \n558630           'Zenflar'    'Sep 6, 2021'   \n558631    'juiliopaublito'   'Nov 25, 2021'   \n558632   'PorridgeBoy3000'   'Dec 31, 2021'   \n558633        'jamesfhall'   'Jan 20, 2022'   \n558634          'Motoritz'    'Feb 7, 2022'   \n\n                                                      Rev    WC  posemo  \\\n0        'Bronson owes a little or a lot to Kubrick s ...  25.0    0.00   \n1        'Bronson invites you to admire its protagonis...  30.0    6.67   \n2        'Whether it s Peterson/Bronson s more theatri...  40.0    0.00   \n3        'There are two Bronsons on display here: the ...  39.0    5.13   \n4        'Refn has somehow found his way to an authent...  24.0    0.00   \n...                                                   ...   ...     ...   \n558630   'A+A+A+A+A+A+A+A+A+A+A+A+A+A+A+A+A+A+A+A+A+A+...   NaN    0.00   \n558631   'in my opinion spirited away is one of the be...   NaN    4.55   \n558632   'Usually I don t like watching movies that mu...   NaN    5.71   \n558633   'Studio Ghibli s gripping masterpiece Spirite...   NaN    8.33   \n558634   'Words cannot describe how amazing this movie...   NaN    7.14   \n\n        negemo  \n0         0.00  \n1         0.00  \n2         2.50  \n3         5.13  \n4         0.00  \n...        ...  \n558630    0.00  \n558631    0.00  \n558632    0.00  \n558633    0.00  \n558634    0.00  \n\n[558635 rows x 10 columns]",
      "text/html": "<div>\n<style scoped>\n    .dataframe tbody tr th:only-of-type {\n        vertical-align: middle;\n    }\n\n    .dataframe tbody tr th {\n        vertical-align: top;\n    }\n\n    .dataframe thead th {\n        text-align: right;\n    }\n</style>\n<table border=\"1\" class=\"dataframe\">\n  <thead>\n    <tr style=\"text-align: right;\">\n      <th></th>\n      <th>Reviewer_role</th>\n      <th>review_id</th>\n      <th>url</th>\n      <th>idvscore</th>\n      <th>reviewer</th>\n      <th>dateP</th>\n      <th>Rev</th>\n      <th>WC</th>\n      <th>posemo</th>\n      <th>negemo</th>\n    </tr>\n  </thead>\n  <tbody>\n    <tr>\n      <th>0</th>\n      <td>expert</td>\n      <td>1</td>\n      <td>https://www.metacritic.com/movie/bronson</td>\n      <td>100</td>\n      <td>\"Andrew O'Hehir\"</td>\n      <td>None</td>\n      <td>'Bronson owes a little or a lot to Kubrick s ...</td>\n      <td>25.0</td>\n      <td>0.00</td>\n      <td>0.00</td>\n    </tr>\n    <tr>\n      <th>1</th>\n      <td>expert</td>\n      <td>2</td>\n      <td>https://www.metacritic.com/movie/bronson</td>\n      <td>90</td>\n      <td>'A.O. Scott'</td>\n      <td>None</td>\n      <td>'Bronson invites you to admire its protagonis...</td>\n      <td>30.0</td>\n      <td>6.67</td>\n      <td>0.00</td>\n    </tr>\n    <tr>\n      <th>2</th>\n      <td>expert</td>\n      <td>3</td>\n      <td>https://www.metacritic.com/movie/bronson</td>\n      <td>90</td>\n      <td>None</td>\n      <td>None</td>\n      <td>'Whether it s Peterson/Bronson s more theatri...</td>\n      <td>40.0</td>\n      <td>0.00</td>\n      <td>2.50</td>\n    </tr>\n    <tr>\n      <th>3</th>\n      <td>expert</td>\n      <td>4</td>\n      <td>https://www.metacritic.com/movie/bronson</td>\n      <td>83</td>\n      <td>'Noel Murray'</td>\n      <td>None</td>\n      <td>'There are two Bronsons on display here: the ...</td>\n      <td>39.0</td>\n      <td>5.13</td>\n      <td>5.13</td>\n    </tr>\n    <tr>\n      <th>4</th>\n      <td>expert</td>\n      <td>5</td>\n      <td>https://www.metacritic.com/movie/bronson</td>\n      <td>80</td>\n      <td>'Joshua Rothkopf'</td>\n      <td>None</td>\n      <td>'Refn has somehow found his way to an authent...</td>\n      <td>24.0</td>\n      <td>0.00</td>\n      <td>0.00</td>\n    </tr>\n    <tr>\n      <th>...</th>\n      <td>...</td>\n      <td>...</td>\n      <td>...</td>\n      <td>...</td>\n      <td>...</td>\n      <td>...</td>\n      <td>...</td>\n      <td>...</td>\n      <td>...</td>\n      <td>...</td>\n    </tr>\n    <tr>\n      <th>558630</th>\n      <td>user</td>\n      <td>319658</td>\n      <td>https://www.metacritic.com/movie/spirited-away</td>\n      <td>10</td>\n      <td>'Zenflar'</td>\n      <td>'Sep 6, 2021'</td>\n      <td>'A+A+A+A+A+A+A+A+A+A+A+A+A+A+A+A+A+A+A+A+A+A+...</td>\n      <td>NaN</td>\n      <td>0.00</td>\n      <td>0.00</td>\n    </tr>\n    <tr>\n      <th>558631</th>\n      <td>user</td>\n      <td>319659</td>\n      <td>https://www.metacritic.com/movie/spirited-away</td>\n      <td>10</td>\n      <td>'juiliopaublito'</td>\n      <td>'Nov 25, 2021'</td>\n      <td>'in my opinion spirited away is one of the be...</td>\n      <td>NaN</td>\n      <td>4.55</td>\n      <td>0.00</td>\n    </tr>\n    <tr>\n      <th>558632</th>\n      <td>user</td>\n      <td>319660</td>\n      <td>https://www.metacritic.com/movie/spirited-away</td>\n      <td>10</td>\n      <td>'PorridgeBoy3000'</td>\n      <td>'Dec 31, 2021'</td>\n      <td>'Usually I don t like watching movies that mu...</td>\n      <td>NaN</td>\n      <td>5.71</td>\n      <td>0.00</td>\n    </tr>\n    <tr>\n      <th>558633</th>\n      <td>user</td>\n      <td>319661</td>\n      <td>https://www.metacritic.com/movie/spirited-away</td>\n      <td>10</td>\n      <td>'jamesfhall'</td>\n      <td>'Jan 20, 2022'</td>\n      <td>'Studio Ghibli s gripping masterpiece Spirite...</td>\n      <td>NaN</td>\n      <td>8.33</td>\n      <td>0.00</td>\n    </tr>\n    <tr>\n      <th>558634</th>\n      <td>user</td>\n      <td>319662</td>\n      <td>https://www.metacritic.com/movie/spirited-away</td>\n      <td>10</td>\n      <td>'Motoritz'</td>\n      <td>'Feb 7, 2022'</td>\n      <td>'Words cannot describe how amazing this movie...</td>\n      <td>NaN</td>\n      <td>7.14</td>\n      <td>0.00</td>\n    </tr>\n  </tbody>\n</table>\n<p>558635 rows × 10 columns</p>\n</div>"
     },
     "execution_count": 111,
     "metadata": {},
     "output_type": "execute_result"
    }
   ],
   "source": [
    "# Create a unique review ID for every review by using the unique() function\n",
    "# Make changes permanent by using 'inplace=True'\n",
    "reviews['Rev'].unique()\n",
    "reviews"
   ],
   "metadata": {
    "collapsed": false,
    "ExecuteTime": {
     "end_time": "2023-09-21T11:37:12.716346800Z",
     "start_time": "2023-09-21T11:37:11.516732500Z"
    }
   },
   "id": "92f8eaf40d56e01b"
  },
  {
   "cell_type": "code",
   "execution_count": 112,
   "outputs": [
    {
     "data": {
      "text/plain": "  role_id  review_id                                       url idvscore  \\\n0  expert          1  https://www.metacritic.com/movie/bronson      100   \n1  expert          2  https://www.metacritic.com/movie/bronson       90   \n2  expert          3  https://www.metacritic.com/movie/bronson       90   \n3  expert          4  https://www.metacritic.com/movie/bronson       83   \n4  expert          5  https://www.metacritic.com/movie/bronson       80   \n\n             reviewer  dateP  \\\n0    \"Andrew O'Hehir\"   None   \n1        'A.O. Scott'   None   \n2                None   None   \n3       'Noel Murray'   None   \n4   'Joshua Rothkopf'   None   \n\n                                                 Rev    WC  posemo  negemo  \n0   'Bronson owes a little or a lot to Kubrick s ...  25.0    0.00    0.00  \n1   'Bronson invites you to admire its protagonis...  30.0    6.67    0.00  \n2   'Whether it s Peterson/Bronson s more theatri...  40.0    0.00    2.50  \n3   'There are two Bronsons on display here: the ...  39.0    5.13    5.13  \n4   'Refn has somehow found his way to an authent...  24.0    0.00    0.00  ",
      "text/html": "<div>\n<style scoped>\n    .dataframe tbody tr th:only-of-type {\n        vertical-align: middle;\n    }\n\n    .dataframe tbody tr th {\n        vertical-align: top;\n    }\n\n    .dataframe thead th {\n        text-align: right;\n    }\n</style>\n<table border=\"1\" class=\"dataframe\">\n  <thead>\n    <tr style=\"text-align: right;\">\n      <th></th>\n      <th>role_id</th>\n      <th>review_id</th>\n      <th>url</th>\n      <th>idvscore</th>\n      <th>reviewer</th>\n      <th>dateP</th>\n      <th>Rev</th>\n      <th>WC</th>\n      <th>posemo</th>\n      <th>negemo</th>\n    </tr>\n  </thead>\n  <tbody>\n    <tr>\n      <th>0</th>\n      <td>expert</td>\n      <td>1</td>\n      <td>https://www.metacritic.com/movie/bronson</td>\n      <td>100</td>\n      <td>\"Andrew O'Hehir\"</td>\n      <td>None</td>\n      <td>'Bronson owes a little or a lot to Kubrick s ...</td>\n      <td>25.0</td>\n      <td>0.00</td>\n      <td>0.00</td>\n    </tr>\n    <tr>\n      <th>1</th>\n      <td>expert</td>\n      <td>2</td>\n      <td>https://www.metacritic.com/movie/bronson</td>\n      <td>90</td>\n      <td>'A.O. Scott'</td>\n      <td>None</td>\n      <td>'Bronson invites you to admire its protagonis...</td>\n      <td>30.0</td>\n      <td>6.67</td>\n      <td>0.00</td>\n    </tr>\n    <tr>\n      <th>2</th>\n      <td>expert</td>\n      <td>3</td>\n      <td>https://www.metacritic.com/movie/bronson</td>\n      <td>90</td>\n      <td>None</td>\n      <td>None</td>\n      <td>'Whether it s Peterson/Bronson s more theatri...</td>\n      <td>40.0</td>\n      <td>0.00</td>\n      <td>2.50</td>\n    </tr>\n    <tr>\n      <th>3</th>\n      <td>expert</td>\n      <td>4</td>\n      <td>https://www.metacritic.com/movie/bronson</td>\n      <td>83</td>\n      <td>'Noel Murray'</td>\n      <td>None</td>\n      <td>'There are two Bronsons on display here: the ...</td>\n      <td>39.0</td>\n      <td>5.13</td>\n      <td>5.13</td>\n    </tr>\n    <tr>\n      <th>4</th>\n      <td>expert</td>\n      <td>5</td>\n      <td>https://www.metacritic.com/movie/bronson</td>\n      <td>80</td>\n      <td>'Joshua Rothkopf'</td>\n      <td>None</td>\n      <td>'Refn has somehow found his way to an authent...</td>\n      <td>24.0</td>\n      <td>0.00</td>\n      <td>0.00</td>\n    </tr>\n  </tbody>\n</table>\n</div>"
     },
     "execution_count": 112,
     "metadata": {},
     "output_type": "execute_result"
    }
   ],
   "source": [
    "#Rename columns\n",
    "reviews = reviews.rename(columns={'Reviewer_role': 'role_id'})\n",
    "# Use datatype and head command to look at the results\n",
    "reviews.head()"
   ],
   "metadata": {
    "collapsed": false,
    "ExecuteTime": {
     "end_time": "2023-09-21T11:37:12.870021700Z",
     "start_time": "2023-09-21T11:37:12.714349400Z"
    }
   },
   "id": "ce7a2fdc18f73a15"
  },
  {
   "cell_type": "code",
   "execution_count": 113,
   "outputs": [
    {
     "data": {
      "text/plain": "   role_id  review_id                                       url idvscore  \\\n0        1          1  https://www.metacritic.com/movie/bronson      100   \n1        1          2  https://www.metacritic.com/movie/bronson       90   \n2        1          3  https://www.metacritic.com/movie/bronson       90   \n3        1          4  https://www.metacritic.com/movie/bronson       83   \n4        1          5  https://www.metacritic.com/movie/bronson       80   \n\n             reviewer  dateP  \\\n0    \"Andrew O'Hehir\"   None   \n1        'A.O. Scott'   None   \n2                None   None   \n3       'Noel Murray'   None   \n4   'Joshua Rothkopf'   None   \n\n                                                 Rev    WC  posemo  negemo  \n0   'Bronson owes a little or a lot to Kubrick s ...  25.0    0.00    0.00  \n1   'Bronson invites you to admire its protagonis...  30.0    6.67    0.00  \n2   'Whether it s Peterson/Bronson s more theatri...  40.0    0.00    2.50  \n3   'There are two Bronsons on display here: the ...  39.0    5.13    5.13  \n4   'Refn has somehow found his way to an authent...  24.0    0.00    0.00  ",
      "text/html": "<div>\n<style scoped>\n    .dataframe tbody tr th:only-of-type {\n        vertical-align: middle;\n    }\n\n    .dataframe tbody tr th {\n        vertical-align: top;\n    }\n\n    .dataframe thead th {\n        text-align: right;\n    }\n</style>\n<table border=\"1\" class=\"dataframe\">\n  <thead>\n    <tr style=\"text-align: right;\">\n      <th></th>\n      <th>role_id</th>\n      <th>review_id</th>\n      <th>url</th>\n      <th>idvscore</th>\n      <th>reviewer</th>\n      <th>dateP</th>\n      <th>Rev</th>\n      <th>WC</th>\n      <th>posemo</th>\n      <th>negemo</th>\n    </tr>\n  </thead>\n  <tbody>\n    <tr>\n      <th>0</th>\n      <td>1</td>\n      <td>1</td>\n      <td>https://www.metacritic.com/movie/bronson</td>\n      <td>100</td>\n      <td>\"Andrew O'Hehir\"</td>\n      <td>None</td>\n      <td>'Bronson owes a little or a lot to Kubrick s ...</td>\n      <td>25.0</td>\n      <td>0.00</td>\n      <td>0.00</td>\n    </tr>\n    <tr>\n      <th>1</th>\n      <td>1</td>\n      <td>2</td>\n      <td>https://www.metacritic.com/movie/bronson</td>\n      <td>90</td>\n      <td>'A.O. Scott'</td>\n      <td>None</td>\n      <td>'Bronson invites you to admire its protagonis...</td>\n      <td>30.0</td>\n      <td>6.67</td>\n      <td>0.00</td>\n    </tr>\n    <tr>\n      <th>2</th>\n      <td>1</td>\n      <td>3</td>\n      <td>https://www.metacritic.com/movie/bronson</td>\n      <td>90</td>\n      <td>None</td>\n      <td>None</td>\n      <td>'Whether it s Peterson/Bronson s more theatri...</td>\n      <td>40.0</td>\n      <td>0.00</td>\n      <td>2.50</td>\n    </tr>\n    <tr>\n      <th>3</th>\n      <td>1</td>\n      <td>4</td>\n      <td>https://www.metacritic.com/movie/bronson</td>\n      <td>83</td>\n      <td>'Noel Murray'</td>\n      <td>None</td>\n      <td>'There are two Bronsons on display here: the ...</td>\n      <td>39.0</td>\n      <td>5.13</td>\n      <td>5.13</td>\n    </tr>\n    <tr>\n      <th>4</th>\n      <td>1</td>\n      <td>5</td>\n      <td>https://www.metacritic.com/movie/bronson</td>\n      <td>80</td>\n      <td>'Joshua Rothkopf'</td>\n      <td>None</td>\n      <td>'Refn has somehow found his way to an authent...</td>\n      <td>24.0</td>\n      <td>0.00</td>\n      <td>0.00</td>\n    </tr>\n  </tbody>\n</table>\n</div>"
     },
     "execution_count": 113,
     "metadata": {},
     "output_type": "execute_result"
    }
   ],
   "source": [
    "reviews['role_id'] = reviews['role_id'].replace({'expert':1, 'user':0}, regex=True)\n",
    "reviews.head()"
   ],
   "metadata": {
    "collapsed": false,
    "ExecuteTime": {
     "end_time": "2023-09-21T11:37:17.626368400Z",
     "start_time": "2023-09-21T11:37:12.813176Z"
    }
   },
   "id": "dc61edeac2dc32d8"
  },
  {
   "cell_type": "code",
   "execution_count": 114,
   "outputs": [
    {
     "data": {
      "text/plain": "   role_id  review_id                                       url idvscore  \\\n0        1          1  https://www.metacritic.com/movie/bronson      100   \n1        1          2  https://www.metacritic.com/movie/bronson       90   \n2        1          3  https://www.metacritic.com/movie/bronson       90   \n3        1          4  https://www.metacritic.com/movie/bronson       83   \n4        1          5  https://www.metacritic.com/movie/bronson       80   \n\n             reviewer  dateP  \\\n0    \"Andrew O'Hehir\"   None   \n1        'A.O. Scott'   None   \n2                None   None   \n3       'Noel Murray'   None   \n4   'Joshua Rothkopf'   None   \n\n                                                 Rev    WC  posemo  negemo  \n0   'Bronson owes a little or a lot to Kubrick s ...  25.0    0.00    0.00  \n1   'Bronson invites you to admire its protagonis...  30.0    6.67    0.00  \n2   'Whether it s Peterson/Bronson s more theatri...  40.0    0.00    2.50  \n3   'There are two Bronsons on display here: the ...  39.0    5.13    5.13  \n4   'Refn has somehow found his way to an authent...  24.0    0.00    0.00  ",
      "text/html": "<div>\n<style scoped>\n    .dataframe tbody tr th:only-of-type {\n        vertical-align: middle;\n    }\n\n    .dataframe tbody tr th {\n        vertical-align: top;\n    }\n\n    .dataframe thead th {\n        text-align: right;\n    }\n</style>\n<table border=\"1\" class=\"dataframe\">\n  <thead>\n    <tr style=\"text-align: right;\">\n      <th></th>\n      <th>role_id</th>\n      <th>review_id</th>\n      <th>url</th>\n      <th>idvscore</th>\n      <th>reviewer</th>\n      <th>dateP</th>\n      <th>Rev</th>\n      <th>WC</th>\n      <th>posemo</th>\n      <th>negemo</th>\n    </tr>\n  </thead>\n  <tbody>\n    <tr>\n      <th>0</th>\n      <td>1</td>\n      <td>1</td>\n      <td>https://www.metacritic.com/movie/bronson</td>\n      <td>100</td>\n      <td>\"Andrew O'Hehir\"</td>\n      <td>None</td>\n      <td>'Bronson owes a little or a lot to Kubrick s ...</td>\n      <td>25.0</td>\n      <td>0.00</td>\n      <td>0.00</td>\n    </tr>\n    <tr>\n      <th>1</th>\n      <td>1</td>\n      <td>2</td>\n      <td>https://www.metacritic.com/movie/bronson</td>\n      <td>90</td>\n      <td>'A.O. Scott'</td>\n      <td>None</td>\n      <td>'Bronson invites you to admire its protagonis...</td>\n      <td>30.0</td>\n      <td>6.67</td>\n      <td>0.00</td>\n    </tr>\n    <tr>\n      <th>2</th>\n      <td>1</td>\n      <td>3</td>\n      <td>https://www.metacritic.com/movie/bronson</td>\n      <td>90</td>\n      <td>None</td>\n      <td>None</td>\n      <td>'Whether it s Peterson/Bronson s more theatri...</td>\n      <td>40.0</td>\n      <td>0.00</td>\n      <td>2.50</td>\n    </tr>\n    <tr>\n      <th>3</th>\n      <td>1</td>\n      <td>4</td>\n      <td>https://www.metacritic.com/movie/bronson</td>\n      <td>83</td>\n      <td>'Noel Murray'</td>\n      <td>None</td>\n      <td>'There are two Bronsons on display here: the ...</td>\n      <td>39.0</td>\n      <td>5.13</td>\n      <td>5.13</td>\n    </tr>\n    <tr>\n      <th>4</th>\n      <td>1</td>\n      <td>5</td>\n      <td>https://www.metacritic.com/movie/bronson</td>\n      <td>80</td>\n      <td>'Joshua Rothkopf'</td>\n      <td>None</td>\n      <td>'Refn has somehow found his way to an authent...</td>\n      <td>24.0</td>\n      <td>0.00</td>\n      <td>0.00</td>\n    </tr>\n  </tbody>\n</table>\n</div>"
     },
     "execution_count": 114,
     "metadata": {},
     "output_type": "execute_result"
    }
   ],
   "source": [
    "# Operation successful\n",
    "reviews.head()"
   ],
   "metadata": {
    "collapsed": false,
    "ExecuteTime": {
     "end_time": "2023-09-21T11:37:17.719989400Z",
     "start_time": "2023-09-21T11:37:17.626368400Z"
    }
   },
   "id": "7cbb74d41be4af36"
  },
  {
   "cell_type": "code",
   "execution_count": 115,
   "outputs": [
    {
     "data": {
      "text/plain": "   role_id  review_id                                       url  posemo  \\\n0        1          1  https://www.metacritic.com/movie/bronson    0.00   \n1        1          2  https://www.metacritic.com/movie/bronson    6.67   \n2        1          3  https://www.metacritic.com/movie/bronson    0.00   \n3        1          4  https://www.metacritic.com/movie/bronson    5.13   \n4        1          5  https://www.metacritic.com/movie/bronson    0.00   \n\n   negemo  \n0    0.00  \n1    0.00  \n2    2.50  \n3    5.13  \n4    0.00  ",
      "text/html": "<div>\n<style scoped>\n    .dataframe tbody tr th:only-of-type {\n        vertical-align: middle;\n    }\n\n    .dataframe tbody tr th {\n        vertical-align: top;\n    }\n\n    .dataframe thead th {\n        text-align: right;\n    }\n</style>\n<table border=\"1\" class=\"dataframe\">\n  <thead>\n    <tr style=\"text-align: right;\">\n      <th></th>\n      <th>role_id</th>\n      <th>review_id</th>\n      <th>url</th>\n      <th>posemo</th>\n      <th>negemo</th>\n    </tr>\n  </thead>\n  <tbody>\n    <tr>\n      <th>0</th>\n      <td>1</td>\n      <td>1</td>\n      <td>https://www.metacritic.com/movie/bronson</td>\n      <td>0.00</td>\n      <td>0.00</td>\n    </tr>\n    <tr>\n      <th>1</th>\n      <td>1</td>\n      <td>2</td>\n      <td>https://www.metacritic.com/movie/bronson</td>\n      <td>6.67</td>\n      <td>0.00</td>\n    </tr>\n    <tr>\n      <th>2</th>\n      <td>1</td>\n      <td>3</td>\n      <td>https://www.metacritic.com/movie/bronson</td>\n      <td>0.00</td>\n      <td>2.50</td>\n    </tr>\n    <tr>\n      <th>3</th>\n      <td>1</td>\n      <td>4</td>\n      <td>https://www.metacritic.com/movie/bronson</td>\n      <td>5.13</td>\n      <td>5.13</td>\n    </tr>\n    <tr>\n      <th>4</th>\n      <td>1</td>\n      <td>5</td>\n      <td>https://www.metacritic.com/movie/bronson</td>\n      <td>0.00</td>\n      <td>0.00</td>\n    </tr>\n  </tbody>\n</table>\n</div>"
     },
     "execution_count": 115,
     "metadata": {},
     "output_type": "execute_result"
    }
   ],
   "source": [
    "# Drop columns that we don't need\n",
    "# Make changes permanent by using 'inplace=True'\n",
    "reviews.drop(columns=['idvscore', 'reviewer', 'dateP', 'Rev', 'WC'], inplace=True)\n",
    "reviews.head()"
   ],
   "metadata": {
    "collapsed": false,
    "ExecuteTime": {
     "end_time": "2023-09-21T11:37:17.790799100Z",
     "start_time": "2023-09-21T11:37:17.653323900Z"
    }
   },
   "id": "7201270e4ea3ce53"
  },
  {
   "cell_type": "code",
   "execution_count": 116,
   "outputs": [
    {
     "data": {
      "text/plain": "   role_id  review_id      url  posemo  negemo\n0        1          1  bronson    0.00    0.00\n1        1          2  bronson    6.67    0.00\n2        1          3  bronson    0.00    2.50\n3        1          4  bronson    5.13    5.13\n4        1          5  bronson    0.00    0.00",
      "text/html": "<div>\n<style scoped>\n    .dataframe tbody tr th:only-of-type {\n        vertical-align: middle;\n    }\n\n    .dataframe tbody tr th {\n        vertical-align: top;\n    }\n\n    .dataframe thead th {\n        text-align: right;\n    }\n</style>\n<table border=\"1\" class=\"dataframe\">\n  <thead>\n    <tr style=\"text-align: right;\">\n      <th></th>\n      <th>role_id</th>\n      <th>review_id</th>\n      <th>url</th>\n      <th>posemo</th>\n      <th>negemo</th>\n    </tr>\n  </thead>\n  <tbody>\n    <tr>\n      <th>0</th>\n      <td>1</td>\n      <td>1</td>\n      <td>bronson</td>\n      <td>0.00</td>\n      <td>0.00</td>\n    </tr>\n    <tr>\n      <th>1</th>\n      <td>1</td>\n      <td>2</td>\n      <td>bronson</td>\n      <td>6.67</td>\n      <td>0.00</td>\n    </tr>\n    <tr>\n      <th>2</th>\n      <td>1</td>\n      <td>3</td>\n      <td>bronson</td>\n      <td>0.00</td>\n      <td>2.50</td>\n    </tr>\n    <tr>\n      <th>3</th>\n      <td>1</td>\n      <td>4</td>\n      <td>bronson</td>\n      <td>5.13</td>\n      <td>5.13</td>\n    </tr>\n    <tr>\n      <th>4</th>\n      <td>1</td>\n      <td>5</td>\n      <td>bronson</td>\n      <td>0.00</td>\n      <td>0.00</td>\n    </tr>\n  </tbody>\n</table>\n</div>"
     },
     "execution_count": 116,
     "metadata": {},
     "output_type": "execute_result"
    }
   ],
   "source": [
    "# remove the url of https://... (Martijn)\n",
    "reviews['url'] = reviews['url'].str.split('/').str.get(-1).replace('-', ' ', regex=True)\n",
    "\n",
    "reviews.head()"
   ],
   "metadata": {
    "collapsed": false,
    "ExecuteTime": {
     "end_time": "2023-09-21T11:37:23.663338Z",
     "start_time": "2023-09-21T11:37:17.702038500Z"
    }
   },
   "id": "50bab03e198828f5"
  },
  {
   "cell_type": "markdown",
   "source": [
    "Mees"
   ],
   "metadata": {
    "collapsed": false
   },
   "id": "d8ca09ad49ebe48d"
  },
  {
   "cell_type": "code",
   "execution_count": 117,
   "outputs": [
    {
     "data": {
      "text/plain": "role_id                 1\nreview_id           17239\nurl          carnage 2011\nposemo                0.0\nnegemo               4.17\nName: 17238, dtype: object"
     },
     "execution_count": 117,
     "metadata": {},
     "output_type": "execute_result"
    }
   ],
   "source": [
    "#example with year in url that must be deleted (Mees)\n",
    "reviews.iloc[17238, :]"
   ],
   "metadata": {
    "collapsed": false,
    "ExecuteTime": {
     "end_time": "2023-09-21T11:37:23.740411300Z",
     "start_time": "2023-09-21T11:37:23.662341100Z"
    }
   },
   "id": "f4138e212799dbdb"
  },
  {
   "cell_type": "code",
   "execution_count": 118,
   "outputs": [
    {
     "data": {
      "text/plain": "role_id                 1\nreview_id           17239\nurl          carnage 2011\nposemo                0.0\nnegemo               4.17\nName: 17238, dtype: object"
     },
     "execution_count": 118,
     "metadata": {},
     "output_type": "execute_result"
    }
   ],
   "source": [
    "# delete years in url column so there wont be double years after i add them. (Mees)\n",
    "reviews['url'] = reviews['url'].str.replace(r'(-\\b\\d{4}\\b)', '', regex=True)\n",
    "reviews.iloc[17238, :]"
   ],
   "metadata": {
    "collapsed": false,
    "ExecuteTime": {
     "end_time": "2023-09-21T11:37:24.534496400Z",
     "start_time": "2023-09-21T11:37:23.683563500Z"
    }
   },
   "id": "31a7c4258b16895c"
  },
  {
   "cell_type": "code",
   "execution_count": 119,
   "outputs": [
    {
     "data": {
      "text/plain": "   role_id  review_id      url  posemo  negemo\n0        1          1  bronson    0.00    0.00\n1        1          2  bronson    6.67    0.00\n2        1          3  bronson    0.00    2.50\n3        1          4  bronson    5.13    5.13\n4        1          5  bronson    0.00    0.00",
      "text/html": "<div>\n<style scoped>\n    .dataframe tbody tr th:only-of-type {\n        vertical-align: middle;\n    }\n\n    .dataframe tbody tr th {\n        vertical-align: top;\n    }\n\n    .dataframe thead th {\n        text-align: right;\n    }\n</style>\n<table border=\"1\" class=\"dataframe\">\n  <thead>\n    <tr style=\"text-align: right;\">\n      <th></th>\n      <th>role_id</th>\n      <th>review_id</th>\n      <th>url</th>\n      <th>posemo</th>\n      <th>negemo</th>\n    </tr>\n  </thead>\n  <tbody>\n    <tr>\n      <th>0</th>\n      <td>1</td>\n      <td>1</td>\n      <td>bronson</td>\n      <td>0.00</td>\n      <td>0.00</td>\n    </tr>\n    <tr>\n      <th>1</th>\n      <td>1</td>\n      <td>2</td>\n      <td>bronson</td>\n      <td>6.67</td>\n      <td>0.00</td>\n    </tr>\n    <tr>\n      <th>2</th>\n      <td>1</td>\n      <td>3</td>\n      <td>bronson</td>\n      <td>0.00</td>\n      <td>2.50</td>\n    </tr>\n    <tr>\n      <th>3</th>\n      <td>1</td>\n      <td>4</td>\n      <td>bronson</td>\n      <td>5.13</td>\n      <td>5.13</td>\n    </tr>\n    <tr>\n      <th>4</th>\n      <td>1</td>\n      <td>5</td>\n      <td>bronson</td>\n      <td>0.00</td>\n      <td>0.00</td>\n    </tr>\n  </tbody>\n</table>\n</div>"
     },
     "execution_count": 119,
     "metadata": {},
     "output_type": "execute_result"
    }
   ],
   "source": [
    "#check what else must be cleaned\n",
    "reviews.head()"
   ],
   "metadata": {
    "collapsed": false,
    "ExecuteTime": {
     "end_time": "2023-09-21T11:37:24.561191400Z",
     "start_time": "2023-09-21T11:37:24.534496400Z"
    }
   },
   "id": "3d4ca1142cb7c51"
  },
  {
   "cell_type": "code",
   "execution_count": 120,
   "outputs": [],
   "source": [
    "# Clean the posemo and negomo to correct datatypes\n",
    "reviews['posemo'] = pd.to_numeric(reviews['posemo'],\n",
    "                                  downcast='float',\n",
    "                                  errors='coerce')\n",
    "\n",
    "reviews['negemo'] = pd.to_numeric(reviews['negemo'],\n",
    "                                  downcast='float',\n",
    "                                  errors='coerce')"
   ],
   "metadata": {
    "collapsed": false,
    "ExecuteTime": {
     "end_time": "2023-09-21T11:37:24.843223Z",
     "start_time": "2023-09-21T11:37:24.561191400Z"
    }
   },
   "id": "b5bc06525de9739d"
  },
  {
   "cell_type": "code",
   "execution_count": 121,
   "outputs": [
    {
     "data": {
      "text/plain": "   role_id  review_id      url  posemo  negemo Overall_sentiment\n0        1          1  bronson    0.00    0.00           neutral\n1        1          2  bronson    6.67    0.00          positive\n2        1          3  bronson    0.00    2.50          negative\n3        1          4  bronson    5.13    5.13           neutral\n4        1          5  bronson    0.00    0.00           neutral",
      "text/html": "<div>\n<style scoped>\n    .dataframe tbody tr th:only-of-type {\n        vertical-align: middle;\n    }\n\n    .dataframe tbody tr th {\n        vertical-align: top;\n    }\n\n    .dataframe thead th {\n        text-align: right;\n    }\n</style>\n<table border=\"1\" class=\"dataframe\">\n  <thead>\n    <tr style=\"text-align: right;\">\n      <th></th>\n      <th>role_id</th>\n      <th>review_id</th>\n      <th>url</th>\n      <th>posemo</th>\n      <th>negemo</th>\n      <th>Overall_sentiment</th>\n    </tr>\n  </thead>\n  <tbody>\n    <tr>\n      <th>0</th>\n      <td>1</td>\n      <td>1</td>\n      <td>bronson</td>\n      <td>0.00</td>\n      <td>0.00</td>\n      <td>neutral</td>\n    </tr>\n    <tr>\n      <th>1</th>\n      <td>1</td>\n      <td>2</td>\n      <td>bronson</td>\n      <td>6.67</td>\n      <td>0.00</td>\n      <td>positive</td>\n    </tr>\n    <tr>\n      <th>2</th>\n      <td>1</td>\n      <td>3</td>\n      <td>bronson</td>\n      <td>0.00</td>\n      <td>2.50</td>\n      <td>negative</td>\n    </tr>\n    <tr>\n      <th>3</th>\n      <td>1</td>\n      <td>4</td>\n      <td>bronson</td>\n      <td>5.13</td>\n      <td>5.13</td>\n      <td>neutral</td>\n    </tr>\n    <tr>\n      <th>4</th>\n      <td>1</td>\n      <td>5</td>\n      <td>bronson</td>\n      <td>0.00</td>\n      <td>0.00</td>\n      <td>neutral</td>\n    </tr>\n  </tbody>\n</table>\n</div>"
     },
     "execution_count": 121,
     "metadata": {},
     "output_type": "execute_result"
    }
   ],
   "source": [
    "# Create derived column Overall sentiment (Carola & Mees)\n",
    "reviews.loc[(reviews['posemo'] - reviews['negemo']) < 0, 'Overall_sentiment'] = 'negative' # Mees & Carola\n",
    "reviews.loc[(reviews['posemo'] - reviews['negemo']) == 0, 'Overall_sentiment'] = 'neutral' # Mees & Carola\n",
    "reviews.loc[(reviews['posemo'] - reviews['negemo']) > 0, 'Overall_sentiment'] = 'positive' # Mees & Carola\n",
    "reviews.head() # Mees & Carola"
   ],
   "metadata": {
    "collapsed": false,
    "ExecuteTime": {
     "end_time": "2023-09-21T11:37:25.142976200Z",
     "start_time": "2023-09-21T11:37:24.669687500Z"
    }
   },
   "id": "4f005adce75a9734"
  },
  {
   "cell_type": "code",
   "execution_count": 122,
   "outputs": [
    {
     "data": {
      "text/plain": "        role_id  review_id            url  posemo  negemo Overall_sentiment\n558630        0     319658  spirited away    0.00     0.0           neutral\n558631        0     319659  spirited away    4.55     0.0          positive\n558632        0     319660  spirited away    5.71     0.0          positive\n558633        0     319661  spirited away    8.33     0.0          positive\n558634        0     319662  spirited away    7.14     0.0          positive",
      "text/html": "<div>\n<style scoped>\n    .dataframe tbody tr th:only-of-type {\n        vertical-align: middle;\n    }\n\n    .dataframe tbody tr th {\n        vertical-align: top;\n    }\n\n    .dataframe thead th {\n        text-align: right;\n    }\n</style>\n<table border=\"1\" class=\"dataframe\">\n  <thead>\n    <tr style=\"text-align: right;\">\n      <th></th>\n      <th>role_id</th>\n      <th>review_id</th>\n      <th>url</th>\n      <th>posemo</th>\n      <th>negemo</th>\n      <th>Overall_sentiment</th>\n    </tr>\n  </thead>\n  <tbody>\n    <tr>\n      <th>558630</th>\n      <td>0</td>\n      <td>319658</td>\n      <td>spirited away</td>\n      <td>0.00</td>\n      <td>0.0</td>\n      <td>neutral</td>\n    </tr>\n    <tr>\n      <th>558631</th>\n      <td>0</td>\n      <td>319659</td>\n      <td>spirited away</td>\n      <td>4.55</td>\n      <td>0.0</td>\n      <td>positive</td>\n    </tr>\n    <tr>\n      <th>558632</th>\n      <td>0</td>\n      <td>319660</td>\n      <td>spirited away</td>\n      <td>5.71</td>\n      <td>0.0</td>\n      <td>positive</td>\n    </tr>\n    <tr>\n      <th>558633</th>\n      <td>0</td>\n      <td>319661</td>\n      <td>spirited away</td>\n      <td>8.33</td>\n      <td>0.0</td>\n      <td>positive</td>\n    </tr>\n    <tr>\n      <th>558634</th>\n      <td>0</td>\n      <td>319662</td>\n      <td>spirited away</td>\n      <td>7.14</td>\n      <td>0.0</td>\n      <td>positive</td>\n    </tr>\n  </tbody>\n</table>\n</div>"
     },
     "execution_count": 122,
     "metadata": {},
     "output_type": "execute_result"
    }
   ],
   "source": [
    "reviews.to_csv('Cleaned data/review_table.csv', sep=',', index=False)\n",
    "reviews.tail()"
   ],
   "metadata": {
    "collapsed": false,
    "ExecuteTime": {
     "end_time": "2023-09-21T11:37:30.368193400Z",
     "start_time": "2023-09-21T11:37:24.890650300Z"
    }
   },
   "id": "a756fa495c473e25"
  },
  {
   "cell_type": "markdown",
   "source": [
    "### Creating role table\n",
    "Martijn"
   ],
   "metadata": {
    "collapsed": false
   },
   "id": "cb51922e468cadeb"
  },
  {
   "cell_type": "code",
   "execution_count": 123,
   "outputs": [
    {
     "data": {
      "text/plain": "  reviewer_role  role_id\n0        expert        1\n1          user        0",
      "text/html": "<div>\n<style scoped>\n    .dataframe tbody tr th:only-of-type {\n        vertical-align: middle;\n    }\n\n    .dataframe tbody tr th {\n        vertical-align: top;\n    }\n\n    .dataframe thead th {\n        text-align: right;\n    }\n</style>\n<table border=\"1\" class=\"dataframe\">\n  <thead>\n    <tr style=\"text-align: right;\">\n      <th></th>\n      <th>reviewer_role</th>\n      <th>role_id</th>\n    </tr>\n  </thead>\n  <tbody>\n    <tr>\n      <th>0</th>\n      <td>expert</td>\n      <td>1</td>\n    </tr>\n    <tr>\n      <th>1</th>\n      <td>user</td>\n      <td>0</td>\n    </tr>\n  </tbody>\n</table>\n</div>"
     },
     "execution_count": 123,
     "metadata": {},
     "output_type": "execute_result"
    }
   ],
   "source": [
    "# Create simple dataframe for the role table\n",
    "role_data = [('expert', 1), ('user', 0)]\n",
    "role_table = pd.DataFrame(role_data, columns=['(expert, user)', '(0,1)'])\n",
    "role_table.rename(columns={'(expert, user)':'reviewer_role','(0,1)':'role_id'},inplace=True)\n",
    "\n",
    "role_table.to_csv('Cleaned data/role_table.csv', sep=',', index=False)\n",
    "role_table.head()\n"
   ],
   "metadata": {
    "collapsed": false,
    "ExecuteTime": {
     "end_time": "2023-09-21T11:37:30.456204100Z",
     "start_time": "2023-09-21T11:37:30.372180300Z"
    }
   },
   "id": "9f616c07b209285c"
  },
  {
   "cell_type": "markdown",
   "source": [
    "### Fuzzy Matching\n",
    "Inspiration code: https://saturncloud.io/blog/is-it-possible-to-do-fuzzy-match-merge-with-python-pandas/"
   ],
   "metadata": {
    "collapsed": false
   },
   "id": "408af931b0a08967"
  },
  {
   "cell_type": "code",
   "execution_count": 124,
   "outputs": [],
   "source": [
    "#Fuzzy match met movie_id van movies table (ToDo)\n",
    "# "
   ],
   "metadata": {
    "collapsed": false,
    "ExecuteTime": {
     "end_time": "2023-09-21T11:37:30.545854800Z",
     "start_time": "2023-09-21T11:37:30.398631100Z"
    }
   },
   "id": "fec70ec712c3f136"
  },
  {
   "cell_type": "code",
   "execution_count": 125,
   "outputs": [],
   "source": [
    "# urls_df = pd.DataFrame(data=reviews['url'].unique(),\n",
    "#              columns=['key'])\n",
    "# urls_df"
   ],
   "metadata": {
    "collapsed": false,
    "ExecuteTime": {
     "end_time": "2023-09-21T11:37:30.642164Z",
     "start_time": "2023-09-21T11:37:30.406584100Z"
    }
   },
   "id": "812e86cf7c3499"
  },
  {
   "cell_type": "code",
   "execution_count": 126,
   "outputs": [],
   "source": [
    "# movie_id_df = pd.DataFrame(data=movie_sales['movie_id'].unique(),\n",
    "#              columns=['key'])\n",
    "# \n",
    "# movie_id_df.replace('-', ' ', regex=True, inplace=True)\n",
    "# movie_id_df"
   ],
   "metadata": {
    "collapsed": false,
    "ExecuteTime": {
     "end_time": "2023-09-21T11:37:30.643161200Z",
     "start_time": "2023-09-21T11:37:30.423401600Z"
    }
   },
   "id": "e068b32b6f8c6ff0"
  },
  {
   "cell_type": "code",
   "execution_count": 127,
   "outputs": [],
   "source": [
    "# movie_id_df_subset = movie_id_df[0:100]"
   ],
   "metadata": {
    "collapsed": false,
    "ExecuteTime": {
     "end_time": "2023-09-21T11:37:30.643161200Z",
     "start_time": "2023-09-21T11:37:30.432386500Z"
    }
   },
   "id": "ebe172ce6066c9b7"
  },
  {
   "cell_type": "code",
   "execution_count": 128,
   "outputs": [],
   "source": [
    "# def fuzzy_match(str1, str2):\n",
    "#     return fuzz.token_set_ratio(str1, str2)\n",
    "# \n",
    "# \n",
    "# def match_dataframe(df1, df2, threshold=80):\n",
    "#     matches = []\n",
    "#     for i, row in df1.iterrows():\n",
    "#         match = process.extractOne(row['key'], df2['key'], scorer=fuzzy_match)\n",
    "#         if match[1] >= threshold:\n",
    "#             matches.append([i, match[0], match[1]])\n",
    "#     return matches\n",
    "# \n",
    "# matches = match_dataframe(urls_df, movie_id_df_subset)\n",
    "# matches"
   ],
   "metadata": {
    "collapsed": false,
    "ExecuteTime": {
     "end_time": "2023-09-21T11:37:30.644159100Z",
     "start_time": "2023-09-21T11:37:30.445234800Z"
    }
   },
   "id": "d971a6325be5186e"
  },
  {
   "cell_type": "code",
   "execution_count": 129,
   "outputs": [],
   "source": [
    "# merged_df = pd.DataFrame(matches, columns=['index1', 'index2', 'score'])\n",
    "# merged_df"
   ],
   "metadata": {
    "collapsed": false,
    "ExecuteTime": {
     "end_time": "2023-09-21T11:37:30.644159100Z",
     "start_time": "2023-09-21T11:37:30.462187100Z"
    }
   },
   "id": "e7e7fcd0cbf0fab8"
  },
  {
   "cell_type": "code",
   "execution_count": 130,
   "outputs": [],
   "source": [
    "# merged_df = pd.merge(merged_df, urls_df, left_on='index1', right_index=True)\n",
    "# merged_df"
   ],
   "metadata": {
    "collapsed": false,
    "ExecuteTime": {
     "end_time": "2023-09-21T11:37:30.852601500Z",
     "start_time": "2023-09-21T11:37:30.472018500Z"
    }
   },
   "id": "80b2621e547a8148"
  },
  {
   "cell_type": "code",
   "execution_count": 131,
   "outputs": [],
   "source": [
    "# merged_df = pd.merge(merged_df, movie_id_df_subset, left_on='index2', right_index=True)\n",
    "# merged_df"
   ],
   "metadata": {
    "collapsed": false,
    "ExecuteTime": {
     "end_time": "2023-09-21T11:37:30.920419200Z",
     "start_time": "2023-09-21T11:37:30.490152800Z"
    }
   },
   "id": "3854f9c7bd95caa7"
  },
  {
   "cell_type": "code",
   "execution_count": 132,
   "outputs": [],
   "source": [
    "# def print_max_length(data_frame, column_name):\n",
    "#     max_length = data_frame[~data_frame[column_name].isnull()][column_name].apply(len).max()\n",
    "#     print(f\"Maximum character length of column {column_name} is {max_length} characters\")\n",
    "# \n",
    "# print_max_length(movie_table, 'movie_id')"
   ],
   "metadata": {
    "collapsed": false,
    "ExecuteTime": {
     "end_time": "2023-09-21T11:37:30.983251100Z",
     "start_time": "2023-09-21T11:37:30.501125800Z"
    }
   },
   "id": "2740d1219cefac5c"
  },
  {
   "cell_type": "markdown",
   "source": [
    "\n",
    "## 3. Creating movies table by merging sales and metaclean\n",
    "\n",
    "Left join is used because we only want the matching titles. All titles that have a different spelling will not be added \n",
    "because this is out of the scope of this assignment.(Otherwise we could have solved this with Fuzzy matching.)\n",
    "\n",
    "\n"
   ],
   "metadata": {
    "collapsed": false
   },
   "id": "4b27f9b39652a8f6"
  },
  {
   "cell_type": "code",
   "execution_count": 133,
   "outputs": [
    {
     "data": {
      "text/plain": "                 movie_id  year release_date                title  \\\n0  bakha-satang-(s-korea)  2000   2000-01-01         Bakha Satang   \n1               antitrust  2001   2001-01-12            Antitrust   \n2                santitos  2000   2000-01-28             Santitos   \n3      frank-mcklusky-c-i  2002          NaT  Frank McKlusky C.I.   \n4      walk-to-remember-a  2002   2002-01-25   A Walk to Remember   \n\n   worldwide_box_office  production_budget  \\\n0               76576.0                NaN   \n1            17865209.0         30000000.0   \n2                   NaN                NaN   \n3                   NaN                NaN   \n4            46060861.0         11000000.0   \n\n                                                 url  metascore  userscore  \\\n0  https://www.the-numbers.com/movie/Bakha-Satang...        NaN        NaN   \n1        https://www.the-numbers.com/movie/Antitrust       31.0        8.7   \n2         https://www.the-numbers.com/movie/Santitos       68.0        NaN   \n3  https://www.the-numbers.com/movie/Frank-McKlus...        NaN        NaN   \n4  https://www.the-numbers.com/movie/Walk-to-Reme...        NaN        NaN   \n\n   rating_id  \n0        NaN  \n1        1.0  \n2        2.0  \n3        NaN  \n4        NaN  ",
      "text/html": "<div>\n<style scoped>\n    .dataframe tbody tr th:only-of-type {\n        vertical-align: middle;\n    }\n\n    .dataframe tbody tr th {\n        vertical-align: top;\n    }\n\n    .dataframe thead th {\n        text-align: right;\n    }\n</style>\n<table border=\"1\" class=\"dataframe\">\n  <thead>\n    <tr style=\"text-align: right;\">\n      <th></th>\n      <th>movie_id</th>\n      <th>year</th>\n      <th>release_date</th>\n      <th>title</th>\n      <th>worldwide_box_office</th>\n      <th>production_budget</th>\n      <th>url</th>\n      <th>metascore</th>\n      <th>userscore</th>\n      <th>rating_id</th>\n    </tr>\n  </thead>\n  <tbody>\n    <tr>\n      <th>0</th>\n      <td>bakha-satang-(s-korea)</td>\n      <td>2000</td>\n      <td>2000-01-01</td>\n      <td>Bakha Satang</td>\n      <td>76576.0</td>\n      <td>NaN</td>\n      <td>https://www.the-numbers.com/movie/Bakha-Satang...</td>\n      <td>NaN</td>\n      <td>NaN</td>\n      <td>NaN</td>\n    </tr>\n    <tr>\n      <th>1</th>\n      <td>antitrust</td>\n      <td>2001</td>\n      <td>2001-01-12</td>\n      <td>Antitrust</td>\n      <td>17865209.0</td>\n      <td>30000000.0</td>\n      <td>https://www.the-numbers.com/movie/Antitrust</td>\n      <td>31.0</td>\n      <td>8.7</td>\n      <td>1.0</td>\n    </tr>\n    <tr>\n      <th>2</th>\n      <td>santitos</td>\n      <td>2000</td>\n      <td>2000-01-28</td>\n      <td>Santitos</td>\n      <td>NaN</td>\n      <td>NaN</td>\n      <td>https://www.the-numbers.com/movie/Santitos</td>\n      <td>68.0</td>\n      <td>NaN</td>\n      <td>2.0</td>\n    </tr>\n    <tr>\n      <th>3</th>\n      <td>frank-mcklusky-c-i</td>\n      <td>2002</td>\n      <td>NaT</td>\n      <td>Frank McKlusky C.I.</td>\n      <td>NaN</td>\n      <td>NaN</td>\n      <td>https://www.the-numbers.com/movie/Frank-McKlus...</td>\n      <td>NaN</td>\n      <td>NaN</td>\n      <td>NaN</td>\n    </tr>\n    <tr>\n      <th>4</th>\n      <td>walk-to-remember-a</td>\n      <td>2002</td>\n      <td>2002-01-25</td>\n      <td>A Walk to Remember</td>\n      <td>46060861.0</td>\n      <td>11000000.0</td>\n      <td>https://www.the-numbers.com/movie/Walk-to-Reme...</td>\n      <td>NaN</td>\n      <td>NaN</td>\n      <td>NaN</td>\n    </tr>\n  </tbody>\n</table>\n</div>"
     },
     "execution_count": 133,
     "metadata": {},
     "output_type": "execute_result"
    }
   ],
   "source": [
    "movie_sales.head()\n",
    "meta_clean.head()\n",
    "movie_table = movie_sales.merge(meta_clean[['movie_id','metascore','userscore','rating_id']],\n",
    "                               how='left', left_on='movie_id', right_on='movie_id')\n",
    "movie_table.head()"
   ],
   "metadata": {
    "collapsed": false,
    "ExecuteTime": {
     "end_time": "2023-09-21T11:37:30.985246Z",
     "start_time": "2023-09-21T11:37:30.517931500Z"
    }
   },
   "id": "38a9387ff4def7ea"
  },
  {
   "cell_type": "code",
   "execution_count": 134,
   "outputs": [
    {
     "data": {
      "text/plain": "                 movie_id                title release_date  metascore  \\\n0  bakha-satang-(s-korea)         Bakha Satang   2000-01-01        NaN   \n1               antitrust            Antitrust   2001-01-12       31.0   \n2                santitos             Santitos   2000-01-28       68.0   \n3      frank-mcklusky-c-i  Frank McKlusky C.I.          NaT        NaN   \n4      walk-to-remember-a   A Walk to Remember   2002-01-25        NaN   \n\n   userscore  production_budget  worldwide_box_office  rating_id  \n0        NaN                NaN               76576.0        NaN  \n1        8.7         30000000.0            17865209.0        1.0  \n2        NaN                NaN                   NaN        2.0  \n3        NaN                NaN                   NaN        NaN  \n4        NaN         11000000.0            46060861.0        NaN  ",
      "text/html": "<div>\n<style scoped>\n    .dataframe tbody tr th:only-of-type {\n        vertical-align: middle;\n    }\n\n    .dataframe tbody tr th {\n        vertical-align: top;\n    }\n\n    .dataframe thead th {\n        text-align: right;\n    }\n</style>\n<table border=\"1\" class=\"dataframe\">\n  <thead>\n    <tr style=\"text-align: right;\">\n      <th></th>\n      <th>movie_id</th>\n      <th>title</th>\n      <th>release_date</th>\n      <th>metascore</th>\n      <th>userscore</th>\n      <th>production_budget</th>\n      <th>worldwide_box_office</th>\n      <th>rating_id</th>\n    </tr>\n  </thead>\n  <tbody>\n    <tr>\n      <th>0</th>\n      <td>bakha-satang-(s-korea)</td>\n      <td>Bakha Satang</td>\n      <td>2000-01-01</td>\n      <td>NaN</td>\n      <td>NaN</td>\n      <td>NaN</td>\n      <td>76576.0</td>\n      <td>NaN</td>\n    </tr>\n    <tr>\n      <th>1</th>\n      <td>antitrust</td>\n      <td>Antitrust</td>\n      <td>2001-01-12</td>\n      <td>31.0</td>\n      <td>8.7</td>\n      <td>30000000.0</td>\n      <td>17865209.0</td>\n      <td>1.0</td>\n    </tr>\n    <tr>\n      <th>2</th>\n      <td>santitos</td>\n      <td>Santitos</td>\n      <td>2000-01-28</td>\n      <td>68.0</td>\n      <td>NaN</td>\n      <td>NaN</td>\n      <td>NaN</td>\n      <td>2.0</td>\n    </tr>\n    <tr>\n      <th>3</th>\n      <td>frank-mcklusky-c-i</td>\n      <td>Frank McKlusky C.I.</td>\n      <td>NaT</td>\n      <td>NaN</td>\n      <td>NaN</td>\n      <td>NaN</td>\n      <td>NaN</td>\n      <td>NaN</td>\n    </tr>\n    <tr>\n      <th>4</th>\n      <td>walk-to-remember-a</td>\n      <td>A Walk to Remember</td>\n      <td>2002-01-25</td>\n      <td>NaN</td>\n      <td>NaN</td>\n      <td>11000000.0</td>\n      <td>46060861.0</td>\n      <td>NaN</td>\n    </tr>\n  </tbody>\n</table>\n</div>"
     },
     "execution_count": 134,
     "metadata": {},
     "output_type": "execute_result"
    }
   ],
   "source": [
    "# movie_table['release_date'] = pd.to_datetime(movie_table['RelDate'])\n",
    "movie_table = movie_table[['movie_id',\n",
    "                           'title',\n",
    "                           'release_date',\n",
    "                           'metascore',\n",
    "                           'userscore',\n",
    "                           'production_budget',\n",
    "                           'worldwide_box_office',\n",
    "                           'rating_id']]\n",
    "\n",
    "movie_table.to_csv('Cleaned data/movie_table.csv', sep=',', index=False)\n",
    "movie_table.head()"
   ],
   "metadata": {
    "collapsed": false,
    "ExecuteTime": {
     "end_time": "2023-09-21T11:37:31.594368600Z",
     "start_time": "2023-09-21T11:37:30.608255100Z"
    }
   },
   "id": "91ea661af106915b"
  },
  {
   "cell_type": "code",
   "execution_count": 134,
   "outputs": [],
   "source": [],
   "metadata": {
    "collapsed": false,
    "ExecuteTime": {
     "end_time": "2023-09-21T11:37:31.632251300Z",
     "start_time": "2023-09-21T11:37:31.200040100Z"
    }
   },
   "id": "fe98c7df89dfdd4d"
  }
 ],
 "metadata": {
  "kernelspec": {
   "display_name": "Python 3",
   "language": "python",
   "name": "python3"
  },
  "language_info": {
   "codemirror_mode": {
    "name": "ipython",
    "version": 2
   },
   "file_extension": ".py",
   "mimetype": "text/x-python",
   "name": "python",
   "nbconvert_exporter": "python",
   "pygments_lexer": "ipython2",
   "version": "2.7.6"
  }
 },
 "nbformat": 4,
 "nbformat_minor": 5
}
