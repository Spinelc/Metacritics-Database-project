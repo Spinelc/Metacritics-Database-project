{
 "cells": [
  {
   "cell_type": "code",
   "execution_count": 11,
   "metadata": {
    "collapsed": true,
    "ExecuteTime": {
     "end_time": "2023-09-19T09:24:32.123452900Z",
     "start_time": "2023-09-19T09:24:32.083054400Z"
    }
   },
   "outputs": [],
   "source": [
    "import pandas as pd"
   ]
  },
  {
   "cell_type": "code",
   "execution_count": 12,
   "outputs": [],
   "source": [
    "# Code copied from Mees\n",
    "\n",
    "expert = pd.read_excel('data/ExpertReviewsClean43LIWC.xlsx',\n",
    "                        dtype={'url':'str',\n",
    "                              'idvscore':'str',\n",
    "                              'reviewer':'str',\n",
    "                              'dateP':'str',\n",
    "                              'posemo':'float',\n",
    "                              'negemo':'float'},\n",
    "                        na_filter=False\n",
    "                        )"
   ],
   "metadata": {
    "collapsed": false,
    "ExecuteTime": {
     "end_time": "2023-09-19T09:25:33.617495300Z",
     "start_time": "2023-09-19T09:24:32.094951700Z"
    }
   }
  },
  {
   "cell_type": "code",
   "execution_count": 13,
   "outputs": [],
   "source": [
    "# Code copied from Mees\n",
    "\n",
    "user = pd.read_excel('data/UserReviewsClean43LIWC.xlsx',\n",
    "                       dtype={'url':'str',\n",
    "                              'idvscore':'str',\n",
    "                              'reviewer':'str',\n",
    "                              'dateP':'str',\n",
    "                              'posemo':'float',\n",
    "                              'negemo':'float'},\n",
    "                       na_filter=False\n",
    "                       )"
   ],
   "metadata": {
    "collapsed": false,
    "ExecuteTime": {
     "end_time": "2023-09-19T09:27:23.588347400Z",
     "start_time": "2023-09-19T09:25:33.622874500Z"
    }
   }
  },
  {
   "cell_type": "code",
   "execution_count": 14,
   "outputs": [],
   "source": [
    "# Use concatenate to create a new 'reviews' table\n",
    "reviews = pd.concat([expert, user], keys=['expert', 'user'])"
   ],
   "metadata": {
    "collapsed": false,
    "ExecuteTime": {
     "end_time": "2023-09-19T09:27:23.735351600Z",
     "start_time": "2023-09-19T09:27:23.588347400Z"
    }
   }
  },
  {
   "cell_type": "code",
   "execution_count": 15,
   "outputs": [
    {
     "data": {
      "text/plain": "                                               url idvscore  \\\nexpert 0  https://www.metacritic.com/movie/bronson      100   \n       1  https://www.metacritic.com/movie/bronson       90   \n       2  https://www.metacritic.com/movie/bronson       90   \n       3  https://www.metacritic.com/movie/bronson       83   \n       4  https://www.metacritic.com/movie/bronson       80   \n\n                    reviewer  dateP  \\\nexpert 0    \"Andrew O'Hehir\"   None   \n       1        'A.O. Scott'   None   \n       2                None   None   \n       3       'Noel Murray'   None   \n       4   'Joshua Rothkopf'   None   \n\n                                                        Rev    WC  posemo  \\\nexpert 0   'Bronson owes a little or a lot to Kubrick s ...  25.0    0.00   \n       1   'Bronson invites you to admire its protagonis...  30.0    6.67   \n       2   'Whether it s Peterson/Bronson s more theatri...  40.0    0.00   \n       3   'There are two Bronsons on display here: the ...  39.0    5.13   \n       4   'Refn has somehow found his way to an authent...  24.0    0.00   \n\n          negemo  \nexpert 0    0.00  \n       1    0.00  \n       2    2.50  \n       3    5.13  \n       4    0.00  ",
      "text/html": "<div>\n<style scoped>\n    .dataframe tbody tr th:only-of-type {\n        vertical-align: middle;\n    }\n\n    .dataframe tbody tr th {\n        vertical-align: top;\n    }\n\n    .dataframe thead th {\n        text-align: right;\n    }\n</style>\n<table border=\"1\" class=\"dataframe\">\n  <thead>\n    <tr style=\"text-align: right;\">\n      <th></th>\n      <th></th>\n      <th>url</th>\n      <th>idvscore</th>\n      <th>reviewer</th>\n      <th>dateP</th>\n      <th>Rev</th>\n      <th>WC</th>\n      <th>posemo</th>\n      <th>negemo</th>\n    </tr>\n  </thead>\n  <tbody>\n    <tr>\n      <th rowspan=\"5\" valign=\"top\">expert</th>\n      <th>0</th>\n      <td>https://www.metacritic.com/movie/bronson</td>\n      <td>100</td>\n      <td>\"Andrew O'Hehir\"</td>\n      <td>None</td>\n      <td>'Bronson owes a little or a lot to Kubrick s ...</td>\n      <td>25.0</td>\n      <td>0.00</td>\n      <td>0.00</td>\n    </tr>\n    <tr>\n      <th>1</th>\n      <td>https://www.metacritic.com/movie/bronson</td>\n      <td>90</td>\n      <td>'A.O. Scott'</td>\n      <td>None</td>\n      <td>'Bronson invites you to admire its protagonis...</td>\n      <td>30.0</td>\n      <td>6.67</td>\n      <td>0.00</td>\n    </tr>\n    <tr>\n      <th>2</th>\n      <td>https://www.metacritic.com/movie/bronson</td>\n      <td>90</td>\n      <td>None</td>\n      <td>None</td>\n      <td>'Whether it s Peterson/Bronson s more theatri...</td>\n      <td>40.0</td>\n      <td>0.00</td>\n      <td>2.50</td>\n    </tr>\n    <tr>\n      <th>3</th>\n      <td>https://www.metacritic.com/movie/bronson</td>\n      <td>83</td>\n      <td>'Noel Murray'</td>\n      <td>None</td>\n      <td>'There are two Bronsons on display here: the ...</td>\n      <td>39.0</td>\n      <td>5.13</td>\n      <td>5.13</td>\n    </tr>\n    <tr>\n      <th>4</th>\n      <td>https://www.metacritic.com/movie/bronson</td>\n      <td>80</td>\n      <td>'Joshua Rothkopf'</td>\n      <td>None</td>\n      <td>'Refn has somehow found his way to an authent...</td>\n      <td>24.0</td>\n      <td>0.00</td>\n      <td>0.00</td>\n    </tr>\n  </tbody>\n</table>\n</div>"
     },
     "execution_count": 15,
     "metadata": {},
     "output_type": "execute_result"
    }
   ],
   "source": [
    "reviews.head()"
   ],
   "metadata": {
    "collapsed": false,
    "ExecuteTime": {
     "end_time": "2023-09-19T09:27:23.764146300Z",
     "start_time": "2023-09-19T09:27:23.738174500Z"
    }
   }
  },
  {
   "cell_type": "code",
   "execution_count": 16,
   "outputs": [
    {
     "data": {
      "text/plain": "  level_0  level_1                                       url idvscore  \\\n0  expert        0  https://www.metacritic.com/movie/bronson      100   \n1  expert        1  https://www.metacritic.com/movie/bronson       90   \n2  expert        2  https://www.metacritic.com/movie/bronson       90   \n3  expert        3  https://www.metacritic.com/movie/bronson       83   \n4  expert        4  https://www.metacritic.com/movie/bronson       80   \n\n             reviewer  dateP  \\\n0    \"Andrew O'Hehir\"   None   \n1        'A.O. Scott'   None   \n2                None   None   \n3       'Noel Murray'   None   \n4   'Joshua Rothkopf'   None   \n\n                                                 Rev    WC  posemo  negemo  \n0   'Bronson owes a little or a lot to Kubrick s ...  25.0    0.00    0.00  \n1   'Bronson invites you to admire its protagonis...  30.0    6.67    0.00  \n2   'Whether it s Peterson/Bronson s more theatri...  40.0    0.00    2.50  \n3   'There are two Bronsons on display here: the ...  39.0    5.13    5.13  \n4   'Refn has somehow found his way to an authent...  24.0    0.00    0.00  ",
      "text/html": "<div>\n<style scoped>\n    .dataframe tbody tr th:only-of-type {\n        vertical-align: middle;\n    }\n\n    .dataframe tbody tr th {\n        vertical-align: top;\n    }\n\n    .dataframe thead th {\n        text-align: right;\n    }\n</style>\n<table border=\"1\" class=\"dataframe\">\n  <thead>\n    <tr style=\"text-align: right;\">\n      <th></th>\n      <th>level_0</th>\n      <th>level_1</th>\n      <th>url</th>\n      <th>idvscore</th>\n      <th>reviewer</th>\n      <th>dateP</th>\n      <th>Rev</th>\n      <th>WC</th>\n      <th>posemo</th>\n      <th>negemo</th>\n    </tr>\n  </thead>\n  <tbody>\n    <tr>\n      <th>0</th>\n      <td>expert</td>\n      <td>0</td>\n      <td>https://www.metacritic.com/movie/bronson</td>\n      <td>100</td>\n      <td>\"Andrew O'Hehir\"</td>\n      <td>None</td>\n      <td>'Bronson owes a little or a lot to Kubrick s ...</td>\n      <td>25.0</td>\n      <td>0.00</td>\n      <td>0.00</td>\n    </tr>\n    <tr>\n      <th>1</th>\n      <td>expert</td>\n      <td>1</td>\n      <td>https://www.metacritic.com/movie/bronson</td>\n      <td>90</td>\n      <td>'A.O. Scott'</td>\n      <td>None</td>\n      <td>'Bronson invites you to admire its protagonis...</td>\n      <td>30.0</td>\n      <td>6.67</td>\n      <td>0.00</td>\n    </tr>\n    <tr>\n      <th>2</th>\n      <td>expert</td>\n      <td>2</td>\n      <td>https://www.metacritic.com/movie/bronson</td>\n      <td>90</td>\n      <td>None</td>\n      <td>None</td>\n      <td>'Whether it s Peterson/Bronson s more theatri...</td>\n      <td>40.0</td>\n      <td>0.00</td>\n      <td>2.50</td>\n    </tr>\n    <tr>\n      <th>3</th>\n      <td>expert</td>\n      <td>3</td>\n      <td>https://www.metacritic.com/movie/bronson</td>\n      <td>83</td>\n      <td>'Noel Murray'</td>\n      <td>None</td>\n      <td>'There are two Bronsons on display here: the ...</td>\n      <td>39.0</td>\n      <td>5.13</td>\n      <td>5.13</td>\n    </tr>\n    <tr>\n      <th>4</th>\n      <td>expert</td>\n      <td>4</td>\n      <td>https://www.metacritic.com/movie/bronson</td>\n      <td>80</td>\n      <td>'Joshua Rothkopf'</td>\n      <td>None</td>\n      <td>'Refn has somehow found his way to an authent...</td>\n      <td>24.0</td>\n      <td>0.00</td>\n      <td>0.00</td>\n    </tr>\n  </tbody>\n</table>\n</div>"
     },
     "execution_count": 16,
     "metadata": {},
     "output_type": "execute_result"
    }
   ],
   "source": [
    "# Create a unique review ID for every review by using the unique() function\n",
    "# Make changes permanent by using 'inplace=True'\n",
    "reviews['Rev'].unique()\n",
    "reviews.reset_index(inplace=True)\n",
    "reviews.head()"
   ],
   "metadata": {
    "collapsed": false,
    "ExecuteTime": {
     "end_time": "2023-09-19T09:27:25.258410900Z",
     "start_time": "2023-09-19T09:27:23.765146200Z"
    }
   }
  },
  {
   "cell_type": "code",
   "execution_count": 17,
   "outputs": [],
   "source": [
    "#Rename columns\n",
    "reviews = reviews.rename(columns={'level_0':'role_id','level_1':'review_id'})\n",
    "reviews['review_id'] = reviews['review_id'] + 1"
   ],
   "metadata": {
    "collapsed": false,
    "ExecuteTime": {
     "end_time": "2023-09-19T09:27:25.802839400Z",
     "start_time": "2023-09-19T09:27:25.260602500Z"
    }
   }
  },
  {
   "cell_type": "code",
   "execution_count": 18,
   "outputs": [
    {
     "data": {
      "text/plain": "  role_id  review_id                                       url idvscore  \\\n0  expert          1  https://www.metacritic.com/movie/bronson      100   \n1  expert          2  https://www.metacritic.com/movie/bronson       90   \n2  expert          3  https://www.metacritic.com/movie/bronson       90   \n3  expert          4  https://www.metacritic.com/movie/bronson       83   \n4  expert          5  https://www.metacritic.com/movie/bronson       80   \n\n             reviewer  dateP  \\\n0    \"Andrew O'Hehir\"   None   \n1        'A.O. Scott'   None   \n2                None   None   \n3       'Noel Murray'   None   \n4   'Joshua Rothkopf'   None   \n\n                                                 Rev    WC  posemo  negemo  \n0   'Bronson owes a little or a lot to Kubrick s ...  25.0    0.00    0.00  \n1   'Bronson invites you to admire its protagonis...  30.0    6.67    0.00  \n2   'Whether it s Peterson/Bronson s more theatri...  40.0    0.00    2.50  \n3   'There are two Bronsons on display here: the ...  39.0    5.13    5.13  \n4   'Refn has somehow found his way to an authent...  24.0    0.00    0.00  ",
      "text/html": "<div>\n<style scoped>\n    .dataframe tbody tr th:only-of-type {\n        vertical-align: middle;\n    }\n\n    .dataframe tbody tr th {\n        vertical-align: top;\n    }\n\n    .dataframe thead th {\n        text-align: right;\n    }\n</style>\n<table border=\"1\" class=\"dataframe\">\n  <thead>\n    <tr style=\"text-align: right;\">\n      <th></th>\n      <th>role_id</th>\n      <th>review_id</th>\n      <th>url</th>\n      <th>idvscore</th>\n      <th>reviewer</th>\n      <th>dateP</th>\n      <th>Rev</th>\n      <th>WC</th>\n      <th>posemo</th>\n      <th>negemo</th>\n    </tr>\n  </thead>\n  <tbody>\n    <tr>\n      <th>0</th>\n      <td>expert</td>\n      <td>1</td>\n      <td>https://www.metacritic.com/movie/bronson</td>\n      <td>100</td>\n      <td>\"Andrew O'Hehir\"</td>\n      <td>None</td>\n      <td>'Bronson owes a little or a lot to Kubrick s ...</td>\n      <td>25.0</td>\n      <td>0.00</td>\n      <td>0.00</td>\n    </tr>\n    <tr>\n      <th>1</th>\n      <td>expert</td>\n      <td>2</td>\n      <td>https://www.metacritic.com/movie/bronson</td>\n      <td>90</td>\n      <td>'A.O. Scott'</td>\n      <td>None</td>\n      <td>'Bronson invites you to admire its protagonis...</td>\n      <td>30.0</td>\n      <td>6.67</td>\n      <td>0.00</td>\n    </tr>\n    <tr>\n      <th>2</th>\n      <td>expert</td>\n      <td>3</td>\n      <td>https://www.metacritic.com/movie/bronson</td>\n      <td>90</td>\n      <td>None</td>\n      <td>None</td>\n      <td>'Whether it s Peterson/Bronson s more theatri...</td>\n      <td>40.0</td>\n      <td>0.00</td>\n      <td>2.50</td>\n    </tr>\n    <tr>\n      <th>3</th>\n      <td>expert</td>\n      <td>4</td>\n      <td>https://www.metacritic.com/movie/bronson</td>\n      <td>83</td>\n      <td>'Noel Murray'</td>\n      <td>None</td>\n      <td>'There are two Bronsons on display here: the ...</td>\n      <td>39.0</td>\n      <td>5.13</td>\n      <td>5.13</td>\n    </tr>\n    <tr>\n      <th>4</th>\n      <td>expert</td>\n      <td>5</td>\n      <td>https://www.metacritic.com/movie/bronson</td>\n      <td>80</td>\n      <td>'Joshua Rothkopf'</td>\n      <td>None</td>\n      <td>'Refn has somehow found his way to an authent...</td>\n      <td>24.0</td>\n      <td>0.00</td>\n      <td>0.00</td>\n    </tr>\n  </tbody>\n</table>\n</div>"
     },
     "execution_count": 18,
     "metadata": {},
     "output_type": "execute_result"
    }
   ],
   "source": [
    "# Use datatype and head command to look at the results\n",
    "type(reviews)\n",
    "\n",
    "# Operation successful\n",
    "reviews.head()"
   ],
   "metadata": {
    "collapsed": false,
    "ExecuteTime": {
     "end_time": "2023-09-19T09:27:25.873272400Z",
     "start_time": "2023-09-19T09:27:25.802839400Z"
    }
   }
  },
  {
   "cell_type": "code",
   "execution_count": 19,
   "outputs": [
    {
     "data": {
      "text/plain": "   review_id                                       url  posemo  negemo\n0          1  https://www.metacritic.com/movie/bronson    0.00    0.00\n1          2  https://www.metacritic.com/movie/bronson    6.67    0.00\n2          3  https://www.metacritic.com/movie/bronson    0.00    2.50\n3          4  https://www.metacritic.com/movie/bronson    5.13    5.13\n4          5  https://www.metacritic.com/movie/bronson    0.00    0.00",
      "text/html": "<div>\n<style scoped>\n    .dataframe tbody tr th:only-of-type {\n        vertical-align: middle;\n    }\n\n    .dataframe tbody tr th {\n        vertical-align: top;\n    }\n\n    .dataframe thead th {\n        text-align: right;\n    }\n</style>\n<table border=\"1\" class=\"dataframe\">\n  <thead>\n    <tr style=\"text-align: right;\">\n      <th></th>\n      <th>review_id</th>\n      <th>url</th>\n      <th>posemo</th>\n      <th>negemo</th>\n    </tr>\n  </thead>\n  <tbody>\n    <tr>\n      <th>0</th>\n      <td>1</td>\n      <td>https://www.metacritic.com/movie/bronson</td>\n      <td>0.00</td>\n      <td>0.00</td>\n    </tr>\n    <tr>\n      <th>1</th>\n      <td>2</td>\n      <td>https://www.metacritic.com/movie/bronson</td>\n      <td>6.67</td>\n      <td>0.00</td>\n    </tr>\n    <tr>\n      <th>2</th>\n      <td>3</td>\n      <td>https://www.metacritic.com/movie/bronson</td>\n      <td>0.00</td>\n      <td>2.50</td>\n    </tr>\n    <tr>\n      <th>3</th>\n      <td>4</td>\n      <td>https://www.metacritic.com/movie/bronson</td>\n      <td>5.13</td>\n      <td>5.13</td>\n    </tr>\n    <tr>\n      <th>4</th>\n      <td>5</td>\n      <td>https://www.metacritic.com/movie/bronson</td>\n      <td>0.00</td>\n      <td>0.00</td>\n    </tr>\n  </tbody>\n</table>\n</div>"
     },
     "execution_count": 19,
     "metadata": {},
     "output_type": "execute_result"
    }
   ],
   "source": [
    "# Drop columns that we don't need\n",
    "# Make changes permanent by using 'inplace=True'\n",
    "reviews.drop(columns=['role_id','idvscore','reviewer','dateP','Rev','WC'],inplace=True)\n",
    "reviews.head()"
   ],
   "metadata": {
    "collapsed": false,
    "ExecuteTime": {
     "end_time": "2023-09-19T09:27:26.167030300Z",
     "start_time": "2023-09-19T09:27:25.882193Z"
    }
   }
  },
  {
   "cell_type": "code",
   "execution_count": 3,
   "outputs": [
    {
     "ename": "NameError",
     "evalue": "name 'meta_clean' is not defined",
     "output_type": "error",
     "traceback": [
      "\u001B[1;31m---------------------------------------------------------------------------\u001B[0m",
      "\u001B[1;31mNameError\u001B[0m                                 Traceback (most recent call last)",
      "\u001B[1;32m~\\AppData\\Local\\Temp\\ipykernel_14876\\2411011668.py\u001B[0m in \u001B[0;36m<module>\u001B[1;34m\u001B[0m\n\u001B[0;32m      3\u001B[0m     \u001B[0mprint\u001B[0m\u001B[1;33m(\u001B[0m\u001B[1;34mf\"Maximum character length of column {column_name} is {max_length} characters\"\u001B[0m\u001B[1;33m)\u001B[0m\u001B[1;33m\u001B[0m\u001B[1;33m\u001B[0m\u001B[0m\n\u001B[0;32m      4\u001B[0m \u001B[1;33m\u001B[0m\u001B[0m\n\u001B[1;32m----> 5\u001B[1;33m \u001B[0mprint_max_length\u001B[0m\u001B[1;33m(\u001B[0m\u001B[0mmeta_clean\u001B[0m\u001B[1;33m,\u001B[0m \u001B[1;34m'movie_id'\u001B[0m\u001B[1;33m)\u001B[0m\u001B[1;33m\u001B[0m\u001B[1;33m\u001B[0m\u001B[0m\n\u001B[0m",
      "\u001B[1;31mNameError\u001B[0m: name 'meta_clean' is not defined"
     ]
    }
   ],
   "source": [],
   "metadata": {
    "collapsed": false,
    "ExecuteTime": {
     "end_time": "2023-09-20T13:55:23.912447300Z",
     "start_time": "2023-09-20T13:55:23.852610700Z"
    }
   }
  }
 ],
 "metadata": {
  "kernelspec": {
   "display_name": "Python 3",
   "language": "python",
   "name": "python3"
  },
  "language_info": {
   "codemirror_mode": {
    "name": "ipython",
    "version": 2
   },
   "file_extension": ".py",
   "mimetype": "text/x-python",
   "name": "python",
   "nbconvert_exporter": "python",
   "pygments_lexer": "ipython2",
   "version": "2.7.6"
  }
 },
 "nbformat": 4,
 "nbformat_minor": 0
}
