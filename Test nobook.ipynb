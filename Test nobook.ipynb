{
 "cells": [
  {
   "cell_type": "markdown",
   "metadata": {},
   "source": [
    "String splitting and applying this to the database"
   ]
  },
  {
   "cell_type": "code",
   "execution_count": 1,
   "metadata": {},
   "outputs": [
    {
     "name": "stdout",
     "output_type": "stream",
     "text": [
      "Antitrust\n"
     ]
    }
   ],
   "source": [
    "url = \"https://www.the-numbers.com/movie/Antitrust\"\n",
    "\n",
    "# Split the string by \"/\"\n",
    "parts = url.split(\"/\")\n",
    "\n",
    "# Get the last part of the split string\n",
    "last_part = parts[-1]\n",
    "\n",
    "print(last_part)"
   ]
  },
  {
   "cell_type": "code",
   "execution_count": 5,
   "metadata": {},
   "outputs": [
    {
     "name": "stdout",
     "output_type": "stream",
     "text": [
      "                                           URL      Title\n",
      "0  https://www.the-numbers.com/movie/Antitrust  antitrust\n",
      "1  https://www.the-numbers.com/movie/Inception  inception\n",
      "2     https://www.the-numbers.com/movie/Matrix     matrix\n"
     ]
    }
   ],
   "source": [
    "import pandas as pd\n",
    "\n",
    "# Sample DataFrame\n",
    "data = {'URL': [\n",
    "    \"https://www.the-numbers.com/movie/Antitrust\",\n",
    "    \"https://www.the-numbers.com/movie/Inception\",\n",
    "    \"https://www.the-numbers.com/movie/Matrix\"\n",
    "]}\n",
    "\n",
    "movie_id = pd.DataFrame(data)\n",
    "\n",
    "# Split the \"URL\" column by \"/\"\n",
    "movie_id['Title'] = movie_id['URL'].str.split('/').str.get(-1)\n",
    "\n",
    "# Lowercase the strings\n",
    "movie_id['Title'] = movie_id['Title'].str.lower()\n",
    "\n",
    "# Print the updated data frame\n",
    "print(movie_id)\n"
   ]
  },
  {
   "cell_type": "code",
   "execution_count": 8,
   "metadata": {},
   "outputs": [],
   "source": [
    "s = r\"C:\\Users\\Martijn\\OneDrive\\Documents\\HvA Master Digital Driven Business\\Group assignment Database Management\\Week 1\\Week 2\""
   ]
  },
  {
   "cell_type": "code",
   "execution_count": 9,
   "metadata": {},
   "outputs": [
    {
     "data": {
      "text/plain": [
       "'c:\\\\users\\\\martijn\\\\onedrive\\\\documents\\\\hva master digital driven business\\\\group assignment database management\\\\week 1\\\\week 2'"
      ]
     },
     "execution_count": 9,
     "metadata": {},
     "output_type": "execute_result"
    }
   ],
   "source": [
    "s.lower()"
   ]
  },
  {
   "cell_type": "code",
   "execution_count": null,
   "metadata": {},
   "outputs": [],
   "source": []
  }
 ],
 "metadata": {
  "kernelspec": {
   "display_name": "Python 3",
   "language": "python",
   "name": "python3"
  },
  "language_info": {
   "codemirror_mode": {
    "name": "ipython",
    "version": 3
   },
   "file_extension": ".py",
   "mimetype": "text/x-python",
   "name": "python",
   "nbconvert_exporter": "python",
   "pygments_lexer": "ipython3",
   "version": "3.10.11"
  },
  "orig_nbformat": 4
 },
 "nbformat": 4,
 "nbformat_minor": 2
}
